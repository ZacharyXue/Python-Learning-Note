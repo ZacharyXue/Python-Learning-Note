{
  "nbformat": 4,
  "nbformat_minor": 0,
  "metadata": {
    "colab": {
      "name": "决策树.ipynb",
      "provenance": [],
      "collapsed_sections": [],
      "toc_visible": true,
      "authorship_tag": "ABX9TyPSFNKeMrALQtnxW2B++f8k",
      "include_colab_link": true
    },
    "kernelspec": {
      "name": "python3",
      "display_name": "Python 3"
    },
    "language_info": {
      "name": "python"
    }
  },
  "cells": [
    {
      "cell_type": "markdown",
      "metadata": {
        "id": "view-in-github",
        "colab_type": "text"
      },
      "source": [
        "<a href=\"https://colab.research.google.com/github/ZacharyXue/Code-Backup/blob/main/%E5%86%B3%E7%AD%96%E6%A0%91.ipynb\" target=\"_parent\"><img src=\"https://colab.research.google.com/assets/colab-badge.svg\" alt=\"Open In Colab\"/></a>"
      ]
    },
    {
      "cell_type": "markdown",
      "metadata": {
        "id": "k5xdeimC9bS5"
      },
      "source": [
        "# 决策树基本概念\n",
        "\n",
        "\n",
        "决策树可以被认为是if-then规则的集合，是通过树结构来进行决策判断。\n",
        "\n",
        "决策树算法的过程包括特征选择、决策树生成和决策树的剪枝。"
      ]
    },
    {
      "cell_type": "markdown",
      "metadata": {
        "id": "v8YZcPJTUDi9"
      },
      "source": [
        "## 优缺点\n",
        "优点：计算复杂度不高，输出结果易理解，对中间值缺示不敏感，可以处理不相关特征数据；\n",
        "\n",
        "缺点：可能会产生过度匹配问题。"
      ]
    },
    {
      "cell_type": "markdown",
      "metadata": {
        "id": "FKZfQZOcUt3J"
      },
      "source": [
        "## 特征选择\n",
        "\n",
        "\n"
      ]
    },
    {
      "cell_type": "markdown",
      "metadata": {
        "id": "lGPVY24b-wFO"
      },
      "source": [
        "### 1. 信息增益\n",
        "\n",
        "**熵**(entropy)是度量样本集合纯度最常用的一种指标。设$X$是一个取有限个值得离散随机变量，其概率分布是：\n",
        "$$P(X=x_i)=p_i,\\qquad i = 1,2,...,n\n",
        "$$\n",
        "则$X$的信息熵定义为\n",
        "$$H(X)=-\\sum_{i=1}^n p_i log_2 p_i\n",
        "$$\n",
        "$H(X)$的值越小，$X$的不确定就越小，纯度就越高。\n",
        "\n",
        "**条件熵**(conditional entropy)$H(Y|X)$表示在已知随机变量$X$的条件下随机变量$Y$的不确定性。可以定义为\n",
        "$$H(Y|X)=\\sum_{i=1}^np_iH(Y|X=x_i)\n",
        "$$\n",
        "其中，$p_i=P(X=x_i),i=1,2,...,n$。\n",
        "\n",
        "**信息增益**(information gain) 指的是得知特征$X$的信息而使得类$Y$的信息不确定性减少的程度。特征$A$对于训练数据集$D$的信息增益$g(D,A)$可以写为\n",
        "$$g(D,A) = H(D)-H(D|A)\n",
        "$$\n",
        "\n",
        "> 更完整的公式推导见李航《统计学习方法》P72。\n",
        "\n",
        "一般而言，信息增益越大，则意味着利用特征$A$进行划分获得的“纯度提升”越大。"
      ]
    },
    {
      "cell_type": "markdown",
      "metadata": {
        "id": "fkEwrdIq-0Dw"
      },
      "source": [
        "\n",
        "### 2. 信息增益比\n",
        "\n",
        "信息增益对于可取值数目比较多的属性有所偏好，为减少这种偏好可能带来的不利影响，C4.5决策树算法中不直接使用信息增益，而是使用**信息增益比**(information gain rate)进行划分。\n",
        "\n",
        "特征$A$对数据集$D$的信息增益比$g_R(D,A)$定义为其信息增益$g(D,A)$与训练数据集$D$关于特征$A$的值的熵$H_A(D)$之比，即\n",
        "$$g_R(D,A)=\\frac{g(D,A)}{H_A(D)}\n",
        "$$\n",
        "其中，$H_A(D)=-\\sum_{i=1}^n\\frac{|D_i|}{|D|}log_2 \\frac{|D_i|}{|D|}$，$n$是特征$A$取值的个数。\n",
        "\n",
        "需要注意的是，信息增益比对于可取值数目比较少的属性有所偏好，因此C4.5算法中并不是直接使用信息增益比进行属性的划分，而是先从候选划分属性中找到信息增益高于平均水平的属性，再从中选取信息增益比最高的属性。\n",
        "\n",
        "> 见周志华《机器学习》P78"
      ]
    },
    {
      "cell_type": "markdown",
      "metadata": {
        "id": "wbQmqetf-3IM"
      },
      "source": [
        "\n",
        "### 3. 基尼指数\n",
        "\n",
        "在CART决策树中使用**基尼指数**(Gini index)来进行属性的划分。\n",
        "\n",
        "在分类问题中假设有K个类别，样本属于第k类的概率为$p_k$，则概率分布的基尼指数可以定义为：\n",
        "$$Gini(p)=\\sum_{k=1}^K p_k(1-p_k)=1-\\sum_{k=1}^Kp_k^2\n",
        "$$\n",
        "\n",
        "对于给定样本集$D$，其基尼指数$Gini(D)=1-\\sum_{k=1}^K(\\frac{|C_k|}{|D|})^2$，其中$C_k$是$D$中属于第$k$类的样本子集，$K$是类的个数。\n",
        "\n",
        "如果样本集$D$根据特征$A$是否取某一可能值$a$被分割为$D_1$和$D_2$，则在特征$A$的条件下，集合$D$的基尼指数定义为\n",
        "$$Gini(D,A)=\\frac{|D_1|}{|D|}Gini(D_1)+\\frac{|D_2|}{|D|}Gini(D_2)\n",
        "$$\n",
        "\n",
        "基尼指数数值越大，样本集合的不确定也就越大，这和之前的熵相同。"
      ]
    },
    {
      "cell_type": "markdown",
      "metadata": {
        "id": "xgBNIkBE-Ris"
      },
      "source": [
        "## 决策树的生成\n",
        "\n",
        "三种不同的决策树主要区别在于使用的划分准则不同，停止的依据基本相同：结点中样本数小于预定阈值，或划分准则值小于阈值，或者没有更多特征。"
      ]
    },
    {
      "cell_type": "markdown",
      "metadata": {
        "id": "P54LqasO-mSd"
      },
      "source": [
        "### 1. ID3算法\n",
        "\n",
        "ID3算法的核心是在决策树各个节点上应用信息增益准则进行选择特征，迭代构建决策树。具体做法是：从根节点开始，对结点计算所有可能的特征的信息增益，选择信息增益最大的特征作为结点的特征，由该特征的不同取值构建子结点；再对子结点递归调用以上方法，构建决策树。"
      ]
    },
    {
      "cell_type": "markdown",
      "metadata": {
        "id": "GHbVelQAHtOU"
      },
      "source": [
        "### 2. C4.5算法\n",
        "\n",
        "这里李航的《统计学习方法》中介绍是将特征选择的标准换为信息增益比，这和和周志华《机器学习》中有些出入。\n",
        "\n",
        "周志华《机器学习》中的讲解是：先从候选划分属性中找到信息增益高于平均水平的属性，再从中选择增益率最高的。"
      ]
    },
    {
      "cell_type": "markdown",
      "metadata": {
        "id": "iz4p1nJyIdnb"
      },
      "source": [
        "### 3. CART算法\n",
        "\n",
        "这里只记录CART分类树，回归树看李航《统计学习方法》P81.\n",
        "\n",
        "CART分类树是计算现有特征对数据集的基尼指数，然后选择基尼指数最小的特征作为最优特征进行切分，然后进行迭代至满足停止条件。"
      ]
    },
    {
      "cell_type": "markdown",
      "metadata": {
        "id": "jUxc8UplLG0-"
      },
      "source": [
        "## 决策树的剪枝\n",
        "\n",
        "周志华《机器学习》中讲述的不论预剪枝还是后剪枝，思路都是利用验证集对决策树进行泛化性能的优化。\n",
        "\n",
        "而在李航《统计学习方法》中对侧重的是对于损失函数的优化。而其损失函数为$C_\\alpha(T)=C(T)+\\alpha|T|$，其中第一项为训练数据的预测误差（例如基尼指数等），后一项为子树结点个数。\n"
      ]
    },
    {
      "cell_type": "markdown",
      "metadata": {
        "id": "NVE2gGZ3U3dV"
      },
      "source": [
        "# 决策树的构建"
      ]
    },
    {
      "cell_type": "code",
      "metadata": {
        "id": "wufK84229YYb"
      },
      "source": [
        "from collections import Counter\n",
        "import numpy as np\n",
        "import pandas as pd\n",
        "# import operator"
      ],
      "execution_count": null,
      "outputs": []
    },
    {
      "cell_type": "markdown",
      "metadata": {
        "id": "Um3eiy8MkIFw"
      },
      "source": [
        "## 测试数据集"
      ]
    },
    {
      "cell_type": "code",
      "metadata": {
        "id": "4lhX1OWFizmM"
      },
      "source": [
        "def createDataSet():\n",
        "    dataSet = [[0, 0, 0, 0, 'no'],         #数据集\n",
        "            [0, 0, 0, 1, 'no'],\n",
        "            [0, 1, 0, 1, 'yes'],\n",
        "            [0, 1, 1, 0, 'yes'],\n",
        "            [0, 0, 0, 0, 'no'],\n",
        "            [1, 0, 0, 0, 'no'],\n",
        "            [1, 0, 0, 1, 'no'],\n",
        "            [1, 1, 1, 1, 'yes'],\n",
        "            [1, 0, 1, 2, 'yes'],\n",
        "            [1, 0, 1, 2, 'yes'],\n",
        "            [2, 0, 1, 2, 'yes'],\n",
        "            [2, 0, 1, 1, 'yes'],\n",
        "            [2, 1, 0, 1, 'yes'],\n",
        "            [2, 1, 0, 2, 'yes'],\n",
        "            [2, 0, 0, 0, 'no']]\n",
        "    labels = ['年龄', '有工作', '有自己的房子', '信贷情况']            \n",
        "    return dataSet, labels                #返回数据集和分类属性"
      ],
      "execution_count": null,
      "outputs": []
    },
    {
      "cell_type": "markdown",
      "metadata": {
        "id": "PMcFfoPckLR_"
      },
      "source": [
        "## 香农熵函数"
      ]
    },
    {
      "cell_type": "code",
      "metadata": {
        "id": "RpHG2KOCgLFE"
      },
      "source": [
        "def calcShannonEnt(dataSet):\n",
        "  numData = len(dataSet)\n",
        "  d = Counter([data[-1] for data in dataSet]).most_common()\n",
        "  prob = np.array([data[-1] for data in d],dtype=np.float32) / numData  \n",
        "  return np.sum(-prob * np.log2(prob))"
      ],
      "execution_count": null,
      "outputs": []
    },
    {
      "cell_type": "markdown",
      "metadata": {
        "id": "L02u6a8WkOzf"
      },
      "source": [
        "进行测试"
      ]
    },
    {
      "cell_type": "code",
      "metadata": {
        "colab": {
          "base_uri": "https://localhost:8080/"
        },
        "id": "qHk3rtqDi4uY",
        "outputId": "b07475ee-e6d0-441a-84c4-8e2f99ed8c97"
      },
      "source": [
        "dataSet, features = createDataSet()\n",
        "calcShannonEnt(dataSet)"
      ],
      "execution_count": null,
      "outputs": [
        {
          "output_type": "execute_result",
          "data": {
            "text/plain": [
              "0.9709506"
            ]
          },
          "metadata": {
            "tags": []
          },
          "execution_count": 14
        }
      ]
    },
    {
      "cell_type": "markdown",
      "metadata": {
        "id": "BIgr-N4UDmvw"
      },
      "source": [
        "## 信息增益\n",
        "\n",
        "计算信息增益，首先要进行样本集的划分。"
      ]
    },
    {
      "cell_type": "code",
      "metadata": {
        "id": "NnvffQ_WD2f4"
      },
      "source": [
        "def chooseBestFeatureToSplit(dataSet):\n",
        "  numFeatures = len(dataSet[0])-1 # 这里减一的原因是dataSet最后一行是标签\n",
        "  numData = len(dataSet)\n",
        "  baseEntropy = calcShannonEnt(dataSet)\n",
        "  bestInfoGain = 0.0                     \n",
        "  bestFeature = -1  \n",
        "  for i in range(numFeatures):\n",
        "    featureVals = set([data[i] for data in dataSet])\n",
        "    newEntropy = 0.0                                 \n",
        "    for value in featureVals:\n",
        "      # 原代码中使用了一个函数来实现该功能感觉没必要，\n",
        "      # 现在唯一的区别是subDataSet未去掉特征i（在这里不影响）\n",
        "      subDataSet = [data for data in dataSet if data[i]==value]\n",
        "      prob = len(subDataSet) / numData\n",
        "      newEntropy += prob * calcShannonEnt(subDataSet)\n",
        "    infoGain = baseEntropy - newEntropy \n",
        "    # print(\"第%d个特征的增益为%.3f\" % (i, infoGain))\n",
        "    if (infoGain > bestInfoGain):                             \n",
        "      bestInfoGain = infoGain                            \n",
        "      bestFeature = i                                     \n",
        "  return bestFeature    "
      ],
      "execution_count": null,
      "outputs": []
    },
    {
      "cell_type": "code",
      "metadata": {
        "colab": {
          "base_uri": "https://localhost:8080/"
        },
        "id": "XxbkdKs6GSYq",
        "outputId": "c9e10042-a845-4fdf-9cf8-959b973b07ae"
      },
      "source": [
        "chooseBestFeatureToSplit(dataSet)"
      ],
      "execution_count": null,
      "outputs": [
        {
          "output_type": "stream",
          "text": [
            "The feature values is {0, 1, 2}\n",
            "第0个特征的增益为0.083\n",
            "The feature values is {0, 1}\n",
            "第1个特征的增益为0.324\n",
            "The feature values is {0, 1}\n",
            "第2个特征的增益为0.420\n",
            "The feature values is {0, 1, 2}\n",
            "第3个特征的增益为0.363\n"
          ],
          "name": "stdout"
        },
        {
          "output_type": "execute_result",
          "data": {
            "text/plain": [
              "2"
            ]
          },
          "metadata": {
            "tags": []
          },
          "execution_count": 55
        }
      ]
    },
    {
      "cell_type": "markdown",
      "metadata": {
        "id": "yaO3VBadNquY"
      },
      "source": [
        "记录自己犯的一个简单错误：\n",
        "\n",
        "开始的时候在获得某一特征值的集合时自己的写法是`set(dataSet[:][i])`，但实际上这个效果等同于`set(dataSet[i])`，自己有点把他等同于numpy数组之类的了。"
      ]
    },
    {
      "cell_type": "code",
      "metadata": {
        "colab": {
          "base_uri": "https://localhost:8080/"
        },
        "id": "RI8F7Ut1G10f",
        "outputId": "33d91565-8232-402d-f011-1bd85c8c92ba"
      },
      "source": [
        "dataSet[:][1]"
      ],
      "execution_count": null,
      "outputs": [
        {
          "output_type": "execute_result",
          "data": {
            "text/plain": [
              "[0, 0, 0, 1, 'no']"
            ]
          },
          "metadata": {
            "tags": []
          },
          "execution_count": 56
        }
      ]
    },
    {
      "cell_type": "markdown",
      "metadata": {
        "id": "1gEOCojCbZ2a"
      },
      "source": [
        "## 创建决策树\n",
        "\n",
        "这里首先的问题是当数据集已经处理了所有的属性，类标签依然不唯一。这种情况下通常会使用多数表决的方法决定该叶子节点的分类。\n",
        "\n",
        "书中用到的operator函数：\n",
        "\n",
        "[`operator.itemgetter(*items)`](https://docs.python.org/3/library/operator.html?highlight=operator%20itemgetter#operator.itemgetter)：Return a callable object that fetches item from its operand **using the operand’s `__getitem__()` method**. If multiple items are specified, returns a tuple of lookup values. For example:\n",
        "\n",
        "- After f = itemgetter(2), the call f(r) returns r[2].\n",
        "\n",
        "- After g = itemgetter(2, 5, 3), the call g(r) returns (r[2], r[5], r[3]).\n",
        "\n",
        "但是我这里感觉直接用`Counter`更直接更简洁，不过为了和书中代码一致，还是把这个放在`majorityCnt()`函数中。"
      ]
    },
    {
      "cell_type": "code",
      "metadata": {
        "id": "etLr5EhobzWt"
      },
      "source": [
        "def majorityCnt(classList):\n",
        "  counts = Counter(classList)\n",
        "  return counts.most_common(1)[0]"
      ],
      "execution_count": null,
      "outputs": []
    },
    {
      "cell_type": "markdown",
      "metadata": {
        "id": "An4Zgje9cuXp"
      },
      "source": [
        "之后就可以创建决策树："
      ]
    },
    {
      "cell_type": "code",
      "metadata": {
        "id": "e8ZnC-eqc-UT"
      },
      "source": [
        "def createTree(dataSet,labels):\n",
        "  classList = [data[-1] for data in dataSet]\n",
        "  # 当该结点元素只有一个分类时停止分类\n",
        "  if classList.count(classList[0]) == len(classList):\n",
        "    return classList[0]\n",
        "  # 当所有特征均使用后则投票决定结点类别\n",
        "  if len(dataSet[0]) == 1:\n",
        "    return majorityCnt(classList)\n",
        "  # 找到现阶段信息增益最大的特征\n",
        "  bestFeat = chooseBestFeatureToSplit(dataSet)\n",
        "  # 找到相应标签\n",
        "  bestFeatLabel = labels[bestFeat]\n",
        "  # 初始化树\n",
        "  myTree = {bestFeatLabel:{}}\n",
        "  del labels[bestFeat]\n",
        "  # 找到该特征所有可能\n",
        "  uniqueVals = set([data[bestFeat] for data in dataSet])\n",
        "  for value in uniqueVals:\n",
        "    # 创建子树的标签和数据集\n",
        "    sublabels = labels[:]\n",
        "    subdataSet = [data[:bestFeat]+data[bestFeat+1:] \\\n",
        "                  for data in dataSet if data[bestFeat]==value]\n",
        "    myTree[bestFeatLabel][value] = createTree(subdataSet,sublabels)\n",
        "  return myTree"
      ],
      "execution_count": null,
      "outputs": []
    },
    {
      "cell_type": "markdown",
      "metadata": {
        "id": "fl95B1KAQkyZ"
      },
      "source": [
        "注意创建树的过程，虽然看着简单，但是还是很有逻辑，需要注意的。"
      ]
    },
    {
      "cell_type": "code",
      "metadata": {
        "colab": {
          "base_uri": "https://localhost:8080/"
        },
        "id": "e3RfBI_xwOCN",
        "outputId": "ad05a8aa-5833-4436-d44a-493207a342f6"
      },
      "source": [
        "dataSet, labels = createDataSet()\n",
        "temp_labels = labels[:]\n",
        "myTree = createTree(dataSet, temp_labels)\n",
        "myTree"
      ],
      "execution_count": null,
      "outputs": [
        {
          "output_type": "execute_result",
          "data": {
            "text/plain": [
              "{'有自己的房子': {0: {'有工作': {0: 'no', 1: 'yes'}}, 1: 'yes'}}"
            ]
          },
          "metadata": {
            "tags": []
          },
          "execution_count": 39
        }
      ]
    },
    {
      "cell_type": "markdown",
      "metadata": {
        "id": "of4IVAK0JdTa"
      },
      "source": [
        "# 决策树可视化\n",
        "\n",
        "可视化需要用到的函数：\n",
        "\n",
        "- getNumLeafs：获取决策树叶子结点的数目\n",
        "- getTreeDepth：获取决策树的层数\n",
        "- plotNode：绘制结点\n",
        "- plotMidText：标注有向边属性值\n",
        "- plotTree：绘制决策树\n",
        "- createPlot：创建绘制面板\n",
        "\n",
        "参考[机器学习实战教程（三）：决策树实战篇之为自己配个隐形眼镜](https://cuijiahua.com/blog/2017/11/ml_3_decision_tree_2.html)"
      ]
    },
    {
      "cell_type": "code",
      "metadata": {
        "id": "yd6y5p8gGQLd"
      },
      "source": [
        "!wget -O /usr/share/fonts/truetype/liberation/simhei.ttf \"https://www.wfonts.com/download/data/2014/06/01/simhei/chinese.simhei.ttf\""
      ],
      "execution_count": null,
      "outputs": []
    },
    {
      "cell_type": "code",
      "metadata": {
        "id": "c28eLVFdwVmz"
      },
      "source": [
        "import matplotlib.pyplot as plt\n",
        "%matplotlib inline"
      ],
      "execution_count": null,
      "outputs": []
    },
    {
      "cell_type": "code",
      "metadata": {
        "id": "uq3vKbmoGY0P"
      },
      "source": [
        "import matplotlib as mpl\n",
        "zhfont = mpl.font_manager.FontProperties(fname='/usr/share/fonts/truetype/liberation/simhei.ttf')\n",
        "plt.rcParams['axes.unicode_minus'] = False"
      ],
      "execution_count": null,
      "outputs": []
    },
    {
      "cell_type": "code",
      "metadata": {
        "id": "XU62uMhMCrCW"
      },
      "source": [
        "def getNumLeafs(myTree):\n",
        "    numLeafs = 0  \n",
        "    # python3中myTree.keys()返回的是dict_keys,不在是list,\n",
        "    # 所以不能使用myTree.keys()[0]的方法获取结点属性，\n",
        "    # 可以使用list(myTree.keys())[0]                                              \n",
        "    firstStr = next(iter(myTree))                               \n",
        "    secondDict = myTree[firstStr]                                \n",
        "    for key in secondDict.keys():\n",
        "        # 判断子结点是否包含其他子结点\n",
        "        if type(secondDict[key]).__name__=='dict':                \n",
        "            numLeafs += getNumLeafs(secondDict[key])\n",
        "        else:   numLeafs +=1\n",
        "    return numLeafs"
      ],
      "execution_count": null,
      "outputs": []
    },
    {
      "cell_type": "code",
      "metadata": {
        "id": "dpqnF8FPDiKi"
      },
      "source": [
        "def getTreeDepth(myTree):\n",
        "    maxDepth = 0                                               \n",
        "    firstStr = next(iter(myTree))                                \n",
        "    secondDict = myTree[firstStr]                                \n",
        "    for key in secondDict.keys():\n",
        "        if type(secondDict[key]).__name__=='dict':                \n",
        "            thisDepth = 1 + getTreeDepth(secondDict[key])\n",
        "        else:   thisDepth = 1\n",
        "        if thisDepth > maxDepth: maxDepth = thisDepth          \n",
        "    return maxDepth"
      ],
      "execution_count": null,
      "outputs": []
    },
    {
      "cell_type": "code",
      "metadata": {
        "id": "ENlKG9Y2D4Sz"
      },
      "source": [
        "def plotNode(nodeTxt, centerPt, parentPt, nodeType):\n",
        "    arrow_args = dict(arrowstyle=\"<-\")                                                \n",
        "    createPlot.ax1.annotate(nodeTxt,xy=parentPt,xycoords='axes fraction',   \n",
        "        xytext=centerPt,textcoords='axes fraction',\n",
        "        va=\"center\",ha=\"center\",bbox=nodeType,arrowprops=arrow_args,\n",
        "        FontProperties=zhfont)"
      ],
      "execution_count": null,
      "outputs": []
    },
    {
      "cell_type": "code",
      "metadata": {
        "id": "JLeVOsfrEMc5"
      },
      "source": [
        "def plotMidText(cntrPt, parentPt, txtString):\n",
        "    xMid = (parentPt[0]-cntrPt[0])/2.0 + cntrPt[0]     \n",
        "    yMid = (parentPt[1]-cntrPt[1])/2.0 + cntrPt[1]\n",
        "    createPlot.ax1.text(xMid, yMid, txtString, va=\"center\", ha=\"center\", rotation=30)"
      ],
      "execution_count": null,
      "outputs": []
    },
    {
      "cell_type": "code",
      "metadata": {
        "id": "p1TU3IJREXn5"
      },
      "source": [
        "def plotTree(myTree, parentPt, nodeTxt):\n",
        "    decisionNode = dict(boxstyle=\"sawtooth\", fc=\"0.8\")  \n",
        "    leafNode = dict(boxstyle=\"round4\", fc=\"0.8\")\n",
        "    numLeafs = getNumLeafs(myTree)      \n",
        "    depth = getTreeDepth(myTree)              \n",
        "    firstStr = next(iter(myTree))                  \n",
        "    cntrPt = (plotTree.xOff + (1.0 + float(numLeafs))/2.0/plotTree.totalW, plotTree.yOff)   \n",
        "    plotMidText(cntrPt, parentPt, nodeTxt)         \n",
        "    plotNode(firstStr, cntrPt, parentPt, decisionNode)  \n",
        "    secondDict = myTree[firstStr] \n",
        "    plotTree.yOff = plotTree.yOff - 1.0/plotTree.totalD                                       \n",
        "    for key in secondDict.keys():\n",
        "        if type(secondDict[key]).__name__=='dict':                \n",
        "            plotTree(secondDict[key],cntrPt,str(key))\n",
        "        else:                                     \n",
        "            plotTree.xOff = plotTree.xOff + 1.0/plotTree.totalW\n",
        "            plotNode(secondDict[key], (plotTree.xOff, plotTree.yOff), cntrPt, leafNode)\n",
        "            plotMidText((plotTree.xOff, plotTree.yOff), cntrPt, str(key))\n",
        "    plotTree.yOff = plotTree.yOff + 1.0/plotTree.totalD"
      ],
      "execution_count": null,
      "outputs": []
    },
    {
      "cell_type": "code",
      "metadata": {
        "id": "JBvhw-2KFPYC"
      },
      "source": [
        "def createPlot(inTree):\n",
        "    fig = plt.figure(1, facecolor='white')\n",
        "    fig.clf()                \n",
        "    axprops = dict(xticks=[], yticks=[])\n",
        "    createPlot.ax1 = plt.subplot(111, frameon=False, **axprops) \n",
        "    plotTree.totalW = float(getNumLeafs(inTree))         \n",
        "    plotTree.totalD = float(getTreeDepth(inTree))         \n",
        "    plotTree.xOff = -0.5/plotTree.totalW; plotTree.yOff = 1.0;             \n",
        "    plotTree(inTree, (0.5,1.0), '')                    \n",
        "    plt.show() "
      ],
      "execution_count": null,
      "outputs": []
    },
    {
      "cell_type": "code",
      "metadata": {
        "colab": {
          "base_uri": "https://localhost:8080/",
          "height": 257
        },
        "id": "0u3yBGOwFe28",
        "outputId": "473167ca-cedd-4928-a881-70ee62de4346"
      },
      "source": [
        "createPlot(myTree)"
      ],
      "execution_count": null,
      "outputs": [
        {
          "output_type": "display_data",
          "data": {
            "image/png": "[encoded data removed]",
            "text/plain": [
              "<Figure size 432x288 with 1 Axes>"
            ]
          },
          "metadata": {
            "tags": []
          }
        }
      ]
    },
    {
      "cell_type": "markdown",
      "metadata": {
        "id": "s7E1KKRMHGdR"
      },
      "source": [
        "matplot是真的不熟悉，之后一定要仔细看看。"
      ]
    },
    {
      "cell_type": "markdown",
      "metadata": {
        "id": "jI6REzX9HLDC"
      },
      "source": [
        "# 决策树分类"
      ]
    },
    {
      "cell_type": "code",
      "metadata": {
        "id": "YMEjFU_kHWQT"
      },
      "source": [
        "def classify(inputTree,featLabels,testVec):\n",
        "  firstStr = next(iter(inputTree))\n",
        "  print(firstStr)\n",
        "  secondDict = inputTree[firstStr]\n",
        "  featIndex = featLabels.index(firstStr)\n",
        "  for key in secondDict.keys():\n",
        "    if testVec[featIndex] == key:\n",
        "      if type(secondDict[key]).__name__ == 'dict':\n",
        "        classLabel = classify(secondDict[key],featLabels,testVec)\n",
        "      else:\n",
        "        classLabel = secondDict[key]\n",
        "  return classLabel"
      ],
      "execution_count": null,
      "outputs": []
    },
    {
      "cell_type": "code",
      "metadata": {
        "colab": {
          "base_uri": "https://localhost:8080/",
          "height": 69
        },
        "id": "4P5yZNNGI_93",
        "outputId": "b93878be-6252-45cb-8ec5-442a0554a2c6"
      },
      "source": [
        "testVec = [0,1,0,0] \n",
        "classify(myTree, labels, testVec)"
      ],
      "execution_count": null,
      "outputs": [
        {
          "output_type": "stream",
          "text": [
            "有自己的房子\n",
            "有工作\n"
          ],
          "name": "stdout"
        },
        {
          "output_type": "execute_result",
          "data": {
            "application/vnd.google.colaboratory.intrinsic+json": {
              "type": "string"
            },
            "text/plain": [
              "'yes'"
            ]
          },
          "metadata": {
            "tags": []
          },
          "execution_count": 44
        }
      ]
    },
    {
      "cell_type": "markdown",
      "metadata": {
        "id": "hKCFCHFvK1sC"
      },
      "source": [
        "# 储存决策树\n",
        "\n",
        "如果不对结果进行储存的话，每一次需要预测的时候都需要重新进行训练，这样很麻烦，故需要对于训练结果进行储存，之后便可以直接进行分类了。\n",
        "\n",
        "`pickle`这个包之前也见过，[官方文档](https://docs.python.org/3/library/pickle.html?highlight=pickle#comparison-with-json)有关于pickle和json的对比，假如是我，我可能会选择json，pickle的优势在于可以保存非Python内置的类型。"
      ]
    },
    {
      "cell_type": "code",
      "metadata": {
        "id": "g8p0LpY1JlXP"
      },
      "source": [
        "import pickle\n",
        "\n",
        "def storeTree(inputTree, filename):\n",
        "    with open(filename, 'wb') as fw:\n",
        "        pickle.dump(inputTree, fw)"
      ],
      "execution_count": null,
      "outputs": []
    },
    {
      "cell_type": "code",
      "metadata": {
        "id": "HCVFQxB3LVQi"
      },
      "source": [
        "storeTree(myTree, 'classifierStorage.txt')"
      ],
      "execution_count": null,
      "outputs": []
    },
    {
      "cell_type": "code",
      "metadata": {
        "id": "gMpz2pv4LYN3"
      },
      "source": [
        "def grabTree(filename):\n",
        "    fr = open(filename, 'rb')\n",
        "    return pickle.load(fr)"
      ],
      "execution_count": null,
      "outputs": []
    },
    {
      "cell_type": "code",
      "metadata": {
        "id": "a8r6NgPILZHc"
      },
      "source": [
        "myTree = grabTree('classifierStorage.txt')"
      ],
      "execution_count": null,
      "outputs": []
    },
    {
      "cell_type": "markdown",
      "metadata": {
        "id": "TO3nqQuAL5W1"
      },
      "source": [
        "# sklearn中决策树预测隐形眼睛类型\n",
        "\n",
        "原文链接：[机器学习实战教程（三）：决策树实战篇之为自己配个隐形眼镜](https://cuijiahua.com/blog/2017/11/ml_3_decision_tree_2.html)"
      ]
    }
  ]
}