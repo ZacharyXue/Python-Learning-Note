{
  "nbformat": 4,
  "nbformat_minor": 0,
  "metadata": {
    "colab": {
      "name": "Pandas基础 笔记.ipynb",
      "provenance": [],
      "collapsed_sections": [],
      "toc_visible": true,
      "authorship_tag": "ABX9TyP9keHT9BK0hEDIe1yAtrrW",
      "include_colab_link": true
    },
    "kernelspec": {
      "name": "python3",
      "display_name": "Python 3"
    },
    "language_info": {
      "name": "python"
    }
  },
  "cells": [
    {
      "cell_type": "markdown",
      "metadata": {
        "id": "view-in-github",
        "colab_type": "text"
      },
      "source": [
        "<a href=\"https://colab.research.google.com/github/ZacharyXue/Python-Learning-Note/blob/main/Pandas%E5%9F%BA%E7%A1%80_%E7%AC%94%E8%AE%B0.ipynb\" target=\"_parent\"><img src=\"https://colab.research.google.com/assets/colab-badge.svg\" alt=\"Open In Colab\"/></a>"
      ]
    },
    {
      "cell_type": "markdown",
      "metadata": {
        "id": "b6P8X0wUIunj"
      },
      "source": [
        "摘录阿里云[Pandas基础](https://tianchi.aliyun.com/notebook-ai/detail?spm=5176.12281976.0.0.36ba1c27kOHLUY&postId=6068)，Pandas真的不是很熟悉，所以还是需要认真学习啊！\n",
        "\n",
        "# 1. 数据结构简介\n",
        "\n",
        "在pandas中有两类非常重要的数据结构，序列Series和数据框DataFrame。\n",
        "\n",
        "Series类似于numpy中的**一维数组**，除了通吃一维数组可用的函数或方法，而且其可通过索引标签的方式获取数据，还具有索引的自动对齐功能；\n",
        "\n",
        "DataFrame类似于numpy中的**二维数组**，同样可以通用numpy数组的函数和方法，而且还具有其他灵活应用。\n",
        "\n"
      ]
    },
    {
      "cell_type": "markdown",
      "metadata": {
        "id": "H41wMPMFiAH0"
      },
      "source": [
        "## Series的创建\n",
        "\n",
        "有三种方式可以创建Series：\n",
        "\n",
        "1. 通过一维数组创建序列"
      ]
    },
    {
      "cell_type": "code",
      "metadata": {
        "id": "jn7Kqu0zqYY5"
      },
      "source": [
        "import numpy as np, pandas as pd"
      ],
      "execution_count": null,
      "outputs": []
    },
    {
      "cell_type": "code",
      "metadata": {
        "colab": {
          "base_uri": "https://localhost:8080/"
        },
        "id": "w907WWxEIqRD",
        "outputId": "fb39cfc2-890d-4403-8975-2d3c11812994"
      },
      "source": [
        "arr1 = np.arange(10)\n",
        "arr1"
      ],
      "execution_count": null,
      "outputs": [
        {
          "output_type": "execute_result",
          "data": {
            "text/plain": [
              "array([0, 1, 2, 3, 4, 5, 6, 7, 8, 9])"
            ]
          },
          "metadata": {
            "tags": []
          },
          "execution_count": 1
        }
      ]
    },
    {
      "cell_type": "code",
      "metadata": {
        "colab": {
          "base_uri": "https://localhost:8080/"
        },
        "id": "qzpGbxrJJt0T",
        "outputId": "f18930fe-e4cd-4cc8-bf80-c932d4ce801a"
      },
      "source": [
        "s1 = pd.Series(arr1)\n",
        "s1"
      ],
      "execution_count": null,
      "outputs": [
        {
          "output_type": "execute_result",
          "data": {
            "text/plain": [
              "0    0\n",
              "1    1\n",
              "2    2\n",
              "3    3\n",
              "4    4\n",
              "5    5\n",
              "6    6\n",
              "7    7\n",
              "8    8\n",
              "9    9\n",
              "dtype: int64"
            ]
          },
          "metadata": {
            "tags": []
          },
          "execution_count": 2
        }
      ]
    },
    {
      "cell_type": "markdown",
      "metadata": {
        "id": "X1c6P5cYKAZt"
      },
      "source": [
        "2. 通过字典方式创建序列"
      ]
    },
    {
      "cell_type": "code",
      "metadata": {
        "colab": {
          "base_uri": "https://localhost:8080/"
        },
        "id": "HKar3QBnKFKF",
        "outputId": "6444bb56-085c-4763-f586-f1ef95b3b79c"
      },
      "source": [
        "dic1 = {'a':10,'b':20,'c':30,'d':40,'e':50}\n",
        "s2 = pd.Series(dic1)\n",
        "s2"
      ],
      "execution_count": null,
      "outputs": [
        {
          "output_type": "execute_result",
          "data": {
            "text/plain": [
              "a    10\n",
              "b    20\n",
              "c    30\n",
              "d    40\n",
              "e    50\n",
              "dtype: int64"
            ]
          },
          "metadata": {
            "tags": []
          },
          "execution_count": 4
        }
      ]
    },
    {
      "cell_type": "markdown",
      "metadata": {
        "id": "likoGiHdKVJZ"
      },
      "source": [
        "3. 通过DataFrame中的某一行或某一列创建序列\n",
        "\n",
        "## DataFrame的创建方式\n",
        "\n",
        "DataFrame也主要有三种创建方式：\n",
        "\n",
        "1. 通过二维数组进行创建"
      ]
    },
    {
      "cell_type": "code",
      "metadata": {
        "colab": {
          "base_uri": "https://localhost:8080/"
        },
        "id": "Hq9uJbM5Kphc",
        "outputId": "fb6736bb-7793-44ce-ab1c-f93e5cc5dfaa"
      },
      "source": [
        "arr2 = np.arange(12).reshape(3,4)\n",
        "arr2"
      ],
      "execution_count": null,
      "outputs": [
        {
          "output_type": "execute_result",
          "data": {
            "text/plain": [
              "array([[ 0,  1,  2,  3],\n",
              "       [ 4,  5,  6,  7],\n",
              "       [ 8,  9, 10, 11]])"
            ]
          },
          "metadata": {
            "tags": []
          },
          "execution_count": 5
        }
      ]
    },
    {
      "cell_type": "code",
      "metadata": {
        "colab": {
          "base_uri": "https://localhost:8080/",
          "height": 136
        },
        "id": "n8s2MDXFLH0V",
        "outputId": "919ee76a-72a0-44cf-c478-1eec2d4cb82b"
      },
      "source": [
        "df1 = pd.DataFrame(arr2)\n",
        "df1"
      ],
      "execution_count": null,
      "outputs": [
        {
          "output_type": "execute_result",
          "data": {
            "text/html": [
              "<div>\n",
              "<style scoped>\n",
              "    .dataframe tbody tr th:only-of-type {\n",
              "        vertical-align: middle;\n",
              "    }\n",
              "\n",
              "    .dataframe tbody tr th {\n",
              "        vertical-align: top;\n",
              "    }\n",
              "\n",
              "    .dataframe thead th {\n",
              "        text-align: right;\n",
              "    }\n",
              "</style>\n",
              "<table border=\"1\" class=\"dataframe\">\n",
              "  <thead>\n",
              "    <tr style=\"text-align: right;\">\n",
              "      <th></th>\n",
              "      <th>0</th>\n",
              "      <th>1</th>\n",
              "      <th>2</th>\n",
              "      <th>3</th>\n",
              "    </tr>\n",
              "  </thead>\n",
              "  <tbody>\n",
              "    <tr>\n",
              "      <th>0</th>\n",
              "      <td>0</td>\n",
              "      <td>1</td>\n",
              "      <td>2</td>\n",
              "      <td>3</td>\n",
              "    </tr>\n",
              "    <tr>\n",
              "      <th>1</th>\n",
              "      <td>4</td>\n",
              "      <td>5</td>\n",
              "      <td>6</td>\n",
              "      <td>7</td>\n",
              "    </tr>\n",
              "    <tr>\n",
              "      <th>2</th>\n",
              "      <td>8</td>\n",
              "      <td>9</td>\n",
              "      <td>10</td>\n",
              "      <td>11</td>\n",
              "    </tr>\n",
              "  </tbody>\n",
              "</table>\n",
              "</div>"
            ],
            "text/plain": [
              "   0  1   2   3\n",
              "0  0  1   2   3\n",
              "1  4  5   6   7\n",
              "2  8  9  10  11"
            ]
          },
          "metadata": {
            "tags": []
          },
          "execution_count": 6
        }
      ]
    },
    {
      "cell_type": "markdown",
      "metadata": {
        "id": "0ZpopBEVLq8h"
      },
      "source": [
        "2. 通过字典的方式来创建\n",
        "\n",
        "通过字典列表创建："
      ]
    },
    {
      "cell_type": "code",
      "metadata": {
        "colab": {
          "base_uri": "https://localhost:8080/",
          "height": 166
        },
        "id": "5S0MP2CYLm1D",
        "outputId": "24fe706a-b585-4407-bc6c-9fa24aae84b8"
      },
      "source": [
        "dic2 = {'a':[1,2,3,4],'b':[5,6,7,8],'c':[9,10,11,12],'d':[13,14,15,16]}\n",
        "df2 = pd.DataFrame(dic2)\n",
        "df2"
      ],
      "execution_count": null,
      "outputs": [
        {
          "output_type": "execute_result",
          "data": {
            "text/html": [
              "<div>\n",
              "<style scoped>\n",
              "    .dataframe tbody tr th:only-of-type {\n",
              "        vertical-align: middle;\n",
              "    }\n",
              "\n",
              "    .dataframe tbody tr th {\n",
              "        vertical-align: top;\n",
              "    }\n",
              "\n",
              "    .dataframe thead th {\n",
              "        text-align: right;\n",
              "    }\n",
              "</style>\n",
              "<table border=\"1\" class=\"dataframe\">\n",
              "  <thead>\n",
              "    <tr style=\"text-align: right;\">\n",
              "      <th></th>\n",
              "      <th>a</th>\n",
              "      <th>b</th>\n",
              "      <th>c</th>\n",
              "      <th>d</th>\n",
              "    </tr>\n",
              "  </thead>\n",
              "  <tbody>\n",
              "    <tr>\n",
              "      <th>0</th>\n",
              "      <td>1</td>\n",
              "      <td>5</td>\n",
              "      <td>9</td>\n",
              "      <td>13</td>\n",
              "    </tr>\n",
              "    <tr>\n",
              "      <th>1</th>\n",
              "      <td>2</td>\n",
              "      <td>6</td>\n",
              "      <td>10</td>\n",
              "      <td>14</td>\n",
              "    </tr>\n",
              "    <tr>\n",
              "      <th>2</th>\n",
              "      <td>3</td>\n",
              "      <td>7</td>\n",
              "      <td>11</td>\n",
              "      <td>15</td>\n",
              "    </tr>\n",
              "    <tr>\n",
              "      <th>3</th>\n",
              "      <td>4</td>\n",
              "      <td>8</td>\n",
              "      <td>12</td>\n",
              "      <td>16</td>\n",
              "    </tr>\n",
              "  </tbody>\n",
              "</table>\n",
              "</div>"
            ],
            "text/plain": [
              "   a  b   c   d\n",
              "0  1  5   9  13\n",
              "1  2  6  10  14\n",
              "2  3  7  11  15\n",
              "3  4  8  12  16"
            ]
          },
          "metadata": {
            "tags": []
          },
          "execution_count": 8
        }
      ]
    },
    {
      "cell_type": "markdown",
      "metadata": {
        "id": "cs3QUVGRMCXg"
      },
      "source": [
        "  从上面可以看出来字典关键字在创建DataFrame时是用作columns的。\n",
        "\n",
        "  使用嵌套字典来创建："
      ]
    },
    {
      "cell_type": "code",
      "metadata": {
        "colab": {
          "base_uri": "https://localhost:8080/",
          "height": 166
        },
        "id": "0z6HNpPeMYTl",
        "outputId": "5b3a6070-9394-4083-fc5e-454c63b8a51b"
      },
      "source": [
        "dic3 = {'one':{'a':1,'b':2,'c':3,'d':4},'two':{'a':5,'b':6,'c':7,'d':8},'three':{'a':9,'b':10,'c':11,'d':12}}\n",
        "df3 = pd.DataFrame(dic3)\n",
        "df3"
      ],
      "execution_count": null,
      "outputs": [
        {
          "output_type": "execute_result",
          "data": {
            "text/html": [
              "<div>\n",
              "<style scoped>\n",
              "    .dataframe tbody tr th:only-of-type {\n",
              "        vertical-align: middle;\n",
              "    }\n",
              "\n",
              "    .dataframe tbody tr th {\n",
              "        vertical-align: top;\n",
              "    }\n",
              "\n",
              "    .dataframe thead th {\n",
              "        text-align: right;\n",
              "    }\n",
              "</style>\n",
              "<table border=\"1\" class=\"dataframe\">\n",
              "  <thead>\n",
              "    <tr style=\"text-align: right;\">\n",
              "      <th></th>\n",
              "      <th>one</th>\n",
              "      <th>two</th>\n",
              "      <th>three</th>\n",
              "    </tr>\n",
              "  </thead>\n",
              "  <tbody>\n",
              "    <tr>\n",
              "      <th>a</th>\n",
              "      <td>1</td>\n",
              "      <td>5</td>\n",
              "      <td>9</td>\n",
              "    </tr>\n",
              "    <tr>\n",
              "      <th>b</th>\n",
              "      <td>2</td>\n",
              "      <td>6</td>\n",
              "      <td>10</td>\n",
              "    </tr>\n",
              "    <tr>\n",
              "      <th>c</th>\n",
              "      <td>3</td>\n",
              "      <td>7</td>\n",
              "      <td>11</td>\n",
              "    </tr>\n",
              "    <tr>\n",
              "      <th>d</th>\n",
              "      <td>4</td>\n",
              "      <td>8</td>\n",
              "      <td>12</td>\n",
              "    </tr>\n",
              "  </tbody>\n",
              "</table>\n",
              "</div>"
            ],
            "text/plain": [
              "   one  two  three\n",
              "a    1    5      9\n",
              "b    2    6     10\n",
              "c    3    7     11\n",
              "d    4    8     12"
            ]
          },
          "metadata": {
            "tags": []
          },
          "execution_count": 9
        }
      ]
    },
    {
      "cell_type": "markdown",
      "metadata": {
        "id": "hMlP1u8VMeF3"
      },
      "source": [
        "  使用嵌套字典创建的时候，外围的关键字为columns，内部的关键字为index。\n",
        "\n",
        "3. 使用其他DataFrame来创建"
      ]
    },
    {
      "cell_type": "code",
      "metadata": {
        "colab": {
          "base_uri": "https://localhost:8080/",
          "height": 166
        },
        "id": "cR4YL6asM4vD",
        "outputId": "a8c4082d-271f-42bf-965a-591fedf1f604"
      },
      "source": [
        "df4 = df3[['one','two']]\n",
        "df4"
      ],
      "execution_count": null,
      "outputs": [
        {
          "output_type": "execute_result",
          "data": {
            "text/html": [
              "<div>\n",
              "<style scoped>\n",
              "    .dataframe tbody tr th:only-of-type {\n",
              "        vertical-align: middle;\n",
              "    }\n",
              "\n",
              "    .dataframe tbody tr th {\n",
              "        vertical-align: top;\n",
              "    }\n",
              "\n",
              "    .dataframe thead th {\n",
              "        text-align: right;\n",
              "    }\n",
              "</style>\n",
              "<table border=\"1\" class=\"dataframe\">\n",
              "  <thead>\n",
              "    <tr style=\"text-align: right;\">\n",
              "      <th></th>\n",
              "      <th>one</th>\n",
              "      <th>two</th>\n",
              "    </tr>\n",
              "  </thead>\n",
              "  <tbody>\n",
              "    <tr>\n",
              "      <th>a</th>\n",
              "      <td>1</td>\n",
              "      <td>5</td>\n",
              "    </tr>\n",
              "    <tr>\n",
              "      <th>b</th>\n",
              "      <td>2</td>\n",
              "      <td>6</td>\n",
              "    </tr>\n",
              "    <tr>\n",
              "      <th>c</th>\n",
              "      <td>3</td>\n",
              "      <td>7</td>\n",
              "    </tr>\n",
              "    <tr>\n",
              "      <th>d</th>\n",
              "      <td>4</td>\n",
              "      <td>8</td>\n",
              "    </tr>\n",
              "  </tbody>\n",
              "</table>\n",
              "</div>"
            ],
            "text/plain": [
              "   one  two\n",
              "a    1    5\n",
              "b    2    6\n",
              "c    3    7\n",
              "d    4    8"
            ]
          },
          "metadata": {
            "tags": []
          },
          "execution_count": 11
        }
      ]
    },
    {
      "cell_type": "code",
      "metadata": {
        "colab": {
          "base_uri": "https://localhost:8080/"
        },
        "id": "mHjQjrgRNOoM",
        "outputId": "399d688a-f0d6-4519-ecf4-2878fa4564f8"
      },
      "source": [
        "s3 = df3['one']\n",
        "type(s3)"
      ],
      "execution_count": null,
      "outputs": [
        {
          "output_type": "execute_result",
          "data": {
            "text/plain": [
              "pandas.core.series.Series"
            ]
          },
          "metadata": {
            "tags": []
          },
          "execution_count": 12
        }
      ]
    },
    {
      "cell_type": "markdown",
      "metadata": {
        "id": "g1RUoxnGTWG9"
      },
      "source": [
        "# 数据索引index\n",
        "\n"
      ]
    },
    {
      "cell_type": "markdown",
      "metadata": {
        "id": "lnH1QY_8iFd1"
      },
      "source": [
        "## 通过索引值或索引标签获取数据"
      ]
    },
    {
      "cell_type": "code",
      "metadata": {
        "colab": {
          "base_uri": "https://localhost:8080/"
        },
        "id": "IgM7YRx3T41h",
        "outputId": "7067f24c-d9fd-4a63-f1f2-252c738345e9"
      },
      "source": [
        "s4 = pd.Series([1,2,3,4,5,7])\n",
        "s4"
      ],
      "execution_count": null,
      "outputs": [
        {
          "output_type": "execute_result",
          "data": {
            "text/plain": [
              "0    1\n",
              "1    2\n",
              "2    3\n",
              "3    4\n",
              "4    5\n",
              "5    7\n",
              "dtype: int64"
            ]
          },
          "metadata": {
            "tags": []
          },
          "execution_count": 13
        }
      ]
    },
    {
      "cell_type": "code",
      "metadata": {
        "colab": {
          "base_uri": "https://localhost:8080/"
        },
        "id": "53dAbWEXUEZC",
        "outputId": "5ef217d8-cd0f-458c-ca6a-34b8fde6048c"
      },
      "source": [
        "s4.index"
      ],
      "execution_count": null,
      "outputs": [
        {
          "output_type": "execute_result",
          "data": {
            "text/plain": [
              "RangeIndex(start=0, stop=6, step=1)"
            ]
          },
          "metadata": {
            "tags": []
          },
          "execution_count": 14
        }
      ]
    },
    {
      "cell_type": "code",
      "metadata": {
        "colab": {
          "base_uri": "https://localhost:8080/"
        },
        "id": "1nXVL86QUIps",
        "outputId": "e95f910b-f22a-40b6-f8ee-f9f1c3db04fd"
      },
      "source": [
        "s4.index = ['a','b','c','d','e','f']\n",
        "s4"
      ],
      "execution_count": null,
      "outputs": [
        {
          "output_type": "execute_result",
          "data": {
            "text/plain": [
              "a    1\n",
              "b    2\n",
              "c    3\n",
              "d    4\n",
              "e    5\n",
              "f    7\n",
              "dtype: int64"
            ]
          },
          "metadata": {
            "tags": []
          },
          "execution_count": 15
        }
      ]
    },
    {
      "cell_type": "code",
      "metadata": {
        "colab": {
          "base_uri": "https://localhost:8080/"
        },
        "id": "mw6M8ChaUOYb",
        "outputId": "bb3fcbbc-518e-45d5-a47e-1713ad2633b2"
      },
      "source": [
        "s4[3]"
      ],
      "execution_count": null,
      "outputs": [
        {
          "output_type": "execute_result",
          "data": {
            "text/plain": [
              "4"
            ]
          },
          "metadata": {
            "tags": []
          },
          "execution_count": 19
        }
      ]
    },
    {
      "cell_type": "code",
      "metadata": {
        "colab": {
          "base_uri": "https://localhost:8080/"
        },
        "id": "CqMqlvMKUZ8J",
        "outputId": "4f14a82d-49f3-423a-bb85-93591dc68c61"
      },
      "source": [
        "s4['d']"
      ],
      "execution_count": null,
      "outputs": [
        {
          "output_type": "execute_result",
          "data": {
            "text/plain": [
              "4"
            ]
          },
          "metadata": {
            "tags": []
          },
          "execution_count": 20
        }
      ]
    },
    {
      "cell_type": "code",
      "metadata": {
        "colab": {
          "base_uri": "https://localhost:8080/"
        },
        "id": "tdOMMc2LUchG",
        "outputId": "8d0dce79-5215-473b-d990-0dd463585a1a"
      },
      "source": [
        "s4[:'e']"
      ],
      "execution_count": null,
      "outputs": [
        {
          "output_type": "execute_result",
          "data": {
            "text/plain": [
              "a    1\n",
              "b    2\n",
              "c    3\n",
              "d    4\n",
              "e    5\n",
              "dtype: int64"
            ]
          },
          "metadata": {
            "tags": []
          },
          "execution_count": 21
        }
      ]
    },
    {
      "cell_type": "markdown",
      "metadata": {
        "id": "Hu8w3rdeUh-d"
      },
      "source": [
        "千万注意：如果通过索引标签获取数据的话，**末端标签所对应的值是可以返回的**！在一维数组中，就无法通过索引标签获取数据，这也是序列不同于一维数组的一个方面。\n",
        "\n",
        "## 自动化对齐\n",
        "\n",
        "如果有两个序列，需要对这两个序列进行算术运算，这时索引的存在就体现的它的价值了—自动化对齐."
      ]
    },
    {
      "cell_type": "code",
      "metadata": {
        "colab": {
          "base_uri": "https://localhost:8080/"
        },
        "id": "FZlAevANUw2_",
        "outputId": "78893a12-ee22-4537-8885-d15182609c6d"
      },
      "source": [
        "s5 = pd.Series(np.array([10,15,20,30,55,80]),index = ['a','b','c','d','e','f'])\n",
        "s6 = pd.Series(np.array([12,11,13,15,14,16]),index = ['a','c','g','b','d','f'])\n",
        "s5 / s6"
      ],
      "execution_count": null,
      "outputs": [
        {
          "output_type": "execute_result",
          "data": {
            "text/plain": [
              "a    0.833333\n",
              "b    1.000000\n",
              "c    1.818182\n",
              "d    2.142857\n",
              "e         NaN\n",
              "f    5.000000\n",
              "g         NaN\n",
              "dtype: float64"
            ]
          },
          "metadata": {
            "tags": []
          },
          "execution_count": 22
        }
      ]
    },
    {
      "cell_type": "markdown",
      "metadata": {
        "id": "CmTBoONQVIXB"
      },
      "source": [
        "由于s5中没有对应的g索引，s6中没有对应的e索引，所以数据的运算会产生两个缺失值NaN。注意，这里的算术结果就实现了两个序列索引的自动对齐，而非简单的将两个序列加总或相除。对于DataFrame的对齐，不仅仅是行索引的自动对齐，同时也会自动对齐列索引（变量名）\n",
        "\n",
        "DataFrame中同样有索引，而且**DataFrame是二维数组的推广**，所以其不仅有行索引，而且还存在列索引。\n",
        "\n"
      ]
    },
    {
      "cell_type": "markdown",
      "metadata": {
        "id": "ESnFrKFOiKsX"
      },
      "source": [
        "# 3. 利用pandas查询数据"
      ]
    },
    {
      "cell_type": "code",
      "metadata": {
        "id": "W3Fg2jynhWhc"
      },
      "source": [
        "stu_dic = {'Age':[14,13,13,14,14,12,12,15,13,12,11,14,12,15,16,12,15,11,15],\n",
        "'Height':[69,56.5,65.3,62.8,63.5,57.3,59.8,62.5,62.5,59,51.3,64.3,56.3,66.5,72,64.8,67,57.5,66.5],\n",
        "'Name':['Alfred','Alice','Barbara','Carol','Henry','James','Jane','Janet','Jeffrey','John','Joyce','Judy','Louise','Marry','Philip','Robert','Ronald','Thomas','Willam'],\n",
        "'Sex':['M','F','F','F','M','M','F','F','M','M','F','F','F','F','M','M','M','M','M'],\n",
        "'Weight':[112.5,84,98,102.5,102.5,83,84.5,112.5,84,99.5,50.5,90,77,112,150,128,133,85,112]}\n",
        "student = pd.DataFrame(stu_dic)"
      ],
      "execution_count": null,
      "outputs": []
    },
    {
      "cell_type": "markdown",
      "metadata": {
        "id": "AfzELn8Dhwaz"
      },
      "source": [
        "## 查询数据的前5行或末尾5行"
      ]
    },
    {
      "cell_type": "code",
      "metadata": {
        "colab": {
          "base_uri": "https://localhost:8080/",
          "height": 195
        },
        "id": "zAsRL6Nnhdzs",
        "outputId": "7e797d1a-a45a-4086-d991-3774dc93458c"
      },
      "source": [
        "student.head()"
      ],
      "execution_count": null,
      "outputs": [
        {
          "output_type": "execute_result",
          "data": {
            "text/html": [
              "<div>\n",
              "<style scoped>\n",
              "    .dataframe tbody tr th:only-of-type {\n",
              "        vertical-align: middle;\n",
              "    }\n",
              "\n",
              "    .dataframe tbody tr th {\n",
              "        vertical-align: top;\n",
              "    }\n",
              "\n",
              "    .dataframe thead th {\n",
              "        text-align: right;\n",
              "    }\n",
              "</style>\n",
              "<table border=\"1\" class=\"dataframe\">\n",
              "  <thead>\n",
              "    <tr style=\"text-align: right;\">\n",
              "      <th></th>\n",
              "      <th>Age</th>\n",
              "      <th>Height</th>\n",
              "      <th>Name</th>\n",
              "      <th>Sex</th>\n",
              "      <th>Weight</th>\n",
              "    </tr>\n",
              "  </thead>\n",
              "  <tbody>\n",
              "    <tr>\n",
              "      <th>0</th>\n",
              "      <td>14</td>\n",
              "      <td>69.0</td>\n",
              "      <td>Alfred</td>\n",
              "      <td>M</td>\n",
              "      <td>112.5</td>\n",
              "    </tr>\n",
              "    <tr>\n",
              "      <th>1</th>\n",
              "      <td>13</td>\n",
              "      <td>56.5</td>\n",
              "      <td>Alice</td>\n",
              "      <td>F</td>\n",
              "      <td>84.0</td>\n",
              "    </tr>\n",
              "    <tr>\n",
              "      <th>2</th>\n",
              "      <td>13</td>\n",
              "      <td>65.3</td>\n",
              "      <td>Barbara</td>\n",
              "      <td>F</td>\n",
              "      <td>98.0</td>\n",
              "    </tr>\n",
              "    <tr>\n",
              "      <th>3</th>\n",
              "      <td>14</td>\n",
              "      <td>62.8</td>\n",
              "      <td>Carol</td>\n",
              "      <td>F</td>\n",
              "      <td>102.5</td>\n",
              "    </tr>\n",
              "    <tr>\n",
              "      <th>4</th>\n",
              "      <td>14</td>\n",
              "      <td>63.5</td>\n",
              "      <td>Henry</td>\n",
              "      <td>M</td>\n",
              "      <td>102.5</td>\n",
              "    </tr>\n",
              "  </tbody>\n",
              "</table>\n",
              "</div>"
            ],
            "text/plain": [
              "   Age  Height     Name Sex  Weight\n",
              "0   14    69.0   Alfred   M   112.5\n",
              "1   13    56.5    Alice   F    84.0\n",
              "2   13    65.3  Barbara   F    98.0\n",
              "3   14    62.8    Carol   F   102.5\n",
              "4   14    63.5    Henry   M   102.5"
            ]
          },
          "metadata": {
            "tags": []
          },
          "execution_count": 24
        }
      ]
    },
    {
      "cell_type": "code",
      "metadata": {
        "colab": {
          "base_uri": "https://localhost:8080/",
          "height": 195
        },
        "id": "CiTRb12vhh8t",
        "outputId": "636f4277-9979-4def-a78b-0e5437df1f5e"
      },
      "source": [
        "student.tail()"
      ],
      "execution_count": null,
      "outputs": [
        {
          "output_type": "execute_result",
          "data": {
            "text/html": [
              "<div>\n",
              "<style scoped>\n",
              "    .dataframe tbody tr th:only-of-type {\n",
              "        vertical-align: middle;\n",
              "    }\n",
              "\n",
              "    .dataframe tbody tr th {\n",
              "        vertical-align: top;\n",
              "    }\n",
              "\n",
              "    .dataframe thead th {\n",
              "        text-align: right;\n",
              "    }\n",
              "</style>\n",
              "<table border=\"1\" class=\"dataframe\">\n",
              "  <thead>\n",
              "    <tr style=\"text-align: right;\">\n",
              "      <th></th>\n",
              "      <th>Age</th>\n",
              "      <th>Height</th>\n",
              "      <th>Name</th>\n",
              "      <th>Sex</th>\n",
              "      <th>Weight</th>\n",
              "    </tr>\n",
              "  </thead>\n",
              "  <tbody>\n",
              "    <tr>\n",
              "      <th>14</th>\n",
              "      <td>16</td>\n",
              "      <td>72.0</td>\n",
              "      <td>Philip</td>\n",
              "      <td>M</td>\n",
              "      <td>150.0</td>\n",
              "    </tr>\n",
              "    <tr>\n",
              "      <th>15</th>\n",
              "      <td>12</td>\n",
              "      <td>64.8</td>\n",
              "      <td>Robert</td>\n",
              "      <td>M</td>\n",
              "      <td>128.0</td>\n",
              "    </tr>\n",
              "    <tr>\n",
              "      <th>16</th>\n",
              "      <td>15</td>\n",
              "      <td>67.0</td>\n",
              "      <td>Ronald</td>\n",
              "      <td>M</td>\n",
              "      <td>133.0</td>\n",
              "    </tr>\n",
              "    <tr>\n",
              "      <th>17</th>\n",
              "      <td>11</td>\n",
              "      <td>57.5</td>\n",
              "      <td>Thomas</td>\n",
              "      <td>M</td>\n",
              "      <td>85.0</td>\n",
              "    </tr>\n",
              "    <tr>\n",
              "      <th>18</th>\n",
              "      <td>15</td>\n",
              "      <td>66.5</td>\n",
              "      <td>Willam</td>\n",
              "      <td>M</td>\n",
              "      <td>112.0</td>\n",
              "    </tr>\n",
              "  </tbody>\n",
              "</table>\n",
              "</div>"
            ],
            "text/plain": [
              "    Age  Height    Name Sex  Weight\n",
              "14   16    72.0  Philip   M   150.0\n",
              "15   12    64.8  Robert   M   128.0\n",
              "16   15    67.0  Ronald   M   133.0\n",
              "17   11    57.5  Thomas   M    85.0\n",
              "18   15    66.5  Willam   M   112.0"
            ]
          },
          "metadata": {
            "tags": []
          },
          "execution_count": 25
        }
      ]
    },
    {
      "cell_type": "markdown",
      "metadata": {
        "id": "O7npPFW7hlGM"
      },
      "source": [
        "从上面可以看出`head`和`tail`默认都是返回5行数据。\n"
      ]
    },
    {
      "cell_type": "markdown",
      "metadata": {
        "id": "mtGTWaXPiSxj"
      },
      "source": [
        "## 查询指定的行\n",
        "\n",
        "注意：这里的索引标签函数必须是中括号[]\n",
        "\n",
        "`loc`是按index值进行索引，而`iloc`是按照行号进行索引。"
      ]
    },
    {
      "cell_type": "code",
      "metadata": {
        "colab": {
          "base_uri": "https://localhost:8080/",
          "height": 136
        },
        "id": "kEqdLyEAiWEc",
        "outputId": "b9715b7f-8d3f-40b4-ab3d-c1c63ff09e8e"
      },
      "source": [
        "student.loc[[1,2,5]]"
      ],
      "execution_count": null,
      "outputs": [
        {
          "output_type": "execute_result",
          "data": {
            "text/html": [
              "<div>\n",
              "<style scoped>\n",
              "    .dataframe tbody tr th:only-of-type {\n",
              "        vertical-align: middle;\n",
              "    }\n",
              "\n",
              "    .dataframe tbody tr th {\n",
              "        vertical-align: top;\n",
              "    }\n",
              "\n",
              "    .dataframe thead th {\n",
              "        text-align: right;\n",
              "    }\n",
              "</style>\n",
              "<table border=\"1\" class=\"dataframe\">\n",
              "  <thead>\n",
              "    <tr style=\"text-align: right;\">\n",
              "      <th></th>\n",
              "      <th>Age</th>\n",
              "      <th>Height</th>\n",
              "      <th>Name</th>\n",
              "      <th>Sex</th>\n",
              "      <th>Weight</th>\n",
              "    </tr>\n",
              "  </thead>\n",
              "  <tbody>\n",
              "    <tr>\n",
              "      <th>1</th>\n",
              "      <td>13</td>\n",
              "      <td>56.5</td>\n",
              "      <td>Alice</td>\n",
              "      <td>F</td>\n",
              "      <td>84.0</td>\n",
              "    </tr>\n",
              "    <tr>\n",
              "      <th>2</th>\n",
              "      <td>13</td>\n",
              "      <td>65.3</td>\n",
              "      <td>Barbara</td>\n",
              "      <td>F</td>\n",
              "      <td>98.0</td>\n",
              "    </tr>\n",
              "    <tr>\n",
              "      <th>5</th>\n",
              "      <td>12</td>\n",
              "      <td>57.3</td>\n",
              "      <td>James</td>\n",
              "      <td>M</td>\n",
              "      <td>83.0</td>\n",
              "    </tr>\n",
              "  </tbody>\n",
              "</table>\n",
              "</div>"
            ],
            "text/plain": [
              "   Age  Height     Name Sex  Weight\n",
              "1   13    56.5    Alice   F    84.0\n",
              "2   13    65.3  Barbara   F    98.0\n",
              "5   12    57.3    James   M    83.0"
            ]
          },
          "metadata": {
            "tags": []
          },
          "execution_count": 26
        }
      ]
    },
    {
      "cell_type": "code",
      "metadata": {
        "colab": {
          "base_uri": "https://localhost:8080/",
          "height": 136
        },
        "id": "jVcJR8Uaieqm",
        "outputId": "92f7beea-3567-4c07-c01d-3bf02a20affb"
      },
      "source": [
        "student.iloc[[1,2,5]]"
      ],
      "execution_count": null,
      "outputs": [
        {
          "output_type": "execute_result",
          "data": {
            "text/html": [
              "<div>\n",
              "<style scoped>\n",
              "    .dataframe tbody tr th:only-of-type {\n",
              "        vertical-align: middle;\n",
              "    }\n",
              "\n",
              "    .dataframe tbody tr th {\n",
              "        vertical-align: top;\n",
              "    }\n",
              "\n",
              "    .dataframe thead th {\n",
              "        text-align: right;\n",
              "    }\n",
              "</style>\n",
              "<table border=\"1\" class=\"dataframe\">\n",
              "  <thead>\n",
              "    <tr style=\"text-align: right;\">\n",
              "      <th></th>\n",
              "      <th>Age</th>\n",
              "      <th>Height</th>\n",
              "      <th>Name</th>\n",
              "      <th>Sex</th>\n",
              "      <th>Weight</th>\n",
              "    </tr>\n",
              "  </thead>\n",
              "  <tbody>\n",
              "    <tr>\n",
              "      <th>1</th>\n",
              "      <td>13</td>\n",
              "      <td>56.5</td>\n",
              "      <td>Alice</td>\n",
              "      <td>F</td>\n",
              "      <td>84.0</td>\n",
              "    </tr>\n",
              "    <tr>\n",
              "      <th>2</th>\n",
              "      <td>13</td>\n",
              "      <td>65.3</td>\n",
              "      <td>Barbara</td>\n",
              "      <td>F</td>\n",
              "      <td>98.0</td>\n",
              "    </tr>\n",
              "    <tr>\n",
              "      <th>5</th>\n",
              "      <td>12</td>\n",
              "      <td>57.3</td>\n",
              "      <td>James</td>\n",
              "      <td>M</td>\n",
              "      <td>83.0</td>\n",
              "    </tr>\n",
              "  </tbody>\n",
              "</table>\n",
              "</div>"
            ],
            "text/plain": [
              "   Age  Height     Name Sex  Weight\n",
              "1   13    56.5    Alice   F    84.0\n",
              "2   13    65.3  Barbara   F    98.0\n",
              "5   12    57.3    James   M    83.0"
            ]
          },
          "metadata": {
            "tags": []
          },
          "execution_count": 28
        }
      ]
    },
    {
      "cell_type": "markdown",
      "metadata": {
        "id": "MZIg0OSOjCUN"
      },
      "source": [
        "## 查询指定的列\n",
        "\n",
        "如果多个列的话，必须使用双重中括号"
      ]
    },
    {
      "cell_type": "code",
      "metadata": {
        "colab": {
          "base_uri": "https://localhost:8080/",
          "height": 195
        },
        "id": "qSRUgurCjFYJ",
        "outputId": "6024bbdc-a608-4f68-bd2f-7c2645213517"
      },
      "source": [
        "student[['Age','Name']].head()"
      ],
      "execution_count": null,
      "outputs": [
        {
          "output_type": "execute_result",
          "data": {
            "text/html": [
              "<div>\n",
              "<style scoped>\n",
              "    .dataframe tbody tr th:only-of-type {\n",
              "        vertical-align: middle;\n",
              "    }\n",
              "\n",
              "    .dataframe tbody tr th {\n",
              "        vertical-align: top;\n",
              "    }\n",
              "\n",
              "    .dataframe thead th {\n",
              "        text-align: right;\n",
              "    }\n",
              "</style>\n",
              "<table border=\"1\" class=\"dataframe\">\n",
              "  <thead>\n",
              "    <tr style=\"text-align: right;\">\n",
              "      <th></th>\n",
              "      <th>Age</th>\n",
              "      <th>Name</th>\n",
              "    </tr>\n",
              "  </thead>\n",
              "  <tbody>\n",
              "    <tr>\n",
              "      <th>0</th>\n",
              "      <td>14</td>\n",
              "      <td>Alfred</td>\n",
              "    </tr>\n",
              "    <tr>\n",
              "      <th>1</th>\n",
              "      <td>13</td>\n",
              "      <td>Alice</td>\n",
              "    </tr>\n",
              "    <tr>\n",
              "      <th>2</th>\n",
              "      <td>13</td>\n",
              "      <td>Barbara</td>\n",
              "    </tr>\n",
              "    <tr>\n",
              "      <th>3</th>\n",
              "      <td>14</td>\n",
              "      <td>Carol</td>\n",
              "    </tr>\n",
              "    <tr>\n",
              "      <th>4</th>\n",
              "      <td>14</td>\n",
              "      <td>Henry</td>\n",
              "    </tr>\n",
              "  </tbody>\n",
              "</table>\n",
              "</div>"
            ],
            "text/plain": [
              "   Age     Name\n",
              "0   14   Alfred\n",
              "1   13    Alice\n",
              "2   13  Barbara\n",
              "3   14    Carol\n",
              "4   14    Henry"
            ]
          },
          "metadata": {
            "tags": []
          },
          "execution_count": 29
        }
      ]
    },
    {
      "cell_type": "markdown",
      "metadata": {
        "id": "e5BcFbSOjOxP"
      },
      "source": [
        "## 通过loc索引标签查询指定的列"
      ]
    },
    {
      "cell_type": "code",
      "metadata": {
        "colab": {
          "base_uri": "https://localhost:8080/",
          "height": 195
        },
        "id": "a7v-1kSAjS3P",
        "outputId": "aec1e810-d83b-434a-de5e-c64254bbf7d2"
      },
      "source": [
        "student.loc[:,['Name','Height','Weight']].head()"
      ],
      "execution_count": null,
      "outputs": [
        {
          "output_type": "execute_result",
          "data": {
            "text/html": [
              "<div>\n",
              "<style scoped>\n",
              "    .dataframe tbody tr th:only-of-type {\n",
              "        vertical-align: middle;\n",
              "    }\n",
              "\n",
              "    .dataframe tbody tr th {\n",
              "        vertical-align: top;\n",
              "    }\n",
              "\n",
              "    .dataframe thead th {\n",
              "        text-align: right;\n",
              "    }\n",
              "</style>\n",
              "<table border=\"1\" class=\"dataframe\">\n",
              "  <thead>\n",
              "    <tr style=\"text-align: right;\">\n",
              "      <th></th>\n",
              "      <th>Name</th>\n",
              "      <th>Height</th>\n",
              "      <th>Weight</th>\n",
              "    </tr>\n",
              "  </thead>\n",
              "  <tbody>\n",
              "    <tr>\n",
              "      <th>0</th>\n",
              "      <td>Alfred</td>\n",
              "      <td>69.0</td>\n",
              "      <td>112.5</td>\n",
              "    </tr>\n",
              "    <tr>\n",
              "      <th>1</th>\n",
              "      <td>Alice</td>\n",
              "      <td>56.5</td>\n",
              "      <td>84.0</td>\n",
              "    </tr>\n",
              "    <tr>\n",
              "      <th>2</th>\n",
              "      <td>Barbara</td>\n",
              "      <td>65.3</td>\n",
              "      <td>98.0</td>\n",
              "    </tr>\n",
              "    <tr>\n",
              "      <th>3</th>\n",
              "      <td>Carol</td>\n",
              "      <td>62.8</td>\n",
              "      <td>102.5</td>\n",
              "    </tr>\n",
              "    <tr>\n",
              "      <th>4</th>\n",
              "      <td>Henry</td>\n",
              "      <td>63.5</td>\n",
              "      <td>102.5</td>\n",
              "    </tr>\n",
              "  </tbody>\n",
              "</table>\n",
              "</div>"
            ],
            "text/plain": [
              "      Name  Height  Weight\n",
              "0   Alfred    69.0   112.5\n",
              "1    Alice    56.5    84.0\n",
              "2  Barbara    65.3    98.0\n",
              "3    Carol    62.8   102.5\n",
              "4    Henry    63.5   102.5"
            ]
          },
          "metadata": {
            "tags": []
          },
          "execution_count": 30
        }
      ]
    },
    {
      "cell_type": "markdown",
      "metadata": {
        "id": "wTZcFh1hjbe1"
      },
      "source": [
        "## 条件查询"
      ]
    },
    {
      "cell_type": "code",
      "metadata": {
        "colab": {
          "base_uri": "https://localhost:8080/",
          "height": 225
        },
        "id": "6KUgk6wwjeOx",
        "outputId": "8ea1d5d3-62ed-43c0-8924-5f1ec447a0f2"
      },
      "source": [
        "student[(student['Sex']=='F') & (student['Age']>12)]"
      ],
      "execution_count": null,
      "outputs": [
        {
          "output_type": "execute_result",
          "data": {
            "text/html": [
              "<div>\n",
              "<style scoped>\n",
              "    .dataframe tbody tr th:only-of-type {\n",
              "        vertical-align: middle;\n",
              "    }\n",
              "\n",
              "    .dataframe tbody tr th {\n",
              "        vertical-align: top;\n",
              "    }\n",
              "\n",
              "    .dataframe thead th {\n",
              "        text-align: right;\n",
              "    }\n",
              "</style>\n",
              "<table border=\"1\" class=\"dataframe\">\n",
              "  <thead>\n",
              "    <tr style=\"text-align: right;\">\n",
              "      <th></th>\n",
              "      <th>Age</th>\n",
              "      <th>Height</th>\n",
              "      <th>Name</th>\n",
              "      <th>Sex</th>\n",
              "      <th>Weight</th>\n",
              "    </tr>\n",
              "  </thead>\n",
              "  <tbody>\n",
              "    <tr>\n",
              "      <th>1</th>\n",
              "      <td>13</td>\n",
              "      <td>56.5</td>\n",
              "      <td>Alice</td>\n",
              "      <td>F</td>\n",
              "      <td>84.0</td>\n",
              "    </tr>\n",
              "    <tr>\n",
              "      <th>2</th>\n",
              "      <td>13</td>\n",
              "      <td>65.3</td>\n",
              "      <td>Barbara</td>\n",
              "      <td>F</td>\n",
              "      <td>98.0</td>\n",
              "    </tr>\n",
              "    <tr>\n",
              "      <th>3</th>\n",
              "      <td>14</td>\n",
              "      <td>62.8</td>\n",
              "      <td>Carol</td>\n",
              "      <td>F</td>\n",
              "      <td>102.5</td>\n",
              "    </tr>\n",
              "    <tr>\n",
              "      <th>7</th>\n",
              "      <td>15</td>\n",
              "      <td>62.5</td>\n",
              "      <td>Janet</td>\n",
              "      <td>F</td>\n",
              "      <td>112.5</td>\n",
              "    </tr>\n",
              "    <tr>\n",
              "      <th>11</th>\n",
              "      <td>14</td>\n",
              "      <td>64.3</td>\n",
              "      <td>Judy</td>\n",
              "      <td>F</td>\n",
              "      <td>90.0</td>\n",
              "    </tr>\n",
              "    <tr>\n",
              "      <th>13</th>\n",
              "      <td>15</td>\n",
              "      <td>66.5</td>\n",
              "      <td>Marry</td>\n",
              "      <td>F</td>\n",
              "      <td>112.0</td>\n",
              "    </tr>\n",
              "  </tbody>\n",
              "</table>\n",
              "</div>"
            ],
            "text/plain": [
              "    Age  Height     Name Sex  Weight\n",
              "1    13    56.5    Alice   F    84.0\n",
              "2    13    65.3  Barbara   F    98.0\n",
              "3    14    62.8    Carol   F   102.5\n",
              "7    15    62.5    Janet   F   112.5\n",
              "11   14    64.3     Judy   F    90.0\n",
              "13   15    66.5    Marry   F   112.0"
            ]
          },
          "metadata": {
            "tags": []
          },
          "execution_count": 31
        }
      ]
    },
    {
      "cell_type": "code",
      "metadata": {
        "colab": {
          "base_uri": "https://localhost:8080/",
          "height": 225
        },
        "id": "3o6UDPOojmTU",
        "outputId": "f84f3c10-8623-4da3-fc8c-14c22e0dc3f8"
      },
      "source": [
        "student[(student['Sex']=='F') & (student['Age']>12)][['Name','Height','Weight']]"
      ],
      "execution_count": null,
      "outputs": [
        {
          "output_type": "execute_result",
          "data": {
            "text/html": [
              "<div>\n",
              "<style scoped>\n",
              "    .dataframe tbody tr th:only-of-type {\n",
              "        vertical-align: middle;\n",
              "    }\n",
              "\n",
              "    .dataframe tbody tr th {\n",
              "        vertical-align: top;\n",
              "    }\n",
              "\n",
              "    .dataframe thead th {\n",
              "        text-align: right;\n",
              "    }\n",
              "</style>\n",
              "<table border=\"1\" class=\"dataframe\">\n",
              "  <thead>\n",
              "    <tr style=\"text-align: right;\">\n",
              "      <th></th>\n",
              "      <th>Name</th>\n",
              "      <th>Height</th>\n",
              "      <th>Weight</th>\n",
              "    </tr>\n",
              "  </thead>\n",
              "  <tbody>\n",
              "    <tr>\n",
              "      <th>1</th>\n",
              "      <td>Alice</td>\n",
              "      <td>56.5</td>\n",
              "      <td>84.0</td>\n",
              "    </tr>\n",
              "    <tr>\n",
              "      <th>2</th>\n",
              "      <td>Barbara</td>\n",
              "      <td>65.3</td>\n",
              "      <td>98.0</td>\n",
              "    </tr>\n",
              "    <tr>\n",
              "      <th>3</th>\n",
              "      <td>Carol</td>\n",
              "      <td>62.8</td>\n",
              "      <td>102.5</td>\n",
              "    </tr>\n",
              "    <tr>\n",
              "      <th>7</th>\n",
              "      <td>Janet</td>\n",
              "      <td>62.5</td>\n",
              "      <td>112.5</td>\n",
              "    </tr>\n",
              "    <tr>\n",
              "      <th>11</th>\n",
              "      <td>Judy</td>\n",
              "      <td>64.3</td>\n",
              "      <td>90.0</td>\n",
              "    </tr>\n",
              "    <tr>\n",
              "      <th>13</th>\n",
              "      <td>Marry</td>\n",
              "      <td>66.5</td>\n",
              "      <td>112.0</td>\n",
              "    </tr>\n",
              "  </tbody>\n",
              "</table>\n",
              "</div>"
            ],
            "text/plain": [
              "       Name  Height  Weight\n",
              "1     Alice    56.5    84.0\n",
              "2   Barbara    65.3    98.0\n",
              "3     Carol    62.8   102.5\n",
              "7     Janet    62.5   112.5\n",
              "11     Judy    64.3    90.0\n",
              "13    Marry    66.5   112.0"
            ]
          },
          "metadata": {
            "tags": []
          },
          "execution_count": 32
        }
      ]
    },
    {
      "cell_type": "markdown",
      "metadata": {
        "id": "uxsbiiZ66O7o"
      },
      "source": [
        "# 4. 利用pandas的DataFrames进行统计分析"
      ]
    },
    {
      "cell_type": "code",
      "metadata": {
        "colab": {
          "base_uri": "https://localhost:8080/"
        },
        "id": "vo0WJxGoGE2B",
        "outputId": "68658b6b-a954-462b-a679-5e187cd9ba75"
      },
      "source": [
        "np.random.seed(1234)\n",
        "d1 = pd.Series(2*np.random.normal(size = 100)+3)\n",
        "d2 = np.random.f(2,4,size = 100)\n",
        "d3 = np.random.randint(1,100,size = 100)\n",
        "\n",
        "print('非空元素计算: ', d1.count()) #非空元素计算\n",
        "print('最小值: ', d1.min()) #最小值\n",
        "print('最大值: ', d1.max()) #最大值\n",
        "print('最小值的位置: ', d1.idxmin()) #最小值的位置，类似于R中的which.min函数\n",
        "print('最大值的位置: ', d1.idxmax()) #最大值的位置，类似于R中的which.max函数\n",
        "print('10%分位数: ', d1.quantile(0.1)) #10%分位数\n",
        "print('求和: ', d1.sum()) #求和\n",
        "print('均值: ', d1.mean()) #均值\n",
        "print('中位数: ', d1.median()) #中位数\n",
        "print('众数: ', d1.mode()) #众数\n",
        "print('方差: ', d1.var()) #方差\n",
        "print('标准差: ', d1.std()) #标准差\n",
        "print('平均绝对偏差: ', d1.mad()) #平均绝对偏差\n",
        "print('偏度: ', d1.skew()) #偏度\n",
        "print('峰度: ', d1.kurt()) #峰度\n",
        "print('描述性统计指标: ', d1.describe()) #一次性输出多个描述性统计指标"
      ],
      "execution_count": null,
      "outputs": [
        {
          "output_type": "stream",
          "text": [
            "非空元素计算:  100\n",
            "最小值:  -4.1270333212494705\n",
            "最大值:  7.781921030926066\n",
            "最小值的位置:  81\n",
            "最大值的位置:  39\n",
            "10%分位数:  0.6870184644069928\n",
            "求和:  307.0224566250873\n",
            "均值:  3.070224566250874\n",
            "中位数:  3.204555266776845\n",
            "众数:  0    -4.127033\n",
            "1    -1.800907\n",
            "2    -1.485370\n",
            "3    -1.149955\n",
            "4    -1.042510\n",
            "        ...   \n",
            "95    5.865414\n",
            "96    6.091318\n",
            "97    7.015686\n",
            "98    7.061207\n",
            "99    7.781921\n",
            "Length: 100, dtype: float64\n",
            "方差:  4.005609378535085\n",
            "标准差:  2.0014018533355777\n",
            "平均绝对偏差:  1.5112880411556109\n",
            "偏度:  -0.6494780760484293\n",
            "峰度:  1.2201094052398012\n",
            "描述性统计指标:  count    100.000000\n",
            "mean       3.070225\n",
            "std        2.001402\n",
            "min       -4.127033\n",
            "25%        2.040101\n",
            "50%        3.204555\n",
            "75%        4.434788\n",
            "max        7.781921\n",
            "dtype: float64\n"
          ],
          "name": "stdout"
        }
      ]
    },
    {
      "cell_type": "markdown",
      "metadata": {
        "id": "QGTvhUw9Glgx"
      },
      "source": [
        "如何将某一函数应用到数据框中的每一列呢？\n",
        "\n",
        "可以使用apply函数："
      ]
    },
    {
      "cell_type": "code",
      "metadata": {
        "colab": {
          "base_uri": "https://localhost:8080/"
        },
        "id": "dd-WMIXTGqLQ",
        "outputId": "4b8e4bdb-5916-403a-f347-6e4acabfbcb0"
      },
      "source": [
        "df = pd.DataFrame(np.array([d1,d2,d3]).T,columns=['x1','x2','x3'])\n",
        "print(df.head())"
      ],
      "execution_count": null,
      "outputs": [
        {
          "output_type": "stream",
          "text": [
            "         x1        x2    x3\n",
            "0  3.942870  1.369531  55.0\n",
            "1  0.618049  0.943264  68.0\n",
            "2  5.865414  0.590663  73.0\n",
            "3  2.374696  0.206548  59.0\n",
            "4  1.558823  0.223204  60.0\n"
          ],
          "name": "stdout"
        }
      ]
    },
    {
      "cell_type": "code",
      "metadata": {
        "colab": {
          "base_uri": "https://localhost:8080/"
        },
        "id": "9KgaZ-VjG9aE",
        "outputId": "fc49252c-9ce7-489c-f7be-ae182f5a4d00"
      },
      "source": [
        "def stats(x):\n",
        "\treturn pd.Series([x.count(),x.min(),x.idxmin(),x.quantile(.25),x.median(),x.quantile(.75),\n",
        "                      x.mean(),x.max(),x.idxmax(),x.mad(),x.var(),x.std(),x.skew(),x.kurt()],\n",
        "                     index = ['Count','Min','Whicn_Min','Q1','Median','Q3','Mean','Max',\n",
        "                              'Which_Max','Mad','Var','Std','Skew','Kurt'])\n",
        "print(stats(d1))"
      ],
      "execution_count": null,
      "outputs": [
        {
          "output_type": "stream",
          "text": [
            "Count        100.000000\n",
            "Min           -4.127033\n",
            "Whicn_Min     81.000000\n",
            "Q1             2.040101\n",
            "Median         3.204555\n",
            "Q3             4.434788\n",
            "Mean           3.070225\n",
            "Max            7.781921\n",
            "Which_Max     39.000000\n",
            "Mad            1.511288\n",
            "Var            4.005609\n",
            "Std            2.001402\n",
            "Skew          -0.649478\n",
            "Kurt           1.220109\n",
            "dtype: float64\n"
          ],
          "name": "stdout"
        }
      ]
    },
    {
      "cell_type": "code",
      "metadata": {
        "colab": {
          "base_uri": "https://localhost:8080/"
        },
        "id": "Px8S9YA_HE0M",
        "outputId": "6ba2b9c0-1f2f-4906-eb0f-7d26cd2860bf"
      },
      "source": [
        "print(df.apply(stats))"
      ],
      "execution_count": null,
      "outputs": [
        {
          "output_type": "stream",
          "text": [
            "                   x1          x2          x3\n",
            "Count      100.000000  100.000000  100.000000\n",
            "Min         -4.127033    0.014330    3.000000\n",
            "Whicn_Min   81.000000   72.000000   76.000000\n",
            "Q1           2.040101    0.249580   25.000000\n",
            "Median       3.204555    1.000613   54.500000\n",
            "Q3           4.434788    2.101581   73.000000\n",
            "Mean         3.070225    2.028608   51.490000\n",
            "Max          7.781921   18.791565   98.000000\n",
            "Which_Max   39.000000   53.000000   96.000000\n",
            "Mad          1.511288    1.922669   24.010800\n",
            "Var          4.005609   10.206447  780.090808\n",
            "Std          2.001402    3.194753   27.930106\n",
            "Skew        -0.649478    3.326246   -0.118917\n",
            "Kurt         1.220109   12.636286   -1.211579\n"
          ],
          "name": "stdout"
        }
      ]
    },
    {
      "cell_type": "markdown",
      "metadata": {
        "id": "aUznBDf2H-NL"
      },
      "source": [
        "相关系数："
      ]
    },
    {
      "cell_type": "code",
      "metadata": {
        "colab": {
          "base_uri": "https://localhost:8080/",
          "height": 136
        },
        "id": "KPAJajLaIAuJ",
        "outputId": "9771f048-2f0d-498b-ca0b-3cdf0d6d2dde"
      },
      "source": [
        "df.corr()"
      ],
      "execution_count": null,
      "outputs": [
        {
          "output_type": "execute_result",
          "data": {
            "text/html": [
              "<div>\n",
              "<style scoped>\n",
              "    .dataframe tbody tr th:only-of-type {\n",
              "        vertical-align: middle;\n",
              "    }\n",
              "\n",
              "    .dataframe tbody tr th {\n",
              "        vertical-align: top;\n",
              "    }\n",
              "\n",
              "    .dataframe thead th {\n",
              "        text-align: right;\n",
              "    }\n",
              "</style>\n",
              "<table border=\"1\" class=\"dataframe\">\n",
              "  <thead>\n",
              "    <tr style=\"text-align: right;\">\n",
              "      <th></th>\n",
              "      <th>x1</th>\n",
              "      <th>x2</th>\n",
              "      <th>x3</th>\n",
              "    </tr>\n",
              "  </thead>\n",
              "  <tbody>\n",
              "    <tr>\n",
              "      <th>x1</th>\n",
              "      <td>1.000000</td>\n",
              "      <td>0.136085</td>\n",
              "      <td>0.037185</td>\n",
              "    </tr>\n",
              "    <tr>\n",
              "      <th>x2</th>\n",
              "      <td>0.136085</td>\n",
              "      <td>1.000000</td>\n",
              "      <td>-0.005688</td>\n",
              "    </tr>\n",
              "    <tr>\n",
              "      <th>x3</th>\n",
              "      <td>0.037185</td>\n",
              "      <td>-0.005688</td>\n",
              "      <td>1.000000</td>\n",
              "    </tr>\n",
              "  </tbody>\n",
              "</table>\n",
              "</div>"
            ],
            "text/plain": [
              "          x1        x2        x3\n",
              "x1  1.000000  0.136085  0.037185\n",
              "x2  0.136085  1.000000 -0.005688\n",
              "x3  0.037185 -0.005688  1.000000"
            ]
          },
          "metadata": {
            "tags": []
          },
          "execution_count": 6
        }
      ]
    },
    {
      "cell_type": "code",
      "metadata": {
        "colab": {
          "base_uri": "https://localhost:8080/"
        },
        "id": "h6ML4QzKIUcX",
        "outputId": "ef762492-6f01-4216-aaa2-6683c3903775"
      },
      "source": [
        "df.corrwith(df['x1'])"
      ],
      "execution_count": null,
      "outputs": [
        {
          "output_type": "execute_result",
          "data": {
            "text/plain": [
              "x1    1.000000\n",
              "x2    0.136085\n",
              "x3    0.037185\n",
              "dtype: float64"
            ]
          },
          "metadata": {
            "tags": []
          },
          "execution_count": 9
        }
      ]
    },
    {
      "cell_type": "markdown",
      "metadata": {
        "id": "x4giLp49Irug"
      },
      "source": [
        "数值型变量间的协方差矩阵"
      ]
    },
    {
      "cell_type": "code",
      "metadata": {
        "colab": {
          "base_uri": "https://localhost:8080/",
          "height": 136
        },
        "id": "vPt5JcDJIsTM",
        "outputId": "6b52382a-544d-4166-a88c-c630bbffccd0"
      },
      "source": [
        "df.cov()"
      ],
      "execution_count": null,
      "outputs": [
        {
          "output_type": "execute_result",
          "data": {
            "text/html": [
              "<div>\n",
              "<style scoped>\n",
              "    .dataframe tbody tr th:only-of-type {\n",
              "        vertical-align: middle;\n",
              "    }\n",
              "\n",
              "    .dataframe tbody tr th {\n",
              "        vertical-align: top;\n",
              "    }\n",
              "\n",
              "    .dataframe thead th {\n",
              "        text-align: right;\n",
              "    }\n",
              "</style>\n",
              "<table border=\"1\" class=\"dataframe\">\n",
              "  <thead>\n",
              "    <tr style=\"text-align: right;\">\n",
              "      <th></th>\n",
              "      <th>x1</th>\n",
              "      <th>x2</th>\n",
              "      <th>x3</th>\n",
              "    </tr>\n",
              "  </thead>\n",
              "  <tbody>\n",
              "    <tr>\n",
              "      <th>x1</th>\n",
              "      <td>4.005609</td>\n",
              "      <td>0.870124</td>\n",
              "      <td>2.078596</td>\n",
              "    </tr>\n",
              "    <tr>\n",
              "      <th>x2</th>\n",
              "      <td>0.870124</td>\n",
              "      <td>10.206447</td>\n",
              "      <td>-0.507512</td>\n",
              "    </tr>\n",
              "    <tr>\n",
              "      <th>x3</th>\n",
              "      <td>2.078596</td>\n",
              "      <td>-0.507512</td>\n",
              "      <td>780.090808</td>\n",
              "    </tr>\n",
              "  </tbody>\n",
              "</table>\n",
              "</div>"
            ],
            "text/plain": [
              "          x1         x2          x3\n",
              "x1  4.005609   0.870124    2.078596\n",
              "x2  0.870124  10.206447   -0.507512\n",
              "x3  2.078596  -0.507512  780.090808"
            ]
          },
          "metadata": {
            "tags": []
          },
          "execution_count": 10
        }
      ]
    },
    {
      "cell_type": "markdown",
      "metadata": {
        "id": "gdOfYrU4JU6l"
      },
      "source": [
        "# 5. 利用pandas实现SQL操作"
      ]
    },
    {
      "cell_type": "markdown",
      "metadata": {
        "id": "LJsB92nvqiMS"
      },
      "source": [
        "## 增加新的行或者新的类"
      ]
    },
    {
      "cell_type": "code",
      "metadata": {
        "id": "21R2bXSjJovX",
        "colab": {
          "base_uri": "https://localhost:8080/",
          "height": 106
        },
        "outputId": "7a79ee20-9bfb-4538-8376-0311bb647bcf"
      },
      "source": [
        "dic = {'Name':['LiuShunxiang','Zhangshan'],'Sex':['M','F'],'Age':[27,23],'Height':[165.7,167.2],'Weight':[61,63]}\n",
        "student2 = pd.DataFrame(dic)\n",
        "student2"
      ],
      "execution_count": null,
      "outputs": [
        {
          "output_type": "execute_result",
          "data": {
            "text/html": [
              "<div>\n",
              "<style scoped>\n",
              "    .dataframe tbody tr th:only-of-type {\n",
              "        vertical-align: middle;\n",
              "    }\n",
              "\n",
              "    .dataframe tbody tr th {\n",
              "        vertical-align: top;\n",
              "    }\n",
              "\n",
              "    .dataframe thead th {\n",
              "        text-align: right;\n",
              "    }\n",
              "</style>\n",
              "<table border=\"1\" class=\"dataframe\">\n",
              "  <thead>\n",
              "    <tr style=\"text-align: right;\">\n",
              "      <th></th>\n",
              "      <th>Name</th>\n",
              "      <th>Sex</th>\n",
              "      <th>Age</th>\n",
              "      <th>Height</th>\n",
              "      <th>Weight</th>\n",
              "    </tr>\n",
              "  </thead>\n",
              "  <tbody>\n",
              "    <tr>\n",
              "      <th>0</th>\n",
              "      <td>LiuShunxiang</td>\n",
              "      <td>M</td>\n",
              "      <td>27</td>\n",
              "      <td>165.7</td>\n",
              "      <td>61</td>\n",
              "    </tr>\n",
              "    <tr>\n",
              "      <th>1</th>\n",
              "      <td>Zhangshan</td>\n",
              "      <td>F</td>\n",
              "      <td>23</td>\n",
              "      <td>167.2</td>\n",
              "      <td>63</td>\n",
              "    </tr>\n",
              "  </tbody>\n",
              "</table>\n",
              "</div>"
            ],
            "text/plain": [
              "           Name Sex  Age  Height  Weight\n",
              "0  LiuShunxiang   M   27   165.7      61\n",
              "1     Zhangshan   F   23   167.2      63"
            ]
          },
          "metadata": {
            "tags": []
          },
          "execution_count": 4
        }
      ]
    },
    {
      "cell_type": "markdown",
      "metadata": {
        "id": "XJ2rGC3YrILs"
      },
      "source": [
        "通过concat函数将student2添加到student中："
      ]
    },
    {
      "cell_type": "code",
      "metadata": {
        "colab": {
          "base_uri": "https://localhost:8080/",
          "height": 195
        },
        "id": "pZQ_iSOOrEQ0",
        "outputId": "1c9c11b0-2e69-414c-a156-cbe45fe4c939"
      },
      "source": [
        "student3 = pd.concat([student,student2])\n",
        "student3.tail()"
      ],
      "execution_count": null,
      "outputs": [
        {
          "output_type": "execute_result",
          "data": {
            "text/html": [
              "<div>\n",
              "<style scoped>\n",
              "    .dataframe tbody tr th:only-of-type {\n",
              "        vertical-align: middle;\n",
              "    }\n",
              "\n",
              "    .dataframe tbody tr th {\n",
              "        vertical-align: top;\n",
              "    }\n",
              "\n",
              "    .dataframe thead th {\n",
              "        text-align: right;\n",
              "    }\n",
              "</style>\n",
              "<table border=\"1\" class=\"dataframe\">\n",
              "  <thead>\n",
              "    <tr style=\"text-align: right;\">\n",
              "      <th></th>\n",
              "      <th>Age</th>\n",
              "      <th>Height</th>\n",
              "      <th>Name</th>\n",
              "      <th>Sex</th>\n",
              "      <th>Weight</th>\n",
              "    </tr>\n",
              "  </thead>\n",
              "  <tbody>\n",
              "    <tr>\n",
              "      <th>16</th>\n",
              "      <td>15</td>\n",
              "      <td>67.0</td>\n",
              "      <td>Ronald</td>\n",
              "      <td>M</td>\n",
              "      <td>133.0</td>\n",
              "    </tr>\n",
              "    <tr>\n",
              "      <th>17</th>\n",
              "      <td>11</td>\n",
              "      <td>57.5</td>\n",
              "      <td>Thomas</td>\n",
              "      <td>M</td>\n",
              "      <td>85.0</td>\n",
              "    </tr>\n",
              "    <tr>\n",
              "      <th>18</th>\n",
              "      <td>15</td>\n",
              "      <td>66.5</td>\n",
              "      <td>Willam</td>\n",
              "      <td>M</td>\n",
              "      <td>112.0</td>\n",
              "    </tr>\n",
              "    <tr>\n",
              "      <th>0</th>\n",
              "      <td>27</td>\n",
              "      <td>165.7</td>\n",
              "      <td>LiuShunxiang</td>\n",
              "      <td>M</td>\n",
              "      <td>61.0</td>\n",
              "    </tr>\n",
              "    <tr>\n",
              "      <th>1</th>\n",
              "      <td>23</td>\n",
              "      <td>167.2</td>\n",
              "      <td>Zhangshan</td>\n",
              "      <td>F</td>\n",
              "      <td>63.0</td>\n",
              "    </tr>\n",
              "  </tbody>\n",
              "</table>\n",
              "</div>"
            ],
            "text/plain": [
              "    Age  Height          Name Sex  Weight\n",
              "16   15    67.0        Ronald   M   133.0\n",
              "17   11    57.5        Thomas   M    85.0\n",
              "18   15    66.5        Willam   M   112.0\n",
              "0    27   165.7  LiuShunxiang   M    61.0\n",
              "1    23   167.2     Zhangshan   F    63.0"
            ]
          },
          "metadata": {
            "tags": []
          },
          "execution_count": 5
        }
      ]
    },
    {
      "cell_type": "markdown",
      "metadata": {
        "id": "bY3pZ8wErgmj"
      },
      "source": [
        "如果想新增列的话："
      ]
    },
    {
      "cell_type": "code",
      "metadata": {
        "colab": {
          "base_uri": "https://localhost:8080/",
          "height": 106
        },
        "id": "xaHKwpaErjtV",
        "outputId": "4b98342a-de1e-4fe7-fdd3-63201ef610a2"
      },
      "source": [
        "pd.DataFrame(student2,columns=['Age','Height','Name','Sex','Weight','Score'])"
      ],
      "execution_count": null,
      "outputs": [
        {
          "output_type": "execute_result",
          "data": {
            "text/html": [
              "<div>\n",
              "<style scoped>\n",
              "    .dataframe tbody tr th:only-of-type {\n",
              "        vertical-align: middle;\n",
              "    }\n",
              "\n",
              "    .dataframe tbody tr th {\n",
              "        vertical-align: top;\n",
              "    }\n",
              "\n",
              "    .dataframe thead th {\n",
              "        text-align: right;\n",
              "    }\n",
              "</style>\n",
              "<table border=\"1\" class=\"dataframe\">\n",
              "  <thead>\n",
              "    <tr style=\"text-align: right;\">\n",
              "      <th></th>\n",
              "      <th>Age</th>\n",
              "      <th>Height</th>\n",
              "      <th>Name</th>\n",
              "      <th>Sex</th>\n",
              "      <th>Weight</th>\n",
              "      <th>Score</th>\n",
              "    </tr>\n",
              "  </thead>\n",
              "  <tbody>\n",
              "    <tr>\n",
              "      <th>0</th>\n",
              "      <td>27</td>\n",
              "      <td>165.7</td>\n",
              "      <td>LiuShunxiang</td>\n",
              "      <td>M</td>\n",
              "      <td>61</td>\n",
              "      <td>NaN</td>\n",
              "    </tr>\n",
              "    <tr>\n",
              "      <th>1</th>\n",
              "      <td>23</td>\n",
              "      <td>167.2</td>\n",
              "      <td>Zhangshan</td>\n",
              "      <td>F</td>\n",
              "      <td>63</td>\n",
              "      <td>NaN</td>\n",
              "    </tr>\n",
              "  </tbody>\n",
              "</table>\n",
              "</div>"
            ],
            "text/plain": [
              "   Age  Height          Name Sex  Weight  Score\n",
              "0   27   165.7  LiuShunxiang   M      61    NaN\n",
              "1   23   167.2     Zhangshan   F      63    NaN"
            ]
          },
          "metadata": {
            "tags": []
          },
          "execution_count": 7
        }
      ]
    },
    {
      "cell_type": "markdown",
      "metadata": {
        "id": "hFWM-TG4r4TO"
      },
      "source": [
        "注意，新增的列如果没有赋值，所显示值为`NaN`。"
      ]
    },
    {
      "cell_type": "markdown",
      "metadata": {
        "id": "qoJVr6UusIdt"
      },
      "source": [
        "## 删除行或者列\n",
        "\n",
        "使用`del`命令可以删除Python所有对象。"
      ]
    },
    {
      "cell_type": "markdown",
      "metadata": {
        "id": "ba0nQ_c4sfD8"
      },
      "source": [
        "删除指定的行"
      ]
    },
    {
      "cell_type": "code",
      "metadata": {
        "colab": {
          "base_uri": "https://localhost:8080/",
          "height": 491
        },
        "id": "FSUfXygdsiOu",
        "outputId": "ebf73b31-f39a-4748-ca28-69a3058cb73c"
      },
      "source": [
        "student.drop([0,1,3,6])"
      ],
      "execution_count": null,
      "outputs": [
        {
          "output_type": "execute_result",
          "data": {
            "text/html": [
              "<div>\n",
              "<style scoped>\n",
              "    .dataframe tbody tr th:only-of-type {\n",
              "        vertical-align: middle;\n",
              "    }\n",
              "\n",
              "    .dataframe tbody tr th {\n",
              "        vertical-align: top;\n",
              "    }\n",
              "\n",
              "    .dataframe thead th {\n",
              "        text-align: right;\n",
              "    }\n",
              "</style>\n",
              "<table border=\"1\" class=\"dataframe\">\n",
              "  <thead>\n",
              "    <tr style=\"text-align: right;\">\n",
              "      <th></th>\n",
              "      <th>Age</th>\n",
              "      <th>Height</th>\n",
              "      <th>Name</th>\n",
              "      <th>Sex</th>\n",
              "      <th>Weight</th>\n",
              "    </tr>\n",
              "  </thead>\n",
              "  <tbody>\n",
              "    <tr>\n",
              "      <th>2</th>\n",
              "      <td>13</td>\n",
              "      <td>65.3</td>\n",
              "      <td>Barbara</td>\n",
              "      <td>F</td>\n",
              "      <td>98.0</td>\n",
              "    </tr>\n",
              "    <tr>\n",
              "      <th>4</th>\n",
              "      <td>14</td>\n",
              "      <td>63.5</td>\n",
              "      <td>Henry</td>\n",
              "      <td>M</td>\n",
              "      <td>102.5</td>\n",
              "    </tr>\n",
              "    <tr>\n",
              "      <th>5</th>\n",
              "      <td>12</td>\n",
              "      <td>57.3</td>\n",
              "      <td>James</td>\n",
              "      <td>M</td>\n",
              "      <td>83.0</td>\n",
              "    </tr>\n",
              "    <tr>\n",
              "      <th>7</th>\n",
              "      <td>15</td>\n",
              "      <td>62.5</td>\n",
              "      <td>Janet</td>\n",
              "      <td>F</td>\n",
              "      <td>112.5</td>\n",
              "    </tr>\n",
              "    <tr>\n",
              "      <th>8</th>\n",
              "      <td>13</td>\n",
              "      <td>62.5</td>\n",
              "      <td>Jeffrey</td>\n",
              "      <td>M</td>\n",
              "      <td>84.0</td>\n",
              "    </tr>\n",
              "    <tr>\n",
              "      <th>9</th>\n",
              "      <td>12</td>\n",
              "      <td>59.0</td>\n",
              "      <td>John</td>\n",
              "      <td>M</td>\n",
              "      <td>99.5</td>\n",
              "    </tr>\n",
              "    <tr>\n",
              "      <th>10</th>\n",
              "      <td>11</td>\n",
              "      <td>51.3</td>\n",
              "      <td>Joyce</td>\n",
              "      <td>F</td>\n",
              "      <td>50.5</td>\n",
              "    </tr>\n",
              "    <tr>\n",
              "      <th>11</th>\n",
              "      <td>14</td>\n",
              "      <td>64.3</td>\n",
              "      <td>Judy</td>\n",
              "      <td>F</td>\n",
              "      <td>90.0</td>\n",
              "    </tr>\n",
              "    <tr>\n",
              "      <th>12</th>\n",
              "      <td>12</td>\n",
              "      <td>56.3</td>\n",
              "      <td>Louise</td>\n",
              "      <td>F</td>\n",
              "      <td>77.0</td>\n",
              "    </tr>\n",
              "    <tr>\n",
              "      <th>13</th>\n",
              "      <td>15</td>\n",
              "      <td>66.5</td>\n",
              "      <td>Marry</td>\n",
              "      <td>F</td>\n",
              "      <td>112.0</td>\n",
              "    </tr>\n",
              "    <tr>\n",
              "      <th>14</th>\n",
              "      <td>16</td>\n",
              "      <td>72.0</td>\n",
              "      <td>Philip</td>\n",
              "      <td>M</td>\n",
              "      <td>150.0</td>\n",
              "    </tr>\n",
              "    <tr>\n",
              "      <th>15</th>\n",
              "      <td>12</td>\n",
              "      <td>64.8</td>\n",
              "      <td>Robert</td>\n",
              "      <td>M</td>\n",
              "      <td>128.0</td>\n",
              "    </tr>\n",
              "    <tr>\n",
              "      <th>16</th>\n",
              "      <td>15</td>\n",
              "      <td>67.0</td>\n",
              "      <td>Ronald</td>\n",
              "      <td>M</td>\n",
              "      <td>133.0</td>\n",
              "    </tr>\n",
              "    <tr>\n",
              "      <th>17</th>\n",
              "      <td>11</td>\n",
              "      <td>57.5</td>\n",
              "      <td>Thomas</td>\n",
              "      <td>M</td>\n",
              "      <td>85.0</td>\n",
              "    </tr>\n",
              "    <tr>\n",
              "      <th>18</th>\n",
              "      <td>15</td>\n",
              "      <td>66.5</td>\n",
              "      <td>Willam</td>\n",
              "      <td>M</td>\n",
              "      <td>112.0</td>\n",
              "    </tr>\n",
              "  </tbody>\n",
              "</table>\n",
              "</div>"
            ],
            "text/plain": [
              "    Age  Height     Name Sex  Weight\n",
              "2    13    65.3  Barbara   F    98.0\n",
              "4    14    63.5    Henry   M   102.5\n",
              "5    12    57.3    James   M    83.0\n",
              "7    15    62.5    Janet   F   112.5\n",
              "8    13    62.5  Jeffrey   M    84.0\n",
              "9    12    59.0     John   M    99.5\n",
              "10   11    51.3    Joyce   F    50.5\n",
              "11   14    64.3     Judy   F    90.0\n",
              "12   12    56.3   Louise   F    77.0\n",
              "13   15    66.5    Marry   F   112.0\n",
              "14   16    72.0   Philip   M   150.0\n",
              "15   12    64.8   Robert   M   128.0\n",
              "16   15    67.0   Ronald   M   133.0\n",
              "17   11    57.5   Thomas   M    85.0\n",
              "18   15    66.5   Willam   M   112.0"
            ]
          },
          "metadata": {
            "tags": []
          },
          "execution_count": 12
        }
      ]
    },
    {
      "cell_type": "code",
      "metadata": {
        "colab": {
          "base_uri": "https://localhost:8080/",
          "height": 610
        },
        "id": "ReaSarAas75l",
        "outputId": "fb78cc64-834c-4bae-f809-10171d76013f"
      },
      "source": [
        "student"
      ],
      "execution_count": null,
      "outputs": [
        {
          "output_type": "execute_result",
          "data": {
            "text/html": [
              "<div>\n",
              "<style scoped>\n",
              "    .dataframe tbody tr th:only-of-type {\n",
              "        vertical-align: middle;\n",
              "    }\n",
              "\n",
              "    .dataframe tbody tr th {\n",
              "        vertical-align: top;\n",
              "    }\n",
              "\n",
              "    .dataframe thead th {\n",
              "        text-align: right;\n",
              "    }\n",
              "</style>\n",
              "<table border=\"1\" class=\"dataframe\">\n",
              "  <thead>\n",
              "    <tr style=\"text-align: right;\">\n",
              "      <th></th>\n",
              "      <th>Age</th>\n",
              "      <th>Height</th>\n",
              "      <th>Name</th>\n",
              "      <th>Sex</th>\n",
              "      <th>Weight</th>\n",
              "    </tr>\n",
              "  </thead>\n",
              "  <tbody>\n",
              "    <tr>\n",
              "      <th>0</th>\n",
              "      <td>14</td>\n",
              "      <td>69.0</td>\n",
              "      <td>Alfred</td>\n",
              "      <td>M</td>\n",
              "      <td>112.5</td>\n",
              "    </tr>\n",
              "    <tr>\n",
              "      <th>1</th>\n",
              "      <td>13</td>\n",
              "      <td>56.5</td>\n",
              "      <td>Alice</td>\n",
              "      <td>F</td>\n",
              "      <td>84.0</td>\n",
              "    </tr>\n",
              "    <tr>\n",
              "      <th>2</th>\n",
              "      <td>13</td>\n",
              "      <td>65.3</td>\n",
              "      <td>Barbara</td>\n",
              "      <td>F</td>\n",
              "      <td>98.0</td>\n",
              "    </tr>\n",
              "    <tr>\n",
              "      <th>3</th>\n",
              "      <td>14</td>\n",
              "      <td>62.8</td>\n",
              "      <td>Carol</td>\n",
              "      <td>F</td>\n",
              "      <td>102.5</td>\n",
              "    </tr>\n",
              "    <tr>\n",
              "      <th>4</th>\n",
              "      <td>14</td>\n",
              "      <td>63.5</td>\n",
              "      <td>Henry</td>\n",
              "      <td>M</td>\n",
              "      <td>102.5</td>\n",
              "    </tr>\n",
              "    <tr>\n",
              "      <th>5</th>\n",
              "      <td>12</td>\n",
              "      <td>57.3</td>\n",
              "      <td>James</td>\n",
              "      <td>M</td>\n",
              "      <td>83.0</td>\n",
              "    </tr>\n",
              "    <tr>\n",
              "      <th>6</th>\n",
              "      <td>12</td>\n",
              "      <td>59.8</td>\n",
              "      <td>Jane</td>\n",
              "      <td>F</td>\n",
              "      <td>84.5</td>\n",
              "    </tr>\n",
              "    <tr>\n",
              "      <th>7</th>\n",
              "      <td>15</td>\n",
              "      <td>62.5</td>\n",
              "      <td>Janet</td>\n",
              "      <td>F</td>\n",
              "      <td>112.5</td>\n",
              "    </tr>\n",
              "    <tr>\n",
              "      <th>8</th>\n",
              "      <td>13</td>\n",
              "      <td>62.5</td>\n",
              "      <td>Jeffrey</td>\n",
              "      <td>M</td>\n",
              "      <td>84.0</td>\n",
              "    </tr>\n",
              "    <tr>\n",
              "      <th>9</th>\n",
              "      <td>12</td>\n",
              "      <td>59.0</td>\n",
              "      <td>John</td>\n",
              "      <td>M</td>\n",
              "      <td>99.5</td>\n",
              "    </tr>\n",
              "    <tr>\n",
              "      <th>10</th>\n",
              "      <td>11</td>\n",
              "      <td>51.3</td>\n",
              "      <td>Joyce</td>\n",
              "      <td>F</td>\n",
              "      <td>50.5</td>\n",
              "    </tr>\n",
              "    <tr>\n",
              "      <th>11</th>\n",
              "      <td>14</td>\n",
              "      <td>64.3</td>\n",
              "      <td>Judy</td>\n",
              "      <td>F</td>\n",
              "      <td>90.0</td>\n",
              "    </tr>\n",
              "    <tr>\n",
              "      <th>12</th>\n",
              "      <td>12</td>\n",
              "      <td>56.3</td>\n",
              "      <td>Louise</td>\n",
              "      <td>F</td>\n",
              "      <td>77.0</td>\n",
              "    </tr>\n",
              "    <tr>\n",
              "      <th>13</th>\n",
              "      <td>15</td>\n",
              "      <td>66.5</td>\n",
              "      <td>Marry</td>\n",
              "      <td>F</td>\n",
              "      <td>112.0</td>\n",
              "    </tr>\n",
              "    <tr>\n",
              "      <th>14</th>\n",
              "      <td>16</td>\n",
              "      <td>72.0</td>\n",
              "      <td>Philip</td>\n",
              "      <td>M</td>\n",
              "      <td>150.0</td>\n",
              "    </tr>\n",
              "    <tr>\n",
              "      <th>15</th>\n",
              "      <td>12</td>\n",
              "      <td>64.8</td>\n",
              "      <td>Robert</td>\n",
              "      <td>M</td>\n",
              "      <td>128.0</td>\n",
              "    </tr>\n",
              "    <tr>\n",
              "      <th>16</th>\n",
              "      <td>15</td>\n",
              "      <td>67.0</td>\n",
              "      <td>Ronald</td>\n",
              "      <td>M</td>\n",
              "      <td>133.0</td>\n",
              "    </tr>\n",
              "    <tr>\n",
              "      <th>17</th>\n",
              "      <td>11</td>\n",
              "      <td>57.5</td>\n",
              "      <td>Thomas</td>\n",
              "      <td>M</td>\n",
              "      <td>85.0</td>\n",
              "    </tr>\n",
              "    <tr>\n",
              "      <th>18</th>\n",
              "      <td>15</td>\n",
              "      <td>66.5</td>\n",
              "      <td>Willam</td>\n",
              "      <td>M</td>\n",
              "      <td>112.0</td>\n",
              "    </tr>\n",
              "  </tbody>\n",
              "</table>\n",
              "</div>"
            ],
            "text/plain": [
              "    Age  Height     Name Sex  Weight\n",
              "0    14    69.0   Alfred   M   112.5\n",
              "1    13    56.5    Alice   F    84.0\n",
              "2    13    65.3  Barbara   F    98.0\n",
              "3    14    62.8    Carol   F   102.5\n",
              "4    14    63.5    Henry   M   102.5\n",
              "5    12    57.3    James   M    83.0\n",
              "6    12    59.8     Jane   F    84.5\n",
              "7    15    62.5    Janet   F   112.5\n",
              "8    13    62.5  Jeffrey   M    84.0\n",
              "9    12    59.0     John   M    99.5\n",
              "10   11    51.3    Joyce   F    50.5\n",
              "11   14    64.3     Judy   F    90.0\n",
              "12   12    56.3   Louise   F    77.0\n",
              "13   15    66.5    Marry   F   112.0\n",
              "14   16    72.0   Philip   M   150.0\n",
              "15   12    64.8   Robert   M   128.0\n",
              "16   15    67.0   Ronald   M   133.0\n",
              "17   11    57.5   Thomas   M    85.0\n",
              "18   15    66.5   Willam   M   112.0"
            ]
          },
          "metadata": {
            "tags": []
          },
          "execution_count": 13
        }
      ]
    },
    {
      "cell_type": "markdown",
      "metadata": {
        "id": "KTPA5fOGs-hG"
      },
      "source": [
        "注意，这里都是函数返回删除后的数据，并不是对原数据进行更改，这可能是pandas设计时候的思路吧？\n",
        "\n",
        "根据布尔索引进行数据的删除："
      ]
    },
    {
      "cell_type": "code",
      "metadata": {
        "colab": {
          "base_uri": "https://localhost:8080/",
          "height": 195
        },
        "id": "QUkIcmVCtrKL",
        "outputId": "e3f0f971-0ca8-4654-a4ea-f3efc244efc6"
      },
      "source": [
        "student[student['Age'] > 14]"
      ],
      "execution_count": null,
      "outputs": [
        {
          "output_type": "execute_result",
          "data": {
            "text/html": [
              "<div>\n",
              "<style scoped>\n",
              "    .dataframe tbody tr th:only-of-type {\n",
              "        vertical-align: middle;\n",
              "    }\n",
              "\n",
              "    .dataframe tbody tr th {\n",
              "        vertical-align: top;\n",
              "    }\n",
              "\n",
              "    .dataframe thead th {\n",
              "        text-align: right;\n",
              "    }\n",
              "</style>\n",
              "<table border=\"1\" class=\"dataframe\">\n",
              "  <thead>\n",
              "    <tr style=\"text-align: right;\">\n",
              "      <th></th>\n",
              "      <th>Age</th>\n",
              "      <th>Height</th>\n",
              "      <th>Name</th>\n",
              "      <th>Sex</th>\n",
              "      <th>Weight</th>\n",
              "    </tr>\n",
              "  </thead>\n",
              "  <tbody>\n",
              "    <tr>\n",
              "      <th>7</th>\n",
              "      <td>15</td>\n",
              "      <td>62.5</td>\n",
              "      <td>Janet</td>\n",
              "      <td>F</td>\n",
              "      <td>112.5</td>\n",
              "    </tr>\n",
              "    <tr>\n",
              "      <th>13</th>\n",
              "      <td>15</td>\n",
              "      <td>66.5</td>\n",
              "      <td>Marry</td>\n",
              "      <td>F</td>\n",
              "      <td>112.0</td>\n",
              "    </tr>\n",
              "    <tr>\n",
              "      <th>14</th>\n",
              "      <td>16</td>\n",
              "      <td>72.0</td>\n",
              "      <td>Philip</td>\n",
              "      <td>M</td>\n",
              "      <td>150.0</td>\n",
              "    </tr>\n",
              "    <tr>\n",
              "      <th>16</th>\n",
              "      <td>15</td>\n",
              "      <td>67.0</td>\n",
              "      <td>Ronald</td>\n",
              "      <td>M</td>\n",
              "      <td>133.0</td>\n",
              "    </tr>\n",
              "    <tr>\n",
              "      <th>18</th>\n",
              "      <td>15</td>\n",
              "      <td>66.5</td>\n",
              "      <td>Willam</td>\n",
              "      <td>M</td>\n",
              "      <td>112.0</td>\n",
              "    </tr>\n",
              "  </tbody>\n",
              "</table>\n",
              "</div>"
            ],
            "text/plain": [
              "    Age  Height    Name Sex  Weight\n",
              "7    15    62.5   Janet   F   112.5\n",
              "13   15    66.5   Marry   F   112.0\n",
              "14   16    72.0  Philip   M   150.0\n",
              "16   15    67.0  Ronald   M   133.0\n",
              "18   15    66.5  Willam   M   112.0"
            ]
          },
          "metadata": {
            "tags": []
          },
          "execution_count": 14
        }
      ]
    },
    {
      "cell_type": "markdown",
      "metadata": {
        "id": "UI3U5QYht3bD"
      },
      "source": [
        "删除指定列："
      ]
    },
    {
      "cell_type": "code",
      "metadata": {
        "colab": {
          "base_uri": "https://localhost:8080/",
          "height": 195
        },
        "id": "35faOKfzt6Jx",
        "outputId": "e84d080c-e29a-4807-c887-39bf3b9cd643"
      },
      "source": [
        "student.drop(['Height','Weight'],axis=1).head()"
      ],
      "execution_count": null,
      "outputs": [
        {
          "output_type": "execute_result",
          "data": {
            "text/html": [
              "<div>\n",
              "<style scoped>\n",
              "    .dataframe tbody tr th:only-of-type {\n",
              "        vertical-align: middle;\n",
              "    }\n",
              "\n",
              "    .dataframe tbody tr th {\n",
              "        vertical-align: top;\n",
              "    }\n",
              "\n",
              "    .dataframe thead th {\n",
              "        text-align: right;\n",
              "    }\n",
              "</style>\n",
              "<table border=\"1\" class=\"dataframe\">\n",
              "  <thead>\n",
              "    <tr style=\"text-align: right;\">\n",
              "      <th></th>\n",
              "      <th>Age</th>\n",
              "      <th>Name</th>\n",
              "      <th>Sex</th>\n",
              "    </tr>\n",
              "  </thead>\n",
              "  <tbody>\n",
              "    <tr>\n",
              "      <th>0</th>\n",
              "      <td>14</td>\n",
              "      <td>Alfred</td>\n",
              "      <td>M</td>\n",
              "    </tr>\n",
              "    <tr>\n",
              "      <th>1</th>\n",
              "      <td>13</td>\n",
              "      <td>Alice</td>\n",
              "      <td>F</td>\n",
              "    </tr>\n",
              "    <tr>\n",
              "      <th>2</th>\n",
              "      <td>13</td>\n",
              "      <td>Barbara</td>\n",
              "      <td>F</td>\n",
              "    </tr>\n",
              "    <tr>\n",
              "      <th>3</th>\n",
              "      <td>14</td>\n",
              "      <td>Carol</td>\n",
              "      <td>F</td>\n",
              "    </tr>\n",
              "    <tr>\n",
              "      <th>4</th>\n",
              "      <td>14</td>\n",
              "      <td>Henry</td>\n",
              "      <td>M</td>\n",
              "    </tr>\n",
              "  </tbody>\n",
              "</table>\n",
              "</div>"
            ],
            "text/plain": [
              "   Age     Name Sex\n",
              "0   14   Alfred   M\n",
              "1   13    Alice   F\n",
              "2   13  Barbara   F\n",
              "3   14    Carol   F\n",
              "4   14    Henry   M"
            ]
          },
          "metadata": {
            "tags": []
          },
          "execution_count": 15
        }
      ]
    },
    {
      "cell_type": "markdown",
      "metadata": {
        "id": "Iar6pqjzuAFJ"
      },
      "source": [
        "不论是删除行还是删除列，都可以通过drop方法实现，只需要设定好删除的轴即可，即调整drop方法中的axis参数。默认该参数为0，表示删除行观测，如果需要删除列变量，则需设置为1。\n",
        "\n",
        "## 修改原始记录的值"
      ]
    },
    {
      "cell_type": "code",
      "metadata": {
        "colab": {
          "base_uri": "https://localhost:8080/",
          "height": 77
        },
        "id": "HXdAC4eTuSzy",
        "outputId": "6eb9f99e-dc2f-4eb4-906b-672f985f301d"
      },
      "source": [
        "student3.loc[student3['Name'] == 'LiuShunxiang','Height']=173\n",
        "student3[student3['Name'] == 'LiuShunxiang']"
      ],
      "execution_count": null,
      "outputs": [
        {
          "output_type": "execute_result",
          "data": {
            "text/html": [
              "<div>\n",
              "<style scoped>\n",
              "    .dataframe tbody tr th:only-of-type {\n",
              "        vertical-align: middle;\n",
              "    }\n",
              "\n",
              "    .dataframe tbody tr th {\n",
              "        vertical-align: top;\n",
              "    }\n",
              "\n",
              "    .dataframe thead th {\n",
              "        text-align: right;\n",
              "    }\n",
              "</style>\n",
              "<table border=\"1\" class=\"dataframe\">\n",
              "  <thead>\n",
              "    <tr style=\"text-align: right;\">\n",
              "      <th></th>\n",
              "      <th>Age</th>\n",
              "      <th>Height</th>\n",
              "      <th>Name</th>\n",
              "      <th>Sex</th>\n",
              "      <th>Weight</th>\n",
              "    </tr>\n",
              "  </thead>\n",
              "  <tbody>\n",
              "    <tr>\n",
              "      <th>0</th>\n",
              "      <td>27</td>\n",
              "      <td>173.0</td>\n",
              "      <td>LiuShunxiang</td>\n",
              "      <td>M</td>\n",
              "      <td>61.0</td>\n",
              "    </tr>\n",
              "  </tbody>\n",
              "</table>\n",
              "</div>"
            ],
            "text/plain": [
              "   Age  Height          Name Sex  Weight\n",
              "0   27   173.0  LiuShunxiang   M    61.0"
            ]
          },
          "metadata": {
            "tags": []
          },
          "execution_count": 17
        }
      ]
    },
    {
      "cell_type": "markdown",
      "metadata": {
        "id": "nlZr8g40ut9Z"
      },
      "source": [
        "## 聚合操作\n",
        "\n",
        "pandas模块中可以通过groupby()函数实现数据的聚合操作。"
      ]
    },
    {
      "cell_type": "code",
      "metadata": {
        "colab": {
          "base_uri": "https://localhost:8080/",
          "height": 136
        },
        "id": "_4MlGs9vu0vy",
        "outputId": "d255855a-2cbe-477f-e027-9c59d7551a91"
      },
      "source": [
        "student.groupby('Sex').mean()"
      ],
      "execution_count": null,
      "outputs": [
        {
          "output_type": "execute_result",
          "data": {
            "text/html": [
              "<div>\n",
              "<style scoped>\n",
              "    .dataframe tbody tr th:only-of-type {\n",
              "        vertical-align: middle;\n",
              "    }\n",
              "\n",
              "    .dataframe tbody tr th {\n",
              "        vertical-align: top;\n",
              "    }\n",
              "\n",
              "    .dataframe thead th {\n",
              "        text-align: right;\n",
              "    }\n",
              "</style>\n",
              "<table border=\"1\" class=\"dataframe\">\n",
              "  <thead>\n",
              "    <tr style=\"text-align: right;\">\n",
              "      <th></th>\n",
              "      <th>Age</th>\n",
              "      <th>Height</th>\n",
              "      <th>Weight</th>\n",
              "    </tr>\n",
              "    <tr>\n",
              "      <th>Sex</th>\n",
              "      <th></th>\n",
              "      <th></th>\n",
              "      <th></th>\n",
              "    </tr>\n",
              "  </thead>\n",
              "  <tbody>\n",
              "    <tr>\n",
              "      <th>F</th>\n",
              "      <td>13.222222</td>\n",
              "      <td>60.588889</td>\n",
              "      <td>90.111111</td>\n",
              "    </tr>\n",
              "    <tr>\n",
              "      <th>M</th>\n",
              "      <td>13.400000</td>\n",
              "      <td>63.910000</td>\n",
              "      <td>108.950000</td>\n",
              "    </tr>\n",
              "  </tbody>\n",
              "</table>\n",
              "</div>"
            ],
            "text/plain": [
              "           Age     Height      Weight\n",
              "Sex                                  \n",
              "F    13.222222  60.588889   90.111111\n",
              "M    13.400000  63.910000  108.950000"
            ]
          },
          "metadata": {
            "tags": []
          },
          "execution_count": 18
        }
      ]
    },
    {
      "cell_type": "markdown",
      "metadata": {
        "id": "KjyANZ7Eu9tu"
      },
      "source": [
        "不对年龄取均值："
      ]
    },
    {
      "cell_type": "code",
      "metadata": {
        "colab": {
          "base_uri": "https://localhost:8080/",
          "height": 136
        },
        "id": "g0K9eNJCu8VR",
        "outputId": "96161d09-31cf-46a4-fd78-ba3389d9746f"
      },
      "source": [
        "student.drop('Age',axis=1).groupby('Sex').mean()"
      ],
      "execution_count": null,
      "outputs": [
        {
          "output_type": "execute_result",
          "data": {
            "text/html": [
              "<div>\n",
              "<style scoped>\n",
              "    .dataframe tbody tr th:only-of-type {\n",
              "        vertical-align: middle;\n",
              "    }\n",
              "\n",
              "    .dataframe tbody tr th {\n",
              "        vertical-align: top;\n",
              "    }\n",
              "\n",
              "    .dataframe thead th {\n",
              "        text-align: right;\n",
              "    }\n",
              "</style>\n",
              "<table border=\"1\" class=\"dataframe\">\n",
              "  <thead>\n",
              "    <tr style=\"text-align: right;\">\n",
              "      <th></th>\n",
              "      <th>Height</th>\n",
              "      <th>Weight</th>\n",
              "    </tr>\n",
              "    <tr>\n",
              "      <th>Sex</th>\n",
              "      <th></th>\n",
              "      <th></th>\n",
              "    </tr>\n",
              "  </thead>\n",
              "  <tbody>\n",
              "    <tr>\n",
              "      <th>F</th>\n",
              "      <td>60.588889</td>\n",
              "      <td>90.111111</td>\n",
              "    </tr>\n",
              "    <tr>\n",
              "      <th>M</th>\n",
              "      <td>63.910000</td>\n",
              "      <td>108.950000</td>\n",
              "    </tr>\n",
              "  </tbody>\n",
              "</table>\n",
              "</div>"
            ],
            "text/plain": [
              "        Height      Weight\n",
              "Sex                       \n",
              "F    60.588889   90.111111\n",
              "M    63.910000  108.950000"
            ]
          },
          "metadata": {
            "tags": []
          },
          "execution_count": 19
        }
      ]
    },
    {
      "cell_type": "markdown",
      "metadata": {
        "id": "BheV76iYvQR4"
      },
      "source": [
        "groupby还可以使用多个分组变量:"
      ]
    },
    {
      "cell_type": "code",
      "metadata": {
        "colab": {
          "base_uri": "https://localhost:8080/",
          "height": 402
        },
        "id": "dJKf08pXvRo9",
        "outputId": "70218b36-e61b-4322-895a-8c4083643303"
      },
      "source": [
        "student.groupby(['Sex','Age']).mean()"
      ],
      "execution_count": null,
      "outputs": [
        {
          "output_type": "execute_result",
          "data": {
            "text/html": [
              "<div>\n",
              "<style scoped>\n",
              "    .dataframe tbody tr th:only-of-type {\n",
              "        vertical-align: middle;\n",
              "    }\n",
              "\n",
              "    .dataframe tbody tr th {\n",
              "        vertical-align: top;\n",
              "    }\n",
              "\n",
              "    .dataframe thead th {\n",
              "        text-align: right;\n",
              "    }\n",
              "</style>\n",
              "<table border=\"1\" class=\"dataframe\">\n",
              "  <thead>\n",
              "    <tr style=\"text-align: right;\">\n",
              "      <th></th>\n",
              "      <th></th>\n",
              "      <th>Height</th>\n",
              "      <th>Weight</th>\n",
              "    </tr>\n",
              "    <tr>\n",
              "      <th>Sex</th>\n",
              "      <th>Age</th>\n",
              "      <th></th>\n",
              "      <th></th>\n",
              "    </tr>\n",
              "  </thead>\n",
              "  <tbody>\n",
              "    <tr>\n",
              "      <th rowspan=\"5\" valign=\"top\">F</th>\n",
              "      <th>11</th>\n",
              "      <td>51.300000</td>\n",
              "      <td>50.50</td>\n",
              "    </tr>\n",
              "    <tr>\n",
              "      <th>12</th>\n",
              "      <td>58.050000</td>\n",
              "      <td>80.75</td>\n",
              "    </tr>\n",
              "    <tr>\n",
              "      <th>13</th>\n",
              "      <td>60.900000</td>\n",
              "      <td>91.00</td>\n",
              "    </tr>\n",
              "    <tr>\n",
              "      <th>14</th>\n",
              "      <td>63.550000</td>\n",
              "      <td>96.25</td>\n",
              "    </tr>\n",
              "    <tr>\n",
              "      <th>15</th>\n",
              "      <td>64.500000</td>\n",
              "      <td>112.25</td>\n",
              "    </tr>\n",
              "    <tr>\n",
              "      <th rowspan=\"6\" valign=\"top\">M</th>\n",
              "      <th>11</th>\n",
              "      <td>57.500000</td>\n",
              "      <td>85.00</td>\n",
              "    </tr>\n",
              "    <tr>\n",
              "      <th>12</th>\n",
              "      <td>60.366667</td>\n",
              "      <td>103.50</td>\n",
              "    </tr>\n",
              "    <tr>\n",
              "      <th>13</th>\n",
              "      <td>62.500000</td>\n",
              "      <td>84.00</td>\n",
              "    </tr>\n",
              "    <tr>\n",
              "      <th>14</th>\n",
              "      <td>66.250000</td>\n",
              "      <td>107.50</td>\n",
              "    </tr>\n",
              "    <tr>\n",
              "      <th>15</th>\n",
              "      <td>66.750000</td>\n",
              "      <td>122.50</td>\n",
              "    </tr>\n",
              "    <tr>\n",
              "      <th>16</th>\n",
              "      <td>72.000000</td>\n",
              "      <td>150.00</td>\n",
              "    </tr>\n",
              "  </tbody>\n",
              "</table>\n",
              "</div>"
            ],
            "text/plain": [
              "            Height  Weight\n",
              "Sex Age                   \n",
              "F   11   51.300000   50.50\n",
              "    12   58.050000   80.75\n",
              "    13   60.900000   91.00\n",
              "    14   63.550000   96.25\n",
              "    15   64.500000  112.25\n",
              "M   11   57.500000   85.00\n",
              "    12   60.366667  103.50\n",
              "    13   62.500000   84.00\n",
              "    14   66.250000  107.50\n",
              "    15   66.750000  122.50\n",
              "    16   72.000000  150.00"
            ]
          },
          "metadata": {
            "tags": []
          },
          "execution_count": 20
        }
      ]
    },
    {
      "cell_type": "markdown",
      "metadata": {
        "id": "vv8msPqLvbtO"
      },
      "source": [
        "对每个分组计算多个统计量："
      ]
    },
    {
      "cell_type": "code",
      "metadata": {
        "colab": {
          "base_uri": "https://localhost:8080/",
          "height": 166
        },
        "id": "zLhlzOlzvcgX",
        "outputId": "d8c09b3e-346c-48dc-d4c2-e66da7ebe6cc"
      },
      "source": [
        "student.drop('Age',axis=1).groupby('Sex').agg([np.mean,np.median])"
      ],
      "execution_count": null,
      "outputs": [
        {
          "output_type": "execute_result",
          "data": {
            "text/html": [
              "<div>\n",
              "<style scoped>\n",
              "    .dataframe tbody tr th:only-of-type {\n",
              "        vertical-align: middle;\n",
              "    }\n",
              "\n",
              "    .dataframe tbody tr th {\n",
              "        vertical-align: top;\n",
              "    }\n",
              "\n",
              "    .dataframe thead tr th {\n",
              "        text-align: left;\n",
              "    }\n",
              "\n",
              "    .dataframe thead tr:last-of-type th {\n",
              "        text-align: right;\n",
              "    }\n",
              "</style>\n",
              "<table border=\"1\" class=\"dataframe\">\n",
              "  <thead>\n",
              "    <tr>\n",
              "      <th></th>\n",
              "      <th colspan=\"2\" halign=\"left\">Height</th>\n",
              "      <th colspan=\"2\" halign=\"left\">Weight</th>\n",
              "    </tr>\n",
              "    <tr>\n",
              "      <th></th>\n",
              "      <th>mean</th>\n",
              "      <th>median</th>\n",
              "      <th>mean</th>\n",
              "      <th>median</th>\n",
              "    </tr>\n",
              "    <tr>\n",
              "      <th>Sex</th>\n",
              "      <th></th>\n",
              "      <th></th>\n",
              "      <th></th>\n",
              "      <th></th>\n",
              "    </tr>\n",
              "  </thead>\n",
              "  <tbody>\n",
              "    <tr>\n",
              "      <th>F</th>\n",
              "      <td>60.588889</td>\n",
              "      <td>62.50</td>\n",
              "      <td>90.111111</td>\n",
              "      <td>90.00</td>\n",
              "    </tr>\n",
              "    <tr>\n",
              "      <th>M</th>\n",
              "      <td>63.910000</td>\n",
              "      <td>64.15</td>\n",
              "      <td>108.950000</td>\n",
              "      <td>107.25</td>\n",
              "    </tr>\n",
              "  </tbody>\n",
              "</table>\n",
              "</div>"
            ],
            "text/plain": [
              "        Height             Weight        \n",
              "          mean median        mean  median\n",
              "Sex                                      \n",
              "F    60.588889  62.50   90.111111   90.00\n",
              "M    63.910000  64.15  108.950000  107.25"
            ]
          },
          "metadata": {
            "tags": []
          },
          "execution_count": 21
        }
      ]
    },
    {
      "cell_type": "markdown",
      "metadata": {
        "id": "Rx5NCNnIv1OQ"
      },
      "source": [
        "## 排序\n",
        "\n",
        "可以使用sort_index和sort_values实现序列和数据框的排序工作："
      ]
    },
    {
      "cell_type": "code",
      "metadata": {
        "colab": {
          "base_uri": "https://localhost:8080/"
        },
        "id": "cZOB8_K-v5eC",
        "outputId": "51a1076b-19d2-4621-a14a-f519993fa609"
      },
      "source": [
        "Data = pd.Series(np.array(np.random.randint(1,20,10)))\n",
        "Data.sort_index()"
      ],
      "execution_count": null,
      "outputs": [
        {
          "output_type": "execute_result",
          "data": {
            "text/plain": [
              "0     6\n",
              "1    19\n",
              "2    13\n",
              "3    13\n",
              "4     5\n",
              "5    17\n",
              "6     9\n",
              "7     9\n",
              "8     4\n",
              "9    11\n",
              "dtype: int64"
            ]
          },
          "metadata": {
            "tags": []
          },
          "execution_count": 22
        }
      ]
    },
    {
      "cell_type": "code",
      "metadata": {
        "colab": {
          "base_uri": "https://localhost:8080/"
        },
        "id": "UxVgxS6dwRSI",
        "outputId": "cdf14dd5-0f95-48fc-91ac-f02f2d12da18"
      },
      "source": [
        "Data.sort_values()"
      ],
      "execution_count": null,
      "outputs": [
        {
          "output_type": "execute_result",
          "data": {
            "text/plain": [
              "8     4\n",
              "4     5\n",
              "0     6\n",
              "6     9\n",
              "7     9\n",
              "9    11\n",
              "2    13\n",
              "3    13\n",
              "5    17\n",
              "1    19\n",
              "dtype: int64"
            ]
          },
          "metadata": {
            "tags": []
          },
          "execution_count": 23
        }
      ]
    },
    {
      "cell_type": "code",
      "metadata": {
        "colab": {
          "base_uri": "https://localhost:8080/",
          "height": 610
        },
        "id": "7DOx3yVDweSK",
        "outputId": "515f0c6d-b92a-4076-9490-17446fe1d45c"
      },
      "source": [
        "student.sort_values(by=['Age','Height'])"
      ],
      "execution_count": null,
      "outputs": [
        {
          "output_type": "execute_result",
          "data": {
            "text/html": [
              "<div>\n",
              "<style scoped>\n",
              "    .dataframe tbody tr th:only-of-type {\n",
              "        vertical-align: middle;\n",
              "    }\n",
              "\n",
              "    .dataframe tbody tr th {\n",
              "        vertical-align: top;\n",
              "    }\n",
              "\n",
              "    .dataframe thead th {\n",
              "        text-align: right;\n",
              "    }\n",
              "</style>\n",
              "<table border=\"1\" class=\"dataframe\">\n",
              "  <thead>\n",
              "    <tr style=\"text-align: right;\">\n",
              "      <th></th>\n",
              "      <th>Age</th>\n",
              "      <th>Height</th>\n",
              "      <th>Name</th>\n",
              "      <th>Sex</th>\n",
              "      <th>Weight</th>\n",
              "    </tr>\n",
              "  </thead>\n",
              "  <tbody>\n",
              "    <tr>\n",
              "      <th>10</th>\n",
              "      <td>11</td>\n",
              "      <td>51.3</td>\n",
              "      <td>Joyce</td>\n",
              "      <td>F</td>\n",
              "      <td>50.5</td>\n",
              "    </tr>\n",
              "    <tr>\n",
              "      <th>17</th>\n",
              "      <td>11</td>\n",
              "      <td>57.5</td>\n",
              "      <td>Thomas</td>\n",
              "      <td>M</td>\n",
              "      <td>85.0</td>\n",
              "    </tr>\n",
              "    <tr>\n",
              "      <th>12</th>\n",
              "      <td>12</td>\n",
              "      <td>56.3</td>\n",
              "      <td>Louise</td>\n",
              "      <td>F</td>\n",
              "      <td>77.0</td>\n",
              "    </tr>\n",
              "    <tr>\n",
              "      <th>5</th>\n",
              "      <td>12</td>\n",
              "      <td>57.3</td>\n",
              "      <td>James</td>\n",
              "      <td>M</td>\n",
              "      <td>83.0</td>\n",
              "    </tr>\n",
              "    <tr>\n",
              "      <th>9</th>\n",
              "      <td>12</td>\n",
              "      <td>59.0</td>\n",
              "      <td>John</td>\n",
              "      <td>M</td>\n",
              "      <td>99.5</td>\n",
              "    </tr>\n",
              "    <tr>\n",
              "      <th>6</th>\n",
              "      <td>12</td>\n",
              "      <td>59.8</td>\n",
              "      <td>Jane</td>\n",
              "      <td>F</td>\n",
              "      <td>84.5</td>\n",
              "    </tr>\n",
              "    <tr>\n",
              "      <th>15</th>\n",
              "      <td>12</td>\n",
              "      <td>64.8</td>\n",
              "      <td>Robert</td>\n",
              "      <td>M</td>\n",
              "      <td>128.0</td>\n",
              "    </tr>\n",
              "    <tr>\n",
              "      <th>1</th>\n",
              "      <td>13</td>\n",
              "      <td>56.5</td>\n",
              "      <td>Alice</td>\n",
              "      <td>F</td>\n",
              "      <td>84.0</td>\n",
              "    </tr>\n",
              "    <tr>\n",
              "      <th>8</th>\n",
              "      <td>13</td>\n",
              "      <td>62.5</td>\n",
              "      <td>Jeffrey</td>\n",
              "      <td>M</td>\n",
              "      <td>84.0</td>\n",
              "    </tr>\n",
              "    <tr>\n",
              "      <th>2</th>\n",
              "      <td>13</td>\n",
              "      <td>65.3</td>\n",
              "      <td>Barbara</td>\n",
              "      <td>F</td>\n",
              "      <td>98.0</td>\n",
              "    </tr>\n",
              "    <tr>\n",
              "      <th>3</th>\n",
              "      <td>14</td>\n",
              "      <td>62.8</td>\n",
              "      <td>Carol</td>\n",
              "      <td>F</td>\n",
              "      <td>102.5</td>\n",
              "    </tr>\n",
              "    <tr>\n",
              "      <th>4</th>\n",
              "      <td>14</td>\n",
              "      <td>63.5</td>\n",
              "      <td>Henry</td>\n",
              "      <td>M</td>\n",
              "      <td>102.5</td>\n",
              "    </tr>\n",
              "    <tr>\n",
              "      <th>11</th>\n",
              "      <td>14</td>\n",
              "      <td>64.3</td>\n",
              "      <td>Judy</td>\n",
              "      <td>F</td>\n",
              "      <td>90.0</td>\n",
              "    </tr>\n",
              "    <tr>\n",
              "      <th>0</th>\n",
              "      <td>14</td>\n",
              "      <td>69.0</td>\n",
              "      <td>Alfred</td>\n",
              "      <td>M</td>\n",
              "      <td>112.5</td>\n",
              "    </tr>\n",
              "    <tr>\n",
              "      <th>7</th>\n",
              "      <td>15</td>\n",
              "      <td>62.5</td>\n",
              "      <td>Janet</td>\n",
              "      <td>F</td>\n",
              "      <td>112.5</td>\n",
              "    </tr>\n",
              "    <tr>\n",
              "      <th>13</th>\n",
              "      <td>15</td>\n",
              "      <td>66.5</td>\n",
              "      <td>Marry</td>\n",
              "      <td>F</td>\n",
              "      <td>112.0</td>\n",
              "    </tr>\n",
              "    <tr>\n",
              "      <th>18</th>\n",
              "      <td>15</td>\n",
              "      <td>66.5</td>\n",
              "      <td>Willam</td>\n",
              "      <td>M</td>\n",
              "      <td>112.0</td>\n",
              "    </tr>\n",
              "    <tr>\n",
              "      <th>16</th>\n",
              "      <td>15</td>\n",
              "      <td>67.0</td>\n",
              "      <td>Ronald</td>\n",
              "      <td>M</td>\n",
              "      <td>133.0</td>\n",
              "    </tr>\n",
              "    <tr>\n",
              "      <th>14</th>\n",
              "      <td>16</td>\n",
              "      <td>72.0</td>\n",
              "      <td>Philip</td>\n",
              "      <td>M</td>\n",
              "      <td>150.0</td>\n",
              "    </tr>\n",
              "  </tbody>\n",
              "</table>\n",
              "</div>"
            ],
            "text/plain": [
              "    Age  Height     Name Sex  Weight\n",
              "10   11    51.3    Joyce   F    50.5\n",
              "17   11    57.5   Thomas   M    85.0\n",
              "12   12    56.3   Louise   F    77.0\n",
              "5    12    57.3    James   M    83.0\n",
              "9    12    59.0     John   M    99.5\n",
              "6    12    59.8     Jane   F    84.5\n",
              "15   12    64.8   Robert   M   128.0\n",
              "1    13    56.5    Alice   F    84.0\n",
              "8    13    62.5  Jeffrey   M    84.0\n",
              "2    13    65.3  Barbara   F    98.0\n",
              "3    14    62.8    Carol   F   102.5\n",
              "4    14    63.5    Henry   M   102.5\n",
              "11   14    64.3     Judy   F    90.0\n",
              "0    14    69.0   Alfred   M   112.5\n",
              "7    15    62.5    Janet   F   112.5\n",
              "13   15    66.5    Marry   F   112.0\n",
              "18   15    66.5   Willam   M   112.0\n",
              "16   15    67.0   Ronald   M   133.0\n",
              "14   16    72.0   Philip   M   150.0"
            ]
          },
          "metadata": {
            "tags": []
          },
          "execution_count": 24
        }
      ]
    },
    {
      "cell_type": "markdown",
      "metadata": {
        "id": "_w0Oc65IxfO_"
      },
      "source": [
        "## 多表连接\n",
        "\n",
        "pandas使用merger函数实现数据的各种连接操作。"
      ]
    },
    {
      "cell_type": "code",
      "metadata": {
        "id": "Bf5iV5gDxwde"
      },
      "source": [
        "dic2 = {'Name':['Alfred','Alice','Barbara','Carol','Henry','Jeffrey','Judy','Philip','Robert','Willam'],\n",
        "        'Score':[88,76,89,67,79,90,92,86,73,77]}\n",
        "score = pd.DataFrame(dic2)"
      ],
      "execution_count": null,
      "outputs": []
    },
    {
      "cell_type": "code",
      "metadata": {
        "colab": {
          "base_uri": "https://localhost:8080/",
          "height": 343
        },
        "id": "YbxFfglux3Y4",
        "outputId": "8d2a732d-7cab-42fc-a0b9-b5480cddbf3f"
      },
      "source": [
        "stu_score1 = pd.merge(student, score, on='Name')\n",
        "stu_score1"
      ],
      "execution_count": null,
      "outputs": [
        {
          "output_type": "execute_result",
          "data": {
            "text/html": [
              "<div>\n",
              "<style scoped>\n",
              "    .dataframe tbody tr th:only-of-type {\n",
              "        vertical-align: middle;\n",
              "    }\n",
              "\n",
              "    .dataframe tbody tr th {\n",
              "        vertical-align: top;\n",
              "    }\n",
              "\n",
              "    .dataframe thead th {\n",
              "        text-align: right;\n",
              "    }\n",
              "</style>\n",
              "<table border=\"1\" class=\"dataframe\">\n",
              "  <thead>\n",
              "    <tr style=\"text-align: right;\">\n",
              "      <th></th>\n",
              "      <th>Age</th>\n",
              "      <th>Height</th>\n",
              "      <th>Name</th>\n",
              "      <th>Sex</th>\n",
              "      <th>Weight</th>\n",
              "      <th>Score</th>\n",
              "    </tr>\n",
              "  </thead>\n",
              "  <tbody>\n",
              "    <tr>\n",
              "      <th>0</th>\n",
              "      <td>14</td>\n",
              "      <td>69.0</td>\n",
              "      <td>Alfred</td>\n",
              "      <td>M</td>\n",
              "      <td>112.5</td>\n",
              "      <td>88</td>\n",
              "    </tr>\n",
              "    <tr>\n",
              "      <th>1</th>\n",
              "      <td>13</td>\n",
              "      <td>56.5</td>\n",
              "      <td>Alice</td>\n",
              "      <td>F</td>\n",
              "      <td>84.0</td>\n",
              "      <td>76</td>\n",
              "    </tr>\n",
              "    <tr>\n",
              "      <th>2</th>\n",
              "      <td>13</td>\n",
              "      <td>65.3</td>\n",
              "      <td>Barbara</td>\n",
              "      <td>F</td>\n",
              "      <td>98.0</td>\n",
              "      <td>89</td>\n",
              "    </tr>\n",
              "    <tr>\n",
              "      <th>3</th>\n",
              "      <td>14</td>\n",
              "      <td>62.8</td>\n",
              "      <td>Carol</td>\n",
              "      <td>F</td>\n",
              "      <td>102.5</td>\n",
              "      <td>67</td>\n",
              "    </tr>\n",
              "    <tr>\n",
              "      <th>4</th>\n",
              "      <td>14</td>\n",
              "      <td>63.5</td>\n",
              "      <td>Henry</td>\n",
              "      <td>M</td>\n",
              "      <td>102.5</td>\n",
              "      <td>79</td>\n",
              "    </tr>\n",
              "    <tr>\n",
              "      <th>5</th>\n",
              "      <td>13</td>\n",
              "      <td>62.5</td>\n",
              "      <td>Jeffrey</td>\n",
              "      <td>M</td>\n",
              "      <td>84.0</td>\n",
              "      <td>90</td>\n",
              "    </tr>\n",
              "    <tr>\n",
              "      <th>6</th>\n",
              "      <td>14</td>\n",
              "      <td>64.3</td>\n",
              "      <td>Judy</td>\n",
              "      <td>F</td>\n",
              "      <td>90.0</td>\n",
              "      <td>92</td>\n",
              "    </tr>\n",
              "    <tr>\n",
              "      <th>7</th>\n",
              "      <td>16</td>\n",
              "      <td>72.0</td>\n",
              "      <td>Philip</td>\n",
              "      <td>M</td>\n",
              "      <td>150.0</td>\n",
              "      <td>86</td>\n",
              "    </tr>\n",
              "    <tr>\n",
              "      <th>8</th>\n",
              "      <td>12</td>\n",
              "      <td>64.8</td>\n",
              "      <td>Robert</td>\n",
              "      <td>M</td>\n",
              "      <td>128.0</td>\n",
              "      <td>73</td>\n",
              "    </tr>\n",
              "    <tr>\n",
              "      <th>9</th>\n",
              "      <td>15</td>\n",
              "      <td>66.5</td>\n",
              "      <td>Willam</td>\n",
              "      <td>M</td>\n",
              "      <td>112.0</td>\n",
              "      <td>77</td>\n",
              "    </tr>\n",
              "  </tbody>\n",
              "</table>\n",
              "</div>"
            ],
            "text/plain": [
              "   Age  Height     Name Sex  Weight  Score\n",
              "0   14    69.0   Alfred   M   112.5     88\n",
              "1   13    56.5    Alice   F    84.0     76\n",
              "2   13    65.3  Barbara   F    98.0     89\n",
              "3   14    62.8    Carol   F   102.5     67\n",
              "4   14    63.5    Henry   M   102.5     79\n",
              "5   13    62.5  Jeffrey   M    84.0     90\n",
              "6   14    64.3     Judy   F    90.0     92\n",
              "7   16    72.0   Philip   M   150.0     86\n",
              "8   12    64.8   Robert   M   128.0     73\n",
              "9   15    66.5   Willam   M   112.0     77"
            ]
          },
          "metadata": {
            "tags": []
          },
          "execution_count": 6
        }
      ]
    },
    {
      "cell_type": "markdown",
      "metadata": {
        "id": "R40oPhpNx-rn"
      },
      "source": [
        "默认情况下，merge函数实现的是两个表之间的内连接，即**返回两张表中共同部分的数据**。可以通过how参数设置连接的方式，left为左连接；right为右连接；outer为外连接。"
      ]
    },
    {
      "cell_type": "code",
      "metadata": {
        "colab": {
          "base_uri": "https://localhost:8080/",
          "height": 610
        },
        "id": "6g3DNUvEyInG",
        "outputId": "58cb983c-fb0f-4a28-92b8-b00c2ff1b2ff"
      },
      "source": [
        "stu_score2 = pd.merge(student, score, on='Name', how='left')\n",
        "stu_score2"
      ],
      "execution_count": null,
      "outputs": [
        {
          "output_type": "execute_result",
          "data": {
            "text/html": [
              "<div>\n",
              "<style scoped>\n",
              "    .dataframe tbody tr th:only-of-type {\n",
              "        vertical-align: middle;\n",
              "    }\n",
              "\n",
              "    .dataframe tbody tr th {\n",
              "        vertical-align: top;\n",
              "    }\n",
              "\n",
              "    .dataframe thead th {\n",
              "        text-align: right;\n",
              "    }\n",
              "</style>\n",
              "<table border=\"1\" class=\"dataframe\">\n",
              "  <thead>\n",
              "    <tr style=\"text-align: right;\">\n",
              "      <th></th>\n",
              "      <th>Age</th>\n",
              "      <th>Height</th>\n",
              "      <th>Name</th>\n",
              "      <th>Sex</th>\n",
              "      <th>Weight</th>\n",
              "      <th>Score</th>\n",
              "    </tr>\n",
              "  </thead>\n",
              "  <tbody>\n",
              "    <tr>\n",
              "      <th>0</th>\n",
              "      <td>14</td>\n",
              "      <td>69.0</td>\n",
              "      <td>Alfred</td>\n",
              "      <td>M</td>\n",
              "      <td>112.5</td>\n",
              "      <td>88.0</td>\n",
              "    </tr>\n",
              "    <tr>\n",
              "      <th>1</th>\n",
              "      <td>13</td>\n",
              "      <td>56.5</td>\n",
              "      <td>Alice</td>\n",
              "      <td>F</td>\n",
              "      <td>84.0</td>\n",
              "      <td>76.0</td>\n",
              "    </tr>\n",
              "    <tr>\n",
              "      <th>2</th>\n",
              "      <td>13</td>\n",
              "      <td>65.3</td>\n",
              "      <td>Barbara</td>\n",
              "      <td>F</td>\n",
              "      <td>98.0</td>\n",
              "      <td>89.0</td>\n",
              "    </tr>\n",
              "    <tr>\n",
              "      <th>3</th>\n",
              "      <td>14</td>\n",
              "      <td>62.8</td>\n",
              "      <td>Carol</td>\n",
              "      <td>F</td>\n",
              "      <td>102.5</td>\n",
              "      <td>67.0</td>\n",
              "    </tr>\n",
              "    <tr>\n",
              "      <th>4</th>\n",
              "      <td>14</td>\n",
              "      <td>63.5</td>\n",
              "      <td>Henry</td>\n",
              "      <td>M</td>\n",
              "      <td>102.5</td>\n",
              "      <td>79.0</td>\n",
              "    </tr>\n",
              "    <tr>\n",
              "      <th>5</th>\n",
              "      <td>12</td>\n",
              "      <td>57.3</td>\n",
              "      <td>James</td>\n",
              "      <td>M</td>\n",
              "      <td>83.0</td>\n",
              "      <td>NaN</td>\n",
              "    </tr>\n",
              "    <tr>\n",
              "      <th>6</th>\n",
              "      <td>12</td>\n",
              "      <td>59.8</td>\n",
              "      <td>Jane</td>\n",
              "      <td>F</td>\n",
              "      <td>84.5</td>\n",
              "      <td>NaN</td>\n",
              "    </tr>\n",
              "    <tr>\n",
              "      <th>7</th>\n",
              "      <td>15</td>\n",
              "      <td>62.5</td>\n",
              "      <td>Janet</td>\n",
              "      <td>F</td>\n",
              "      <td>112.5</td>\n",
              "      <td>NaN</td>\n",
              "    </tr>\n",
              "    <tr>\n",
              "      <th>8</th>\n",
              "      <td>13</td>\n",
              "      <td>62.5</td>\n",
              "      <td>Jeffrey</td>\n",
              "      <td>M</td>\n",
              "      <td>84.0</td>\n",
              "      <td>90.0</td>\n",
              "    </tr>\n",
              "    <tr>\n",
              "      <th>9</th>\n",
              "      <td>12</td>\n",
              "      <td>59.0</td>\n",
              "      <td>John</td>\n",
              "      <td>M</td>\n",
              "      <td>99.5</td>\n",
              "      <td>NaN</td>\n",
              "    </tr>\n",
              "    <tr>\n",
              "      <th>10</th>\n",
              "      <td>11</td>\n",
              "      <td>51.3</td>\n",
              "      <td>Joyce</td>\n",
              "      <td>F</td>\n",
              "      <td>50.5</td>\n",
              "      <td>NaN</td>\n",
              "    </tr>\n",
              "    <tr>\n",
              "      <th>11</th>\n",
              "      <td>14</td>\n",
              "      <td>64.3</td>\n",
              "      <td>Judy</td>\n",
              "      <td>F</td>\n",
              "      <td>90.0</td>\n",
              "      <td>92.0</td>\n",
              "    </tr>\n",
              "    <tr>\n",
              "      <th>12</th>\n",
              "      <td>12</td>\n",
              "      <td>56.3</td>\n",
              "      <td>Louise</td>\n",
              "      <td>F</td>\n",
              "      <td>77.0</td>\n",
              "      <td>NaN</td>\n",
              "    </tr>\n",
              "    <tr>\n",
              "      <th>13</th>\n",
              "      <td>15</td>\n",
              "      <td>66.5</td>\n",
              "      <td>Marry</td>\n",
              "      <td>F</td>\n",
              "      <td>112.0</td>\n",
              "      <td>NaN</td>\n",
              "    </tr>\n",
              "    <tr>\n",
              "      <th>14</th>\n",
              "      <td>16</td>\n",
              "      <td>72.0</td>\n",
              "      <td>Philip</td>\n",
              "      <td>M</td>\n",
              "      <td>150.0</td>\n",
              "      <td>86.0</td>\n",
              "    </tr>\n",
              "    <tr>\n",
              "      <th>15</th>\n",
              "      <td>12</td>\n",
              "      <td>64.8</td>\n",
              "      <td>Robert</td>\n",
              "      <td>M</td>\n",
              "      <td>128.0</td>\n",
              "      <td>73.0</td>\n",
              "    </tr>\n",
              "    <tr>\n",
              "      <th>16</th>\n",
              "      <td>15</td>\n",
              "      <td>67.0</td>\n",
              "      <td>Ronald</td>\n",
              "      <td>M</td>\n",
              "      <td>133.0</td>\n",
              "      <td>NaN</td>\n",
              "    </tr>\n",
              "    <tr>\n",
              "      <th>17</th>\n",
              "      <td>11</td>\n",
              "      <td>57.5</td>\n",
              "      <td>Thomas</td>\n",
              "      <td>M</td>\n",
              "      <td>85.0</td>\n",
              "      <td>NaN</td>\n",
              "    </tr>\n",
              "    <tr>\n",
              "      <th>18</th>\n",
              "      <td>15</td>\n",
              "      <td>66.5</td>\n",
              "      <td>Willam</td>\n",
              "      <td>M</td>\n",
              "      <td>112.0</td>\n",
              "      <td>77.0</td>\n",
              "    </tr>\n",
              "  </tbody>\n",
              "</table>\n",
              "</div>"
            ],
            "text/plain": [
              "    Age  Height     Name Sex  Weight  Score\n",
              "0    14    69.0   Alfred   M   112.5   88.0\n",
              "1    13    56.5    Alice   F    84.0   76.0\n",
              "2    13    65.3  Barbara   F    98.0   89.0\n",
              "3    14    62.8    Carol   F   102.5   67.0\n",
              "4    14    63.5    Henry   M   102.5   79.0\n",
              "5    12    57.3    James   M    83.0    NaN\n",
              "6    12    59.8     Jane   F    84.5    NaN\n",
              "7    15    62.5    Janet   F   112.5    NaN\n",
              "8    13    62.5  Jeffrey   M    84.0   90.0\n",
              "9    12    59.0     John   M    99.5    NaN\n",
              "10   11    51.3    Joyce   F    50.5    NaN\n",
              "11   14    64.3     Judy   F    90.0   92.0\n",
              "12   12    56.3   Louise   F    77.0    NaN\n",
              "13   15    66.5    Marry   F   112.0    NaN\n",
              "14   16    72.0   Philip   M   150.0   86.0\n",
              "15   12    64.8   Robert   M   128.0   73.0\n",
              "16   15    67.0   Ronald   M   133.0    NaN\n",
              "17   11    57.5   Thomas   M    85.0    NaN\n",
              "18   15    66.5   Willam   M   112.0   77.0"
            ]
          },
          "metadata": {
            "tags": []
          },
          "execution_count": 7
        }
      ]
    },
    {
      "cell_type": "markdown",
      "metadata": {
        "id": "jl2hsRvsyNCi"
      },
      "source": [
        "左连接实现的是**保留student表中的所有信息**，同时将score表的信息与之配对，能配多少配多少，对于没有配对上的Name，将会显示成绩为NaN。"
      ]
    },
    {
      "cell_type": "markdown",
      "metadata": {
        "id": "0JMO1v2X2jnL"
      },
      "source": [
        "# 6. 利用pandas进行缺失值的处理"
      ]
    },
    {
      "cell_type": "code",
      "metadata": {
        "colab": {
          "base_uri": "https://localhost:8080/"
        },
        "id": "e_IOErWZexDx",
        "outputId": "54d0564e-da76-464d-86c0-e0b96ecddc4f"
      },
      "source": [
        "s = stu_score2['Score']\n",
        "s"
      ],
      "execution_count": null,
      "outputs": [
        {
          "output_type": "execute_result",
          "data": {
            "text/plain": [
              "0     88.0\n",
              "1     76.0\n",
              "2     89.0\n",
              "3     67.0\n",
              "4     79.0\n",
              "5      NaN\n",
              "6      NaN\n",
              "7      NaN\n",
              "8     90.0\n",
              "9      NaN\n",
              "10     NaN\n",
              "11    92.0\n",
              "12     NaN\n",
              "13     NaN\n",
              "14    86.0\n",
              "15    73.0\n",
              "16     NaN\n",
              "17     NaN\n",
              "18    77.0\n",
              "Name: Score, dtype: float64"
            ]
          },
          "metadata": {
            "tags": []
          },
          "execution_count": 8
        }
      ]
    },
    {
      "cell_type": "markdown",
      "metadata": {
        "id": "r8T5GXMX2vEq"
      },
      "source": [
        "结合sum函数和isnull函数来检测数据中含有多少缺失值："
      ]
    },
    {
      "cell_type": "code",
      "metadata": {
        "colab": {
          "base_uri": "https://localhost:8080/"
        },
        "id": "zQ3FD8The-__",
        "outputId": "e6b4db01-ae1f-43a6-85d3-e62ec4078872"
      },
      "source": [
        "sum(pd.isnull(s))"
      ],
      "execution_count": null,
      "outputs": [
        {
          "output_type": "execute_result",
          "data": {
            "text/plain": [
              "9"
            ]
          },
          "metadata": {
            "tags": []
          },
          "execution_count": 9
        }
      ]
    },
    {
      "cell_type": "markdown",
      "metadata": {
        "id": "Zt_D8YV3fIih"
      },
      "source": [
        "直接删除缺失值："
      ]
    },
    {
      "cell_type": "code",
      "metadata": {
        "colab": {
          "base_uri": "https://localhost:8080/"
        },
        "id": "WVz09XeufM4N",
        "outputId": "14704ace-5f96-4607-aac1-73ac3d3a2538"
      },
      "source": [
        "s.dropna()"
      ],
      "execution_count": null,
      "outputs": [
        {
          "output_type": "execute_result",
          "data": {
            "text/plain": [
              "0     88.0\n",
              "1     76.0\n",
              "2     89.0\n",
              "3     67.0\n",
              "4     79.0\n",
              "8     90.0\n",
              "11    92.0\n",
              "14    86.0\n",
              "15    73.0\n",
              "18    77.0\n",
              "Name: Score, dtype: float64"
            ]
          },
          "metadata": {
            "tags": []
          },
          "execution_count": 10
        }
      ]
    },
    {
      "cell_type": "markdown",
      "metadata": {
        "id": "qzlUPBfVfVJy"
      },
      "source": [
        "默认情况下，`dropna()`会删除所有含有缺示值的行："
      ]
    },
    {
      "cell_type": "code",
      "metadata": {
        "colab": {
          "base_uri": "https://localhost:8080/",
          "height": 225
        },
        "id": "RcD1dIOVfc3S",
        "outputId": "d012d47a-e0e4-4f39-eafb-52a75d157d35"
      },
      "source": [
        "df = pd.DataFrame([[1,1,2],[3,5,np.nan],[13,21,34],[55,np.nan,10],[np.nan,np.nan,np.nan],[np.nan,1,2]],columns=('x1','x2','x3'))\n",
        "df"
      ],
      "execution_count": null,
      "outputs": [
        {
          "output_type": "execute_result",
          "data": {
            "text/html": [
              "<div>\n",
              "<style scoped>\n",
              "    .dataframe tbody tr th:only-of-type {\n",
              "        vertical-align: middle;\n",
              "    }\n",
              "\n",
              "    .dataframe tbody tr th {\n",
              "        vertical-align: top;\n",
              "    }\n",
              "\n",
              "    .dataframe thead th {\n",
              "        text-align: right;\n",
              "    }\n",
              "</style>\n",
              "<table border=\"1\" class=\"dataframe\">\n",
              "  <thead>\n",
              "    <tr style=\"text-align: right;\">\n",
              "      <th></th>\n",
              "      <th>x1</th>\n",
              "      <th>x2</th>\n",
              "      <th>x3</th>\n",
              "    </tr>\n",
              "  </thead>\n",
              "  <tbody>\n",
              "    <tr>\n",
              "      <th>0</th>\n",
              "      <td>1.0</td>\n",
              "      <td>1.0</td>\n",
              "      <td>2.0</td>\n",
              "    </tr>\n",
              "    <tr>\n",
              "      <th>1</th>\n",
              "      <td>3.0</td>\n",
              "      <td>5.0</td>\n",
              "      <td>NaN</td>\n",
              "    </tr>\n",
              "    <tr>\n",
              "      <th>2</th>\n",
              "      <td>13.0</td>\n",
              "      <td>21.0</td>\n",
              "      <td>34.0</td>\n",
              "    </tr>\n",
              "    <tr>\n",
              "      <th>3</th>\n",
              "      <td>55.0</td>\n",
              "      <td>NaN</td>\n",
              "      <td>10.0</td>\n",
              "    </tr>\n",
              "    <tr>\n",
              "      <th>4</th>\n",
              "      <td>NaN</td>\n",
              "      <td>NaN</td>\n",
              "      <td>NaN</td>\n",
              "    </tr>\n",
              "    <tr>\n",
              "      <th>5</th>\n",
              "      <td>NaN</td>\n",
              "      <td>1.0</td>\n",
              "      <td>2.0</td>\n",
              "    </tr>\n",
              "  </tbody>\n",
              "</table>\n",
              "</div>"
            ],
            "text/plain": [
              "     x1    x2    x3\n",
              "0   1.0   1.0   2.0\n",
              "1   3.0   5.0   NaN\n",
              "2  13.0  21.0  34.0\n",
              "3  55.0   NaN  10.0\n",
              "4   NaN   NaN   NaN\n",
              "5   NaN   1.0   2.0"
            ]
          },
          "metadata": {
            "tags": []
          },
          "execution_count": 11
        }
      ]
    },
    {
      "cell_type": "code",
      "metadata": {
        "colab": {
          "base_uri": "https://localhost:8080/",
          "height": 106
        },
        "id": "TMwS3LZQfh2j",
        "outputId": "1feb2b40-abeb-46ad-feca-1bf9d53ac528"
      },
      "source": [
        "df.dropna()"
      ],
      "execution_count": null,
      "outputs": [
        {
          "output_type": "execute_result",
          "data": {
            "text/html": [
              "<div>\n",
              "<style scoped>\n",
              "    .dataframe tbody tr th:only-of-type {\n",
              "        vertical-align: middle;\n",
              "    }\n",
              "\n",
              "    .dataframe tbody tr th {\n",
              "        vertical-align: top;\n",
              "    }\n",
              "\n",
              "    .dataframe thead th {\n",
              "        text-align: right;\n",
              "    }\n",
              "</style>\n",
              "<table border=\"1\" class=\"dataframe\">\n",
              "  <thead>\n",
              "    <tr style=\"text-align: right;\">\n",
              "      <th></th>\n",
              "      <th>x1</th>\n",
              "      <th>x2</th>\n",
              "      <th>x3</th>\n",
              "    </tr>\n",
              "  </thead>\n",
              "  <tbody>\n",
              "    <tr>\n",
              "      <th>0</th>\n",
              "      <td>1.0</td>\n",
              "      <td>1.0</td>\n",
              "      <td>2.0</td>\n",
              "    </tr>\n",
              "    <tr>\n",
              "      <th>2</th>\n",
              "      <td>13.0</td>\n",
              "      <td>21.0</td>\n",
              "      <td>34.0</td>\n",
              "    </tr>\n",
              "  </tbody>\n",
              "</table>\n",
              "</div>"
            ],
            "text/plain": [
              "     x1    x2    x3\n",
              "0   1.0   1.0   2.0\n",
              "2  13.0  21.0  34.0"
            ]
          },
          "metadata": {
            "tags": []
          },
          "execution_count": 14
        }
      ]
    },
    {
      "cell_type": "code",
      "metadata": {
        "colab": {
          "base_uri": "https://localhost:8080/",
          "height": 195
        },
        "id": "V7qb6q-ugBLT",
        "outputId": "056b7239-6e2c-4487-b5e1-c00ea07368ff"
      },
      "source": [
        "df.dropna(how='all')"
      ],
      "execution_count": null,
      "outputs": [
        {
          "output_type": "execute_result",
          "data": {
            "text/html": [
              "<div>\n",
              "<style scoped>\n",
              "    .dataframe tbody tr th:only-of-type {\n",
              "        vertical-align: middle;\n",
              "    }\n",
              "\n",
              "    .dataframe tbody tr th {\n",
              "        vertical-align: top;\n",
              "    }\n",
              "\n",
              "    .dataframe thead th {\n",
              "        text-align: right;\n",
              "    }\n",
              "</style>\n",
              "<table border=\"1\" class=\"dataframe\">\n",
              "  <thead>\n",
              "    <tr style=\"text-align: right;\">\n",
              "      <th></th>\n",
              "      <th>x1</th>\n",
              "      <th>x2</th>\n",
              "      <th>x3</th>\n",
              "    </tr>\n",
              "  </thead>\n",
              "  <tbody>\n",
              "    <tr>\n",
              "      <th>0</th>\n",
              "      <td>1.0</td>\n",
              "      <td>1.0</td>\n",
              "      <td>2.0</td>\n",
              "    </tr>\n",
              "    <tr>\n",
              "      <th>1</th>\n",
              "      <td>3.0</td>\n",
              "      <td>5.0</td>\n",
              "      <td>NaN</td>\n",
              "    </tr>\n",
              "    <tr>\n",
              "      <th>2</th>\n",
              "      <td>13.0</td>\n",
              "      <td>21.0</td>\n",
              "      <td>34.0</td>\n",
              "    </tr>\n",
              "    <tr>\n",
              "      <th>3</th>\n",
              "      <td>55.0</td>\n",
              "      <td>NaN</td>\n",
              "      <td>10.0</td>\n",
              "    </tr>\n",
              "    <tr>\n",
              "      <th>5</th>\n",
              "      <td>NaN</td>\n",
              "      <td>1.0</td>\n",
              "      <td>2.0</td>\n",
              "    </tr>\n",
              "  </tbody>\n",
              "</table>\n",
              "</div>"
            ],
            "text/plain": [
              "     x1    x2    x3\n",
              "0   1.0   1.0   2.0\n",
              "1   3.0   5.0   NaN\n",
              "2  13.0  21.0  34.0\n",
              "3  55.0   NaN  10.0\n",
              "5   NaN   1.0   2.0"
            ]
          },
          "metadata": {
            "tags": []
          },
          "execution_count": 15
        }
      ]
    },
    {
      "cell_type": "markdown",
      "metadata": {
        "id": "Cil9yeWMgL14"
      },
      "source": [
        "使用`fillna()`来填补缺失值："
      ]
    },
    {
      "cell_type": "code",
      "metadata": {
        "colab": {
          "base_uri": "https://localhost:8080/",
          "height": 225
        },
        "id": "B6scTWV1gT37",
        "outputId": "c7139023-9c9b-4685-ff16-f798dafa950d"
      },
      "source": [
        "df.fillna(0)"
      ],
      "execution_count": null,
      "outputs": [
        {
          "output_type": "execute_result",
          "data": {
            "text/html": [
              "<div>\n",
              "<style scoped>\n",
              "    .dataframe tbody tr th:only-of-type {\n",
              "        vertical-align: middle;\n",
              "    }\n",
              "\n",
              "    .dataframe tbody tr th {\n",
              "        vertical-align: top;\n",
              "    }\n",
              "\n",
              "    .dataframe thead th {\n",
              "        text-align: right;\n",
              "    }\n",
              "</style>\n",
              "<table border=\"1\" class=\"dataframe\">\n",
              "  <thead>\n",
              "    <tr style=\"text-align: right;\">\n",
              "      <th></th>\n",
              "      <th>x1</th>\n",
              "      <th>x2</th>\n",
              "      <th>x3</th>\n",
              "    </tr>\n",
              "  </thead>\n",
              "  <tbody>\n",
              "    <tr>\n",
              "      <th>0</th>\n",
              "      <td>1.0</td>\n",
              "      <td>1.0</td>\n",
              "      <td>2.0</td>\n",
              "    </tr>\n",
              "    <tr>\n",
              "      <th>1</th>\n",
              "      <td>3.0</td>\n",
              "      <td>5.0</td>\n",
              "      <td>0.0</td>\n",
              "    </tr>\n",
              "    <tr>\n",
              "      <th>2</th>\n",
              "      <td>13.0</td>\n",
              "      <td>21.0</td>\n",
              "      <td>34.0</td>\n",
              "    </tr>\n",
              "    <tr>\n",
              "      <th>3</th>\n",
              "      <td>55.0</td>\n",
              "      <td>0.0</td>\n",
              "      <td>10.0</td>\n",
              "    </tr>\n",
              "    <tr>\n",
              "      <th>4</th>\n",
              "      <td>0.0</td>\n",
              "      <td>0.0</td>\n",
              "      <td>0.0</td>\n",
              "    </tr>\n",
              "    <tr>\n",
              "      <th>5</th>\n",
              "      <td>0.0</td>\n",
              "      <td>1.0</td>\n",
              "      <td>2.0</td>\n",
              "    </tr>\n",
              "  </tbody>\n",
              "</table>\n",
              "</div>"
            ],
            "text/plain": [
              "     x1    x2    x3\n",
              "0   1.0   1.0   2.0\n",
              "1   3.0   5.0   0.0\n",
              "2  13.0  21.0  34.0\n",
              "3  55.0   0.0  10.0\n",
              "4   0.0   0.0   0.0\n",
              "5   0.0   1.0   2.0"
            ]
          },
          "metadata": {
            "tags": []
          },
          "execution_count": 16
        }
      ]
    },
    {
      "cell_type": "markdown",
      "metadata": {
        "id": "s385q1ShgbWw"
      },
      "source": [
        "采用前项或者后项填充："
      ]
    },
    {
      "cell_type": "code",
      "metadata": {
        "colab": {
          "base_uri": "https://localhost:8080/",
          "height": 225
        },
        "id": "BRLhNXj_ggdi",
        "outputId": "f3e65690-396f-4309-80f1-38b83efe7945"
      },
      "source": [
        "df.fillna(method='ffill')"
      ],
      "execution_count": null,
      "outputs": [
        {
          "output_type": "execute_result",
          "data": {
            "text/html": [
              "<div>\n",
              "<style scoped>\n",
              "    .dataframe tbody tr th:only-of-type {\n",
              "        vertical-align: middle;\n",
              "    }\n",
              "\n",
              "    .dataframe tbody tr th {\n",
              "        vertical-align: top;\n",
              "    }\n",
              "\n",
              "    .dataframe thead th {\n",
              "        text-align: right;\n",
              "    }\n",
              "</style>\n",
              "<table border=\"1\" class=\"dataframe\">\n",
              "  <thead>\n",
              "    <tr style=\"text-align: right;\">\n",
              "      <th></th>\n",
              "      <th>x1</th>\n",
              "      <th>x2</th>\n",
              "      <th>x3</th>\n",
              "    </tr>\n",
              "  </thead>\n",
              "  <tbody>\n",
              "    <tr>\n",
              "      <th>0</th>\n",
              "      <td>1.0</td>\n",
              "      <td>1.0</td>\n",
              "      <td>2.0</td>\n",
              "    </tr>\n",
              "    <tr>\n",
              "      <th>1</th>\n",
              "      <td>3.0</td>\n",
              "      <td>5.0</td>\n",
              "      <td>2.0</td>\n",
              "    </tr>\n",
              "    <tr>\n",
              "      <th>2</th>\n",
              "      <td>13.0</td>\n",
              "      <td>21.0</td>\n",
              "      <td>34.0</td>\n",
              "    </tr>\n",
              "    <tr>\n",
              "      <th>3</th>\n",
              "      <td>55.0</td>\n",
              "      <td>21.0</td>\n",
              "      <td>10.0</td>\n",
              "    </tr>\n",
              "    <tr>\n",
              "      <th>4</th>\n",
              "      <td>55.0</td>\n",
              "      <td>21.0</td>\n",
              "      <td>10.0</td>\n",
              "    </tr>\n",
              "    <tr>\n",
              "      <th>5</th>\n",
              "      <td>55.0</td>\n",
              "      <td>1.0</td>\n",
              "      <td>2.0</td>\n",
              "    </tr>\n",
              "  </tbody>\n",
              "</table>\n",
              "</div>"
            ],
            "text/plain": [
              "     x1    x2    x3\n",
              "0   1.0   1.0   2.0\n",
              "1   3.0   5.0   2.0\n",
              "2  13.0  21.0  34.0\n",
              "3  55.0  21.0  10.0\n",
              "4  55.0  21.0  10.0\n",
              "5  55.0   1.0   2.0"
            ]
          },
          "metadata": {
            "tags": []
          },
          "execution_count": 17
        }
      ]
    },
    {
      "cell_type": "code",
      "metadata": {
        "colab": {
          "base_uri": "https://localhost:8080/",
          "height": 225
        },
        "id": "N9GEVKvBgoFc",
        "outputId": "1412bf5f-5dd4-48c5-8269-5bdeb6f6147d"
      },
      "source": [
        "df.fillna(method='bfill')"
      ],
      "execution_count": null,
      "outputs": [
        {
          "output_type": "execute_result",
          "data": {
            "text/html": [
              "<div>\n",
              "<style scoped>\n",
              "    .dataframe tbody tr th:only-of-type {\n",
              "        vertical-align: middle;\n",
              "    }\n",
              "\n",
              "    .dataframe tbody tr th {\n",
              "        vertical-align: top;\n",
              "    }\n",
              "\n",
              "    .dataframe thead th {\n",
              "        text-align: right;\n",
              "    }\n",
              "</style>\n",
              "<table border=\"1\" class=\"dataframe\">\n",
              "  <thead>\n",
              "    <tr style=\"text-align: right;\">\n",
              "      <th></th>\n",
              "      <th>x1</th>\n",
              "      <th>x2</th>\n",
              "      <th>x3</th>\n",
              "    </tr>\n",
              "  </thead>\n",
              "  <tbody>\n",
              "    <tr>\n",
              "      <th>0</th>\n",
              "      <td>1.0</td>\n",
              "      <td>1.0</td>\n",
              "      <td>2.0</td>\n",
              "    </tr>\n",
              "    <tr>\n",
              "      <th>1</th>\n",
              "      <td>3.0</td>\n",
              "      <td>5.0</td>\n",
              "      <td>34.0</td>\n",
              "    </tr>\n",
              "    <tr>\n",
              "      <th>2</th>\n",
              "      <td>13.0</td>\n",
              "      <td>21.0</td>\n",
              "      <td>34.0</td>\n",
              "    </tr>\n",
              "    <tr>\n",
              "      <th>3</th>\n",
              "      <td>55.0</td>\n",
              "      <td>1.0</td>\n",
              "      <td>10.0</td>\n",
              "    </tr>\n",
              "    <tr>\n",
              "      <th>4</th>\n",
              "      <td>NaN</td>\n",
              "      <td>1.0</td>\n",
              "      <td>2.0</td>\n",
              "    </tr>\n",
              "    <tr>\n",
              "      <th>5</th>\n",
              "      <td>NaN</td>\n",
              "      <td>1.0</td>\n",
              "      <td>2.0</td>\n",
              "    </tr>\n",
              "  </tbody>\n",
              "</table>\n",
              "</div>"
            ],
            "text/plain": [
              "     x1    x2    x3\n",
              "0   1.0   1.0   2.0\n",
              "1   3.0   5.0  34.0\n",
              "2  13.0  21.0  34.0\n",
              "3  55.0   1.0  10.0\n",
              "4   NaN   1.0   2.0\n",
              "5   NaN   1.0   2.0"
            ]
          },
          "metadata": {
            "tags": []
          },
          "execution_count": 18
        }
      ]
    },
    {
      "cell_type": "markdown",
      "metadata": {
        "id": "pOB0r0x8g0Zl"
      },
      "source": [
        "使用常量来填充不同的列："
      ]
    },
    {
      "cell_type": "code",
      "metadata": {
        "colab": {
          "base_uri": "https://localhost:8080/",
          "height": 225
        },
        "id": "5uZb0uFQg9er",
        "outputId": "3382ce02-79a4-4eab-e08d-3a612647f8cc"
      },
      "source": [
        "x1_median = df['x1'].median()\n",
        "x2_mean = df['x2'].mean()\n",
        "x3_mean = df['x3'].mean()\n",
        "df.fillna({'x1':x1_median,'x2':x2_mean,'x3':x3_mean})"
      ],
      "execution_count": null,
      "outputs": [
        {
          "output_type": "execute_result",
          "data": {
            "text/html": [
              "<div>\n",
              "<style scoped>\n",
              "    .dataframe tbody tr th:only-of-type {\n",
              "        vertical-align: middle;\n",
              "    }\n",
              "\n",
              "    .dataframe tbody tr th {\n",
              "        vertical-align: top;\n",
              "    }\n",
              "\n",
              "    .dataframe thead th {\n",
              "        text-align: right;\n",
              "    }\n",
              "</style>\n",
              "<table border=\"1\" class=\"dataframe\">\n",
              "  <thead>\n",
              "    <tr style=\"text-align: right;\">\n",
              "      <th></th>\n",
              "      <th>x1</th>\n",
              "      <th>x2</th>\n",
              "      <th>x3</th>\n",
              "    </tr>\n",
              "  </thead>\n",
              "  <tbody>\n",
              "    <tr>\n",
              "      <th>0</th>\n",
              "      <td>1.0</td>\n",
              "      <td>1.0</td>\n",
              "      <td>2.0</td>\n",
              "    </tr>\n",
              "    <tr>\n",
              "      <th>1</th>\n",
              "      <td>3.0</td>\n",
              "      <td>5.0</td>\n",
              "      <td>12.0</td>\n",
              "    </tr>\n",
              "    <tr>\n",
              "      <th>2</th>\n",
              "      <td>13.0</td>\n",
              "      <td>21.0</td>\n",
              "      <td>34.0</td>\n",
              "    </tr>\n",
              "    <tr>\n",
              "      <th>3</th>\n",
              "      <td>55.0</td>\n",
              "      <td>7.0</td>\n",
              "      <td>10.0</td>\n",
              "    </tr>\n",
              "    <tr>\n",
              "      <th>4</th>\n",
              "      <td>8.0</td>\n",
              "      <td>7.0</td>\n",
              "      <td>12.0</td>\n",
              "    </tr>\n",
              "    <tr>\n",
              "      <th>5</th>\n",
              "      <td>8.0</td>\n",
              "      <td>1.0</td>\n",
              "      <td>2.0</td>\n",
              "    </tr>\n",
              "  </tbody>\n",
              "</table>\n",
              "</div>"
            ],
            "text/plain": [
              "     x1    x2    x3\n",
              "0   1.0   1.0   2.0\n",
              "1   3.0   5.0  12.0\n",
              "2  13.0  21.0  34.0\n",
              "3  55.0   7.0  10.0\n",
              "4   8.0   7.0  12.0\n",
              "5   8.0   1.0   2.0"
            ]
          },
          "metadata": {
            "tags": []
          },
          "execution_count": 19
        }
      ]
    },
    {
      "cell_type": "markdown",
      "metadata": {
        "id": "MTZHKm-4izVS"
      },
      "source": [
        "很显然，在使用填充法时，相对于常数填充或前项、后项填充，使用各列的众数、均值或中位数填充要更加合理一点。\n",
        "\n",
        "# 8. 多层索引使用\n",
        "\n",
        "在序列中它可以实现在一个轴上拥有多个索引。"
      ]
    },
    {
      "cell_type": "code",
      "metadata": {
        "colab": {
          "base_uri": "https://localhost:8080/"
        },
        "id": "0U-0zagqjR_6",
        "outputId": "19111de2-6261-491e-f12f-857623637691"
      },
      "source": [
        "s = pd.Series(np.arange(1,10),index=[[\"a\",\"a\",\"a\",\"b\",\"b\",\"c\",\"c\",\"d\",\"d\"],[1,2,3,1,2,3,1,2,3]])\n",
        "s"
      ],
      "execution_count": null,
      "outputs": [
        {
          "output_type": "execute_result",
          "data": {
            "text/plain": [
              "a  1    1\n",
              "   2    2\n",
              "   3    3\n",
              "b  1    4\n",
              "   2    5\n",
              "c  3    6\n",
              "   1    7\n",
              "d  2    8\n",
              "   3    9\n",
              "dtype: int64"
            ]
          },
          "metadata": {
            "tags": []
          },
          "execution_count": 20
        }
      ]
    },
    {
      "cell_type": "code",
      "metadata": {
        "colab": {
          "base_uri": "https://localhost:8080/"
        },
        "id": "nReLENALjXTk",
        "outputId": "b7dc2b38-67e3-4370-d430-617f2897bcb0"
      },
      "source": [
        "s.index"
      ],
      "execution_count": null,
      "outputs": [
        {
          "output_type": "execute_result",
          "data": {
            "text/plain": [
              "MultiIndex([('a', 1),\n",
              "            ('a', 2),\n",
              "            ('a', 3),\n",
              "            ('b', 1),\n",
              "            ('b', 2),\n",
              "            ('c', 3),\n",
              "            ('c', 1),\n",
              "            ('d', 2),\n",
              "            ('d', 3)],\n",
              "           )"
            ]
          },
          "metadata": {
            "tags": []
          },
          "execution_count": 21
        }
      ]
    },
    {
      "cell_type": "code",
      "metadata": {
        "colab": {
          "base_uri": "https://localhost:8080/"
        },
        "id": "GeliMbuOjdS9",
        "outputId": "fdc0f5aa-9c34-4b5b-d098-41781d19275c"
      },
      "source": [
        "s['a']"
      ],
      "execution_count": null,
      "outputs": [
        {
          "output_type": "execute_result",
          "data": {
            "text/plain": [
              "1    1\n",
              "2    2\n",
              "3    3\n",
              "dtype: int64"
            ]
          },
          "metadata": {
            "tags": []
          },
          "execution_count": 22
        }
      ]
    },
    {
      "cell_type": "code",
      "metadata": {
        "colab": {
          "base_uri": "https://localhost:8080/"
        },
        "id": "pb4fdwTTjfg9",
        "outputId": "cefb5ee8-1552-42cb-c354-40f57510f6f2"
      },
      "source": [
        "s['a',1]"
      ],
      "execution_count": null,
      "outputs": [
        {
          "output_type": "execute_result",
          "data": {
            "text/plain": [
              "1"
            ]
          },
          "metadata": {
            "tags": []
          },
          "execution_count": 23
        }
      ]
    },
    {
      "cell_type": "code",
      "metadata": {
        "colab": {
          "base_uri": "https://localhost:8080/"
        },
        "id": "yAqBkNGnjmXg",
        "outputId": "daa21c1f-396d-45ca-b8dd-1a19ad77ea13"
      },
      "source": [
        "s['a'][[1,3]]"
      ],
      "execution_count": null,
      "outputs": [
        {
          "output_type": "execute_result",
          "data": {
            "text/plain": [
              "1    1\n",
              "3    3\n",
              "dtype: int64"
            ]
          },
          "metadata": {
            "tags": []
          },
          "execution_count": 24
        }
      ]
    },
    {
      "cell_type": "code",
      "metadata": {
        "colab": {
          "base_uri": "https://localhost:8080/"
        },
        "id": "TZxLfNKljtMy",
        "outputId": "8a55f7d8-4b56-4364-d1e0-99bffffc75a9"
      },
      "source": [
        "s[['a','c']]"
      ],
      "execution_count": null,
      "outputs": [
        {
          "output_type": "execute_result",
          "data": {
            "text/plain": [
              "a  1    1\n",
              "   2    2\n",
              "   3    3\n",
              "c  3    6\n",
              "   1    7\n",
              "dtype: int64"
            ]
          },
          "metadata": {
            "tags": []
          },
          "execution_count": 25
        }
      ]
    },
    {
      "cell_type": "code",
      "metadata": {
        "colab": {
          "base_uri": "https://localhost:8080/"
        },
        "id": "Ak07T5qwjza6",
        "outputId": "c8166192-11d2-4fcc-ad56-8aa41ee37527"
      },
      "source": [
        "s['b':'d']"
      ],
      "execution_count": null,
      "outputs": [
        {
          "output_type": "execute_result",
          "data": {
            "text/plain": [
              "b  1    4\n",
              "   2    5\n",
              "c  3    6\n",
              "   1    7\n",
              "d  2    8\n",
              "   3    9\n",
              "dtype: int64"
            ]
          },
          "metadata": {
            "tags": []
          },
          "execution_count": 26
        }
      ]
    },
    {
      "cell_type": "markdown",
      "metadata": {
        "id": "qRqscrNIkBoC"
      },
      "source": [
        "通过unstack方法可以将Series变成一个DataFrame."
      ]
    },
    {
      "cell_type": "code",
      "metadata": {
        "colab": {
          "base_uri": "https://localhost:8080/",
          "height": 166
        },
        "id": "fhtxmfS9kC0E",
        "outputId": "52b0f667-b702-4f67-efd3-57f5685cc059"
      },
      "source": [
        "s.unstack()"
      ],
      "execution_count": null,
      "outputs": [
        {
          "output_type": "execute_result",
          "data": {
            "text/html": [
              "<div>\n",
              "<style scoped>\n",
              "    .dataframe tbody tr th:only-of-type {\n",
              "        vertical-align: middle;\n",
              "    }\n",
              "\n",
              "    .dataframe tbody tr th {\n",
              "        vertical-align: top;\n",
              "    }\n",
              "\n",
              "    .dataframe thead th {\n",
              "        text-align: right;\n",
              "    }\n",
              "</style>\n",
              "<table border=\"1\" class=\"dataframe\">\n",
              "  <thead>\n",
              "    <tr style=\"text-align: right;\">\n",
              "      <th></th>\n",
              "      <th>1</th>\n",
              "      <th>2</th>\n",
              "      <th>3</th>\n",
              "    </tr>\n",
              "  </thead>\n",
              "  <tbody>\n",
              "    <tr>\n",
              "      <th>a</th>\n",
              "      <td>1.0</td>\n",
              "      <td>2.0</td>\n",
              "      <td>3.0</td>\n",
              "    </tr>\n",
              "    <tr>\n",
              "      <th>b</th>\n",
              "      <td>4.0</td>\n",
              "      <td>5.0</td>\n",
              "      <td>NaN</td>\n",
              "    </tr>\n",
              "    <tr>\n",
              "      <th>c</th>\n",
              "      <td>7.0</td>\n",
              "      <td>NaN</td>\n",
              "      <td>6.0</td>\n",
              "    </tr>\n",
              "    <tr>\n",
              "      <th>d</th>\n",
              "      <td>NaN</td>\n",
              "      <td>8.0</td>\n",
              "      <td>9.0</td>\n",
              "    </tr>\n",
              "  </tbody>\n",
              "</table>\n",
              "</div>"
            ],
            "text/plain": [
              "     1    2    3\n",
              "a  1.0  2.0  3.0\n",
              "b  4.0  5.0  NaN\n",
              "c  7.0  NaN  6.0\n",
              "d  NaN  8.0  9.0"
            ]
          },
          "metadata": {
            "tags": []
          },
          "execution_count": 27
        }
      ]
    },
    {
      "cell_type": "markdown",
      "metadata": {
        "id": "AfOoQCZRkK_C"
      },
      "source": [
        "DataFrame的层级化索引："
      ]
    },
    {
      "cell_type": "code",
      "metadata": {
        "colab": {
          "base_uri": "https://localhost:8080/"
        },
        "id": "9qR1CAawkOZf",
        "outputId": "7bf7d277-2234-4710-926e-e01f297fbdb7"
      },
      "source": [
        "data = pd.DataFrame(np.random.randint(0,150,size=(8,12)),\n",
        "               columns = pd.MultiIndex.from_product([['模拟考','正式考'],['数学','语文','英语','物理','化学','生物']]),\n",
        "               index = pd.MultiIndex.from_product([['期中','期末'],['雷军','李斌'],['测试一','测试二']]))\n",
        "data.shape"
      ],
      "execution_count": null,
      "outputs": [
        {
          "output_type": "execute_result",
          "data": {
            "text/plain": [
              "(8, 12)"
            ]
          },
          "metadata": {
            "tags": []
          },
          "execution_count": 28
        }
      ]
    },
    {
      "cell_type": "code",
      "metadata": {
        "colab": {
          "base_uri": "https://localhost:8080/",
          "height": 195
        },
        "id": "SJ3Pmkelkcma",
        "outputId": "ad85a854-291f-4d65-c805-008cf8649e4c"
      },
      "source": [
        "data['模拟考'][['语文','数学']].head()"
      ],
      "execution_count": null,
      "outputs": [
        {
          "output_type": "execute_result",
          "data": {
            "text/html": [
              "<div>\n",
              "<style scoped>\n",
              "    .dataframe tbody tr th:only-of-type {\n",
              "        vertical-align: middle;\n",
              "    }\n",
              "\n",
              "    .dataframe tbody tr th {\n",
              "        vertical-align: top;\n",
              "    }\n",
              "\n",
              "    .dataframe thead th {\n",
              "        text-align: right;\n",
              "    }\n",
              "</style>\n",
              "<table border=\"1\" class=\"dataframe\">\n",
              "  <thead>\n",
              "    <tr style=\"text-align: right;\">\n",
              "      <th></th>\n",
              "      <th></th>\n",
              "      <th></th>\n",
              "      <th>语文</th>\n",
              "      <th>数学</th>\n",
              "    </tr>\n",
              "  </thead>\n",
              "  <tbody>\n",
              "    <tr>\n",
              "      <th rowspan=\"4\" valign=\"top\">期中</th>\n",
              "      <th rowspan=\"2\" valign=\"top\">雷军</th>\n",
              "      <th>测试一</th>\n",
              "      <td>14</td>\n",
              "      <td>104</td>\n",
              "    </tr>\n",
              "    <tr>\n",
              "      <th>测试二</th>\n",
              "      <td>18</td>\n",
              "      <td>6</td>\n",
              "    </tr>\n",
              "    <tr>\n",
              "      <th rowspan=\"2\" valign=\"top\">李斌</th>\n",
              "      <th>测试一</th>\n",
              "      <td>25</td>\n",
              "      <td>27</td>\n",
              "    </tr>\n",
              "    <tr>\n",
              "      <th>测试二</th>\n",
              "      <td>140</td>\n",
              "      <td>113</td>\n",
              "    </tr>\n",
              "    <tr>\n",
              "      <th>期末</th>\n",
              "      <th>雷军</th>\n",
              "      <th>测试一</th>\n",
              "      <td>148</td>\n",
              "      <td>7</td>\n",
              "    </tr>\n",
              "  </tbody>\n",
              "</table>\n",
              "</div>"
            ],
            "text/plain": [
              "            语文   数学\n",
              "期中 雷军 测试一   14  104\n",
              "      测试二   18    6\n",
              "   李斌 测试一   25   27\n",
              "      测试二  140  113\n",
              "期末 雷军 测试一  148    7"
            ]
          },
          "metadata": {
            "tags": []
          },
          "execution_count": 29
        }
      ]
    },
    {
      "cell_type": "code",
      "metadata": {
        "colab": {
          "base_uri": "https://localhost:8080/"
        },
        "id": "bAKAsikLkvKO",
        "outputId": "c7984032-f843-4088-feb9-0774e9026897"
      },
      "source": [
        "data.loc['期中','雷军','测试一']['模拟考','数学']"
      ],
      "execution_count": null,
      "outputs": [
        {
          "output_type": "execute_result",
          "data": {
            "text/plain": [
              "104"
            ]
          },
          "metadata": {
            "tags": []
          },
          "execution_count": 30
        }
      ]
    }
  ]
}