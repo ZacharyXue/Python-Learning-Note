{
  "nbformat": 4,
  "nbformat_minor": 0,
  "metadata": {
    "colab": {
      "name": "K近邻分类.ipynb",
      "provenance": [],
      "collapsed_sections": [],
      "toc_visible": true,
      "authorship_tag": "ABX9TyMo4ctYJ02haGslK+3QUu4A",
      "include_colab_link": true
    },
    "kernelspec": {
      "name": "python3",
      "display_name": "Python 3"
    },
    "language_info": {
      "name": "python"
    }
  },
  "cells": [
    {
      "cell_type": "markdown",
      "metadata": {
        "id": "view-in-github",
        "colab_type": "text"
      },
      "source": [
        "<a href=\"https://colab.research.google.com/github/ZacharyXue/Code-Backup/blob/main/K%E8%BF%91%E9%82%BB%E5%88%86%E7%B1%BB.ipynb\" target=\"_parent\"><img src=\"https://colab.research.google.com/assets/colab-badge.svg\" alt=\"Open In Colab\"/></a>"
      ]
    },
    {
      "cell_type": "code",
      "metadata": {
        "id": "m1hQJit69d9t"
      },
      "source": [
        "import numpy as np\n",
        "from collections import Counter\n",
        "import random"
      ],
      "execution_count": 50,
      "outputs": []
    },
    {
      "cell_type": "markdown",
      "metadata": {
        "id": "sLtCvBL-9ezP"
      },
      "source": [
        "# 2.1 k近邻算法概论\n",
        "\n",
        "给定测试样本，基于某种距离度量找出训练集中与其最接近的k个训练样本，然后基于这k个样本信息对测试样本进行预测。通常，在分类任务中使用投票法，在回归任务中使用平均法。\n",
        "\n",
        "k-近邻没有显式的学习过程。"
      ]
    },
    {
      "cell_type": "markdown",
      "metadata": {
        "id": "rrpWAsavXpPG"
      },
      "source": [
        "## 距离模型\n",
        "\n",
        "两个实例点之间的相似度是用距离来进行衡量的，k近邻更多使用欧氏距离进行衡量，但也可以用其他距离进行衡量。\n",
        "\n",
        "设特征空间$\\chi$是n为实数向量空间$R^n$，$x_i,x_j \\in \\chi$，$x_i=(x_i^1,x_i^2,...,x_i^n)^T$，$x_j=(x_j^1,x_j^2,...,x_j^n)^T$，则$x_i,x_j$的$L_p$距离定义为：\n",
        "$$L_p(x_i.x_j)=( \\sum_{l=1}^n |x_i^l-x_j^l|^p)^{\\frac{1}{p}}\n",
        "$$\n",
        "上式中$p \\ge 0$。当$p=2$时，称为欧氏距离；当$p=1$时，称为曼哈顿距离；当$p=\\infty$时，表示各坐标距离最大值。"
      ]
    },
    {
      "cell_type": "markdown",
      "metadata": {
        "id": "lbdLdgIn_N4O"
      },
      "source": [
        "创建数据集："
      ]
    },
    {
      "cell_type": "code",
      "metadata": {
        "colab": {
          "base_uri": "https://localhost:8080/"
        },
        "id": "cDPGniR8_Uqt",
        "outputId": "8f8ee16a-b6c3-4d59-9bde-7795930a61a0"
      },
      "source": [
        "def createDataSet():\n",
        "  group = np.array([[1,101],[5,89],[108,5],[115,8]])\n",
        "  labels = ['爱情片','爱情片','动作片','动作片']\n",
        "  return group,labels\n",
        "\n",
        "if __name__ == '__main__':\n",
        "  group,labels = createDataSet()\n",
        "  print(f'group is {group}, and labels is {labels}')"
      ],
      "execution_count": null,
      "outputs": [
        {
          "output_type": "stream",
          "text": [
            "group is [[  1 101]\n",
            " [  5  89]\n",
            " [108   5]\n",
            " [115   8]], and labels is ['爱情片', '爱情片', '动作片', '动作片']\n"
          ],
          "name": "stdout"
        }
      ]
    },
    {
      "cell_type": "markdown",
      "metadata": {
        "id": "8Rj9ItYjCo57"
      },
      "source": [
        "## k近邻函数\n",
        "\n",
        "在写k近邻时候用到的numpy函数：\n",
        "\n",
        "[`numpy.tile(A, reps)`](https://numpy.org/doc/stable/reference/generated/numpy.tile.html)：Construct an array by repeating A the number of times given by reps.\n",
        "\n",
        "[`numpy.argsort(a, axis=-1, kind=None, order=None)`](https://numpy.org/doc/stable/reference/generated/numpy.argsort.html?highlight=argsort#numpy.argsort)：Returns the **indices** that would sort an array.\n",
        "\n",
        "用到的Python函数：\n",
        "\n",
        "[`dict.get(key[, default])`](https://docs.python.org/3/library/stdtypes.html?highlight=get#dict.get)：Return **the value for key** if key is in the dictionary, else **default**. If default is not given, it defaults to None, so that this method never raises a KeyError.\n",
        "\n",
        "用到的operator函数：\n",
        "\n",
        "[`operator.itemgetter(*items)`](https://docs.python.org/3/library/operator.html?highlight=operator%20itemgetter#operator.itemgetter)：Return a callable object that fetches item from its operand **using the operand’s `__getitem__()` method**. If multiple items are specified, returns a tuple of lookup values. For example:\n",
        "\n",
        "- After f = itemgetter(2), the call f(r) returns r[2].\n",
        "\n",
        "- After g = itemgetter(2, 5, 3), the call g(r) returns (r[2], r[5], r[3]).\n",
        "\n",
        "用到的collections函数：\n",
        "\n",
        "[`collections.Counter([iterable-or-mapping])`](https://docs.python.org/3/library/collections.html?highlight=counter#collections.Counter)：A Counter is a **dict subclass** for counting hashable objects. It is a collection where elements are stored as dictionary keys and their counts are stored as dictionary values. Counts are allowed to be any integer value including zero or negative counts. \n",
        "\n",
        "这里使用的是其`most_common()`函数，范例如下：\n",
        "```python\n",
        ">>> Counter('abracadabra').most_common(3)\n",
        "[('a', 5), ('b', 2), ('r', 2)]\n",
        "```"
      ]
    },
    {
      "cell_type": "code",
      "metadata": {
        "id": "nhn5HcMHFbAo"
      },
      "source": [
        "def classify0(inX,dataSet,labels,k):\n",
        "  # 找到数据集尺寸\n",
        "  dataSetSize = dataSet.shape[0]\n",
        "  # 计算input和数据集中各样本距离\n",
        "  diffMat = np.tile(inX,(dataSetSize,1)) - dataSet\n",
        "  sqDiffMat = diffMat ** 2\n",
        "  distances = sqDiffMat.sum(axis=1) ** 0.5\n",
        "  # 获得距离从小到大排列下的index值\n",
        "  sortedDistIndices = distances.argsort()\n",
        "  # 初始化计数器，然后对距离最近的k个样本进行统计\n",
        "  counts = Counter()\n",
        "  for i in range(k):\n",
        "    counts[labels[sortedDistIndices[i]]] += 1\n",
        "  return counts.most_common()[0][0]"
      ],
      "execution_count": 17,
      "outputs": []
    },
    {
      "cell_type": "code",
      "metadata": {
        "colab": {
          "base_uri": "https://localhost:8080/"
        },
        "id": "aqVEkT88HseD",
        "outputId": "70eebecb-5a12-4a14-f344-93d70654fa2b"
      },
      "source": [
        "if __name__ == '__main__':\n",
        "  # 创建样本集\n",
        "  group, labels = createDataSet()\n",
        "  # 创建测试样本\n",
        "  test = [101,20]\n",
        "  test_class = classify0(test, group, labels, 3)\n",
        "  print(test_class)"
      ],
      "execution_count": null,
      "outputs": [
        {
          "output_type": "stream",
          "text": [
            "动作片\n"
          ],
          "name": "stdout"
        }
      ]
    },
    {
      "cell_type": "markdown",
      "metadata": {
        "id": "filZx8dQbvZL"
      },
      "source": [
        "# 2.2 k-近邻算法实战之约会网站配对效果判定\n",
        "\n"
      ]
    },
    {
      "cell_type": "markdown",
      "metadata": {
        "id": "tjQFk6BKqX0j"
      },
      "source": [
        "## [数据集处理](https://raw.githubusercontent.com/Jack-Cherish/Machine-Learning/master/kNN/2.%E6%B5%B7%E4%BC%A6%E7%BA%A6%E4%BC%9A/datingTestSet.txt)\n",
        "\n",
        "以下代码用于将google云盘中的数据集载入到colab中，参考见[链接](https://zhuanlan.zhihu.com/p/54389036)。"
      ]
    },
    {
      "cell_type": "code",
      "metadata": {
        "id": "G53SQAnegTRh"
      },
      "source": [
        "!apt-get install -y -qq software-properties-common python-software-properties module-init-tools\n",
        "!add-apt-repository -y ppa:alessandro-strada/ppa 2>&1 > /dev/null\n",
        "!apt-get update -qq 2>&1 > /dev/null\n",
        "!apt-get -y install -qq google-drive-ocamlfuse fuse\n",
        "from google.colab import auth\n",
        "auth.authenticate_user()\n",
        "from oauth2client.client import GoogleCredentials\n",
        "creds = GoogleCredentials.get_application_default()\n",
        "import getpass\n",
        "!google-drive-ocamlfuse -headless -id={creds.client_id} -secret={creds.client_secret} < /dev/null 2>&1 | grep URL\n",
        "vcode = getpass.getpass()\n",
        "!echo {vcode} | google-drive-ocamlfuse -headless -id={creds.client_id} -secret={creds.client_secret}"
      ],
      "execution_count": null,
      "outputs": []
    },
    {
      "cell_type": "code",
      "metadata": {
        "id": "KHyv-Obfgu3q"
      },
      "source": [
        "!mkdir -p drive\n",
        "!google-drive-ocamlfuse drive\n",
        "import os\n",
        "import sys\n",
        "os.chdir('drive/Colab Notebooks/机器学习实战')"
      ],
      "execution_count": 4,
      "outputs": []
    },
    {
      "cell_type": "markdown",
      "metadata": {
        "id": "DBagf6AkhhQE"
      },
      "source": [
        "然后进行数据处理"
      ]
    },
    {
      "cell_type": "code",
      "metadata": {
        "id": "fIgumThohqt3"
      },
      "source": [
        "def file2matrix(filename):\n",
        "  # 所参考文档没有使用with打开，貌似不是很规范\n",
        "  with open(filename,'r') as f:\n",
        "    lines = f.readlines()\n",
        "    cloumns = len(lines)\n",
        "    # 这里要注意列数的获取，因为原数据是字符串，\n",
        "    # 如果直接求的话只会得到字符串长度，故需要进行简单处理\n",
        "    rows = len(lines[0].strip().split('\\t'))\n",
        "    # 这里先初始化numpy矩阵的原因应该是numpy矩阵append不好操作，concatenate？\n",
        "    returnMatrix = np.zeros((cloumns,rows - 1))\n",
        "    labelArray = []\n",
        "    for i,line in enumerate(lines):\n",
        "      temp = line.strip().split('\\t')\n",
        "      # 获得input\n",
        "      returnMatrix[i,:] = temp[:3]\n",
        "      # 获得label\n",
        "      if temp[-1] == 'didntLike':\n",
        "        labelArray.append(1)\n",
        "      elif temp[-1] == 'smallDoses':\n",
        "        labelArray.append(2)\n",
        "      elif temp[-1] == 'largeDoses':\n",
        "        labelArray.append(3)\n",
        "    labelArray = np.array(labelArray)\n",
        "  return returnMatrix,labelArray\n"
      ],
      "execution_count": 25,
      "outputs": []
    },
    {
      "cell_type": "markdown",
      "metadata": {
        "id": "ZZGNcDTgnnDi"
      },
      "source": [
        "测试"
      ]
    },
    {
      "cell_type": "code",
      "metadata": {
        "colab": {
          "base_uri": "https://localhost:8080/"
        },
        "id": "d24AlDcyndSX",
        "outputId": "3f1573e8-076c-46e2-9637-ecbc7e2d4156"
      },
      "source": [
        "if __name__ == '__main__':\n",
        "    #打开的文件名\n",
        "    filename = \"datingTestSet.txt\"\n",
        "    #打开并处理数据\n",
        "    datingDataMat, datingLabels = file2matrix(filename)\n",
        "    print(datingDataMat.shape)"
      ],
      "execution_count": 8,
      "outputs": [
        {
          "output_type": "stream",
          "text": [
            "(1000, 3)\n"
          ],
          "name": "stdout"
        }
      ]
    },
    {
      "cell_type": "markdown",
      "metadata": {
        "id": "2Wz45Yqxxdag"
      },
      "source": [
        "## 数据归一化\n",
        "\n",
        "这里归一化使用的是:(data - min)/(max - min)"
      ]
    },
    {
      "cell_type": "code",
      "metadata": {
        "id": "yyyo9NmgyJVp"
      },
      "source": [
        "def autoNorm(dataSet):\n",
        "  #获得数据的最小值\n",
        "  minVals = dataSet.min(0)\n",
        "  maxVals = dataSet.max(0)\n",
        "  #最大值和最小值的范围\n",
        "  ranges = maxVals - minVals\n",
        "  #shape(dataSet)返回dataSet的矩阵行列数\n",
        "  normDataSet = np.zeros(np.shape(dataSet))\n",
        "  #返回dataSet的行数\n",
        "  m = dataSet.shape[0]\n",
        "  #原始值减去最小值\n",
        "  normDataSet = dataSet - np.tile(minVals, (m, 1))\n",
        "  #除以最大和最小值的差,得到归一化数据\n",
        "  normDataSet = normDataSet / np.tile(ranges, (m, 1))\n",
        "  #返回归一化数据结果,数据范围,最小值\n",
        "  return normDataSet, ranges, minVals"
      ],
      "execution_count": null,
      "outputs": []
    },
    {
      "cell_type": "markdown",
      "metadata": {
        "id": "nbJmhjES6Xjw"
      },
      "source": [
        "我尝试使用(data-average)/std来进行归一化操作。顺便贴下关于归一化的几种类型："
      ]
    },
    {
      "cell_type": "markdown",
      "metadata": {
        "id": "W0mr_YCA7iUz"
      },
      "source": [
        "![归一化.png](data:image/png;base64,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)"
      ]
    },
    {
      "cell_type": "markdown",
      "metadata": {
        "id": "PzmPD1ns7m5e"
      },
      "source": [
        "除此，作者原代码都没有利用广播机制，显得程序很繁杂，我写的时候还是尽量使用广播机制吧。"
      ]
    },
    {
      "cell_type": "code",
      "metadata": {
        "id": "aCaXzJTS4wS9"
      },
      "source": [
        "def autoNorm(dataSet):\n",
        "  # 获得数组平均值\n",
        "  averageVals = np.average(dataSet,axis=0)\n",
        "  # 获得数组标准差\n",
        "  stdVals = np.std(dataSet,axis=0)\n",
        "  # 获得归一化结果\n",
        "  normDataSet = (dataSet - averageVals)/stdVals\n",
        "  return normDataSet,stdVals,averageVals"
      ],
      "execution_count": 26,
      "outputs": []
    },
    {
      "cell_type": "markdown",
      "metadata": {
        "id": "k8k6iWJqy512"
      },
      "source": [
        "测试："
      ]
    },
    {
      "cell_type": "code",
      "metadata": {
        "colab": {
          "base_uri": "https://localhost:8080/"
        },
        "id": "Rm2HSDQHy7Rx",
        "outputId": "a2dca0ad-3e04-4cdc-a4e1-491b54f7b91f"
      },
      "source": [
        "#打开的文件名\n",
        "filename = \"datingTestSet.txt\"\n",
        "#打开并处理数据\n",
        "datingDataMat, datingLabels = file2matrix(filename)\n",
        "normDataSet, std, average = autoNorm(datingDataMat)\n",
        "print(normDataSet.shape)\n",
        "print(std.shape)\n",
        "print(average.shape)"
      ],
      "execution_count": 27,
      "outputs": [
        {
          "output_type": "stream",
          "text": [
            "(1000, 3)\n",
            "(3,)\n",
            "(3,)\n"
          ],
          "name": "stdout"
        }
      ]
    },
    {
      "cell_type": "markdown",
      "metadata": {
        "id": "_7wNZbR-z0cg"
      },
      "source": [
        "## 测试算法"
      ]
    },
    {
      "cell_type": "code",
      "metadata": {
        "id": "340fQvPO0OK8"
      },
      "source": [
        "def datingClassTest():\n",
        "  #打开的文件名\n",
        "  filename = \"datingTestSet.txt\"\n",
        "  #将返回的特征矩阵和分类向量分别存储到datingDataMat和datingLabels中\n",
        "  datingDataMat, datingLabels = file2matrix(filename)\n",
        "  #取所有数据的百分之十\n",
        "  hoRatio = 0.10\n",
        "  #数据归一化,返回归一化后的矩阵,数据范围,数据最小值\n",
        "  normMat, ranges, minVals = autoNorm(datingDataMat)\n",
        "  #获得normMat的行数\n",
        "  m = normMat.shape[0]\n",
        "  #百分之十的测试数据的个数\n",
        "  numTestVecs = int(m * hoRatio)\n",
        "  #分类错误计数\n",
        "  errorCount = 0.0\n",
        "\n",
        "  for i in range(numTestVecs):\n",
        "      #前numTestVecs个数据作为测试集,后m-numTestVecs个数据作为训练集\n",
        "      classifierResult = classify0(normMat[i,:], normMat[numTestVecs:m,:],\n",
        "          datingLabels[numTestVecs:m], 4)\n",
        "      print(\"分类结果:%d\\t真实类别:%d\" % (classifierResult, datingLabels[i]))\n",
        "      if classifierResult != datingLabels[i]:\n",
        "          errorCount += 1.0\n",
        "  print(\"错误率:%f%%\" %(errorCount/float(numTestVecs)*100))"
      ],
      "execution_count": null,
      "outputs": []
    },
    {
      "cell_type": "markdown",
      "metadata": {
        "id": "eEp5z9a-79u2"
      },
      "source": [
        "原代码是直接将前面10%作为测试集后面的作为“训练集”，这种做法实际上稍微有些不妥，所以我这里shuffle一下。\n",
        "\n",
        "另，我以为shuffle是返回列表，结果是在原列表上操作……"
      ]
    },
    {
      "cell_type": "code",
      "metadata": {
        "id": "Vq3pcOLQ9Fro"
      },
      "source": [
        "def datingClassTest():\n",
        "  #打开的文件名\n",
        "  filename = \"datingTestSet.txt\"\n",
        "  #将返回的特征矩阵和分类向量分别存储到datingDataMat和datingLabels中\n",
        "  datingDataMat, datingLabels = file2matrix(filename)\n",
        "  #取所有数据的百分之十\n",
        "  hoRatio = 0.10\n",
        "  #数据归一化,返回归一化后的矩阵,数据范围,数据最小值\n",
        "  normMat, ranges, minVals = autoNorm(datingDataMat)\n",
        "  # 为打散数据集，获得打散后的index\n",
        "  m = normMat.shape[0]\n",
        "  indices = list(range(m))\n",
        "  random.shuffle(indices)\n",
        "  #百分之十的测试数据的个数\n",
        "  numTestVecs = int(m * hoRatio)\n",
        "  #分类错误计数\n",
        "  errorCount = 0.0\n",
        "  for i in range(numTestVecs):\n",
        "    classifierResult = classify0(normMat[indices[i],:],normMat[indices[numTestVecs:],:],datingLabels[indices[numTestVecs:]],5)\n",
        "    if classifierResult != datingLabels[indices[i]]:\n",
        "          errorCount += 1.0\n",
        "  print(\"错误率:%f%%\" %(errorCount/float(numTestVecs)*100))"
      ],
      "execution_count": 47,
      "outputs": []
    },
    {
      "cell_type": "code",
      "metadata": {
        "colab": {
          "base_uri": "https://localhost:8080/"
        },
        "id": "vddB5rHl4rAl",
        "outputId": "e4a257fc-3d18-4079-fbfe-e31f483e9fea"
      },
      "source": [
        "datingClassTest()"
      ],
      "execution_count": 48,
      "outputs": [
        {
          "output_type": "stream",
          "text": [
            "错误率:3.000000%\n"
          ],
          "name": "stdout"
        }
      ]
    },
    {
      "cell_type": "markdown",
      "metadata": {
        "id": "GMjTCerP04iW"
      },
      "source": [
        "# 2.3 kd树\n",
        "\n",
        "k近邻算法要考虑的主要问题时如何对训练数据进行快速的k近邻搜索，尤其是当数据集比较庞大的时候再利用上述对全部样本计算是不太现实的。\n",
        "\n",
        "故引入了kd树。kd树是二叉树，其是对样本的k维空间进行划分，然后形成一系列k维超矩阵区域。详细的介绍在李航《统计学习方法》P53.\n",
        "\n",
        "对于kd树的搜索，写的比较详细的是[2 KD-Tree的构造与搜索](https://juejin.cn/post/6844904194487353357)。其搜索过程简单讲就是对二叉树进行搜索的过程，不一样的是kd树需要做的是找到一个距离最近的k个样本。\n",
        "\n",
        "参考[2 KD-Tree的构造与搜索](https://juejin.cn/post/6844904194487353357)写kd树代码，顺便进一步了解kd树。"
      ]
    },
    {
      "cell_type": "markdown",
      "metadata": {
        "id": "70CvxBFKCwV3"
      },
      "source": [
        "创建二叉树类："
      ]
    },
    {
      "cell_type": "code",
      "metadata": {
        "id": "7-xiOeUT3Y3U"
      },
      "source": [
        "class Node:\n",
        "  def __init__(self,data,depth=0,lchild=None,rchild=None):\n",
        "    self.data = data\n",
        "    self.depth = depth\n",
        "    self.lchild = lchild\n",
        "    self.rchild = rchild"
      ],
      "execution_count": 51,
      "outputs": []
    },
    {
      "cell_type": "markdown",
      "metadata": {
        "id": "CSrUjrF2C2N1"
      },
      "source": [
        "构建kd树"
      ]
    },
    {
      "cell_type": "code",
      "metadata": {
        "id": "XcU7njpnC5_A"
      },
      "source": [
        "class KdTree():\n",
        "  def __init__(self):\n",
        "    # 根节点\n",
        "    self.kdTree = None\n",
        "    # axis的最大值\n",
        "    self.n = 0\n",
        "    # \n",
        "    self.nearest = None\n",
        "  # 搭建kd树结构\n",
        "  def create(self,dataSet,depth=0):\n",
        "    if dataSet:\n",
        "      m,n = dataSet.shape\n",
        "      # 计算分割的维度\n",
        "      self.n = n\n",
        "      axis = depth % self.n\n",
        "      # 找到中位数坐标\n",
        "      mid = m // 2\n",
        "      # 按照第几个维度（列）进行排序\n",
        "      dataSetcopy = sorted(dataSet, key=lambda x: x[axis])\n",
        "      # KD结点为中位数的结点，树深度为depth\n",
        "      node = Node(dataSetcopy[mid], depth)\n",
        "      if depth == 0:\n",
        "          self.KdTree = node\n",
        "      # 前mid行为左子结点，此时行数m改变，深度depth+1，axis会换个维度\n",
        "      node.lchild = self.create(dataSetcopy[:mid], depth+1)\n",
        "      node.rchild = self.create(dataSetcopy[mid+1:], depth+1)\n",
        "      return node\n",
        "    else:\n",
        "      return None\n",
        "  # 搜索kd树\n",
        "  def search(self,x,count=1):\n",
        "    nearest = []\n",
        "    for i in range(count):\n",
        "      nearest.append([-1, None])\n",
        "      self.nearest = np.array(nearest)\n",
        "\n",
        "      def recurve(node):\n",
        "        \"\"\"内方法，负责查找count个近邻点\"\"\"\n",
        "        if node:\n",
        "          # 步骤1：怎么找叶子节点\n",
        "          # 在哪个维度的分割线，0,1,0,1表示x,y,x,y\n",
        "          axis = node.depth % self.n\n",
        "          # 判断往左走or右走，递归，找到叶子结点\n",
        "          daxis = x[axis] - node.data[axis]\n",
        "          if daxis < 0:\n",
        "            recurve(node.lchild)\n",
        "          else:\n",
        "            recurve(node.rchild)\n",
        "\n",
        "          # 步骤2：满足的就插入到近邻点集合中\n",
        "          # 求test点与此点的距离\n",
        "          dist = sqrt(sum((p1 - p2) ** 2 for p1, p2 in zip(x, node.data)))\n",
        "          # 遍历k个近邻点，如果不满k个，直接加入，如果距离比已有的近邻点距离小，替换掉，距离是从小到大排序的\n",
        "          for i, d in enumerate(self.nearest):\n",
        "            if d[0] < 0 or dist < d[0]:\n",
        "              self.nearest = np.insert(self.nearest, i, [dist, node], axis=0)\n",
        "              self.nearest = self.nearest[:-1]\n",
        "              break\n",
        "\n",
        "          # 步骤3：判断与垂线的距离，如果比这大，要查找垂线的另一侧\n",
        "          n = list(self.nearest[:, 0]).count(-1)\n",
        "          # -n-1表示不为-1的最后一行，就是记录最远的近邻点（也就是最大的距离）\n",
        "          # 如果大于到垂线之间的距离，表示垂线的另一侧可能还有比他离的近的点\n",
        "          if self.nearest[-n-1, 0] > abs(daxis):\n",
        "            # 如果axis < 0，表示测量点在垂线的左侧，因此要在垂线右侧寻找点\n",
        "            if daxis < 0:\n",
        "              recurve(node.rchild)\n",
        "            else:\n",
        "              recurve(node.lchild)"
      ],
      "execution_count": 55,
      "outputs": []
    }
  ]
}