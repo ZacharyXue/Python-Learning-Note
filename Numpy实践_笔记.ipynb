{
  "nbformat": 4,
  "nbformat_minor": 0,
  "metadata": {
    "colab": {
      "name": "Numpy实践 笔记.ipynb",
      "provenance": [],
      "collapsed_sections": [],
      "toc_visible": true,
      "authorship_tag": "ABX9TyNxJAMARczHNrzeDpdTvsho",
      "include_colab_link": true
    },
    "kernelspec": {
      "name": "python3",
      "display_name": "Python 3"
    },
    "language_info": {
      "name": "python"
    }
  },
  "cells": [
    {
      "cell_type": "markdown",
      "metadata": {
        "id": "view-in-github",
        "colab_type": "text"
      },
      "source": [
        "<a href=\"https://colab.research.google.com/github/ZacharyXue/Code-Backup/blob/main/Numpy%E5%AE%9E%E8%B7%B5_%E7%AC%94%E8%AE%B0.ipynb\" target=\"_parent\"><img src=\"https://colab.research.google.com/assets/colab-badge.svg\" alt=\"Open In Colab\"/></a>"
      ]
    },
    {
      "cell_type": "code",
      "metadata": {
        "id": "wpJgaUhVJsxe"
      },
      "source": [
        "import numpy as np"
      ],
      "execution_count": null,
      "outputs": []
    },
    {
      "cell_type": "markdown",
      "metadata": {
        "id": "KffDgZAIJzGs"
      },
      "source": [
        "原文链接：https://tianchi.aliyun.com/course/323\n",
        "\n",
        "# 第一章：数据类型及数组创建"
      ]
    },
    {
      "cell_type": "markdown",
      "metadata": {
        "id": "SP_9QeeYKITE"
      },
      "source": [
        "## 常量"
      ]
    },
    {
      "cell_type": "markdown",
      "metadata": {
        "id": "wCDw4q9FKjLV"
      },
      "source": [
        "`numpy.nan`表示空值，两个`nan`变量不相等。"
      ]
    },
    {
      "cell_type": "code",
      "metadata": {
        "colab": {
          "base_uri": "https://localhost:8080/"
        },
        "id": "8jLHU-ljKfn5",
        "outputId": "da1959b3-9e86-48b4-d117-73bc54091c88"
      },
      "source": [
        "np.nan == np.nan"
      ],
      "execution_count": null,
      "outputs": [
        {
          "output_type": "execute_result",
          "data": {
            "text/plain": [
              "False"
            ]
          },
          "metadata": {
            "tags": []
          },
          "execution_count": 2
        }
      ]
    },
    {
      "cell_type": "code",
      "metadata": {
        "colab": {
          "base_uri": "https://localhost:8080/"
        },
        "id": "zymHjElZKwxL",
        "outputId": "56277794-48c0-4f20-a5f9-d2f60559ee8e"
      },
      "source": [
        "x = np.array([1,2,np.nan,4])\n",
        "np.isnan(x)"
      ],
      "execution_count": null,
      "outputs": [
        {
          "output_type": "execute_result",
          "data": {
            "text/plain": [
              "array([False, False,  True, False])"
            ]
          },
          "metadata": {
            "tags": []
          },
          "execution_count": 4
        }
      ]
    },
    {
      "cell_type": "markdown",
      "metadata": {
        "id": "6Xn6lxaxMVk2"
      },
      "source": [
        "与`nan`类似的还有`inf`、`pi`、`e`等等。"
      ]
    },
    {
      "cell_type": "markdown",
      "metadata": {
        "id": "FFjWGsvyO-kj"
      },
      "source": [
        "## 根据现有数据创建`ndarry`"
      ]
    },
    {
      "cell_type": "code",
      "metadata": {
        "colab": {
          "base_uri": "https://localhost:8080/"
        },
        "id": "XCfsarl4PnAi",
        "outputId": "c5fa9eb0-1c3a-4f9a-d69a-84fa22f8619a"
      },
      "source": [
        "y = np.asarray(x)\n",
        "y"
      ],
      "execution_count": null,
      "outputs": [
        {
          "output_type": "execute_result",
          "data": {
            "text/plain": [
              "array([1, 2, 3, 4])"
            ]
          },
          "metadata": {
            "tags": []
          },
          "execution_count": 14
        }
      ]
    },
    {
      "cell_type": "markdown",
      "metadata": {
        "id": "hAxQTOH7PzfA"
      },
      "source": [
        "`asarray()`和`array()`不同在于当数据源是 ndarray时`asarray()`创建数组不会重新拷贝副本。"
      ]
    },
    {
      "cell_type": "markdown",
      "metadata": {
        "id": "0bMshbTlQR_D"
      },
      "source": [
        "## 依据特定函数填充方式"
      ]
    },
    {
      "cell_type": "markdown",
      "metadata": {
        "id": "gsNWq4JIMm-j"
      },
      "source": [
        "特定函数有很多，类似于`ones()`（全是1）、`zeros()`（全是0）和`eye()`（对角元素为1）等等，具体可以等到用的时候再查。\n",
        "\n",
        "以`ones()`举例用法："
      ]
    },
    {
      "cell_type": "code",
      "metadata": {
        "colab": {
          "base_uri": "https://localhost:8080/"
        },
        "id": "a0-T0u4RQWT3",
        "outputId": "f9a2df88-eccf-4450-d66c-3bd0e76d8209"
      },
      "source": [
        "np.ones((3,2))"
      ],
      "execution_count": null,
      "outputs": [
        {
          "output_type": "execute_result",
          "data": {
            "text/plain": [
              "array([[1., 1.],\n",
              "       [1., 1.],\n",
              "       [1., 1.]])"
            ]
          },
          "metadata": {
            "tags": []
          },
          "execution_count": 16
        }
      ]
    },
    {
      "cell_type": "markdown",
      "metadata": {
        "id": "xaSTpEFXS6dT"
      },
      "source": [
        "## 利用数值范围创建数组"
      ]
    },
    {
      "cell_type": "markdown",
      "metadata": {
        "id": "xOM66fKNNarW"
      },
      "source": [
        "比较常用的是`arange`产生等差数列："
      ]
    },
    {
      "cell_type": "code",
      "metadata": {
        "colab": {
          "base_uri": "https://localhost:8080/"
        },
        "id": "eYEbeDW9TAlI",
        "outputId": "3255045e-7503-43c1-8d49-1327a64f702f"
      },
      "source": [
        "np.arange(4,12,2)"
      ],
      "execution_count": null,
      "outputs": [
        {
          "output_type": "execute_result",
          "data": {
            "text/plain": [
              "array([ 4,  6,  8, 10])"
            ]
          },
          "metadata": {
            "tags": []
          },
          "execution_count": 28
        }
      ]
    },
    {
      "cell_type": "markdown",
      "metadata": {
        "id": "1V06yglONqxH"
      },
      "source": [
        "numpy也有可以产生等比数列："
      ]
    },
    {
      "cell_type": "code",
      "metadata": {
        "colab": {
          "base_uri": "https://localhost:8080/"
        },
        "id": "nRx1pvdGTHOc",
        "outputId": "f2514a6e-3495-47e5-dfb7-5d81a9f2842d"
      },
      "source": [
        "np.linspace(1,2,10)"
      ],
      "execution_count": null,
      "outputs": [
        {
          "output_type": "execute_result",
          "data": {
            "text/plain": [
              "array([1.        , 1.11111111, 1.22222222, 1.33333333, 1.44444444,\n",
              "       1.55555556, 1.66666667, 1.77777778, 1.88888889, 2.        ])"
            ]
          },
          "metadata": {
            "tags": []
          },
          "execution_count": 27
        }
      ]
    },
    {
      "cell_type": "markdown",
      "metadata": {
        "id": "zyzOtcNrNy4g"
      },
      "source": [
        "关于产生随机矩阵，这里有好多种，具体用的时候可以在numpy官方查找。"
      ]
    },
    {
      "cell_type": "code",
      "metadata": {
        "colab": {
          "base_uri": "https://localhost:8080/"
        },
        "id": "pLGro62sUzGc",
        "outputId": "03823b69-d93b-466b-b265-45f92406e147"
      },
      "source": [
        "np.random.random([3,2])"
      ],
      "execution_count": null,
      "outputs": [
        {
          "output_type": "execute_result",
          "data": {
            "text/plain": [
              "array([[0.11982752, 0.15399235],\n",
              "       [0.63273084, 0.27242302],\n",
              "       [0.69771025, 0.03937506]])"
            ]
          },
          "metadata": {
            "tags": []
          },
          "execution_count": 37
        }
      ]
    },
    {
      "cell_type": "markdown",
      "metadata": {
        "id": "S8WHfgi8VIds"
      },
      "source": [
        "## 数组的属性"
      ]
    },
    {
      "cell_type": "code",
      "metadata": {
        "colab": {
          "base_uri": "https://localhost:8080/"
        },
        "id": "aEfPp4p6VMgU",
        "outputId": "981d0752-11ea-4688-df75-443598b16bf2"
      },
      "source": [
        "x"
      ],
      "execution_count": null,
      "outputs": [
        {
          "output_type": "execute_result",
          "data": {
            "text/plain": [
              "array([[0, 1, 2],\n",
              "       [3, 4, 5],\n",
              "       [6, 7, 8]])"
            ]
          },
          "metadata": {
            "tags": []
          },
          "execution_count": 38
        }
      ]
    },
    {
      "cell_type": "markdown",
      "metadata": {
        "id": "qeb7iYqaN_2g"
      },
      "source": [
        "数组的性质种最常用的是其`shape`："
      ]
    },
    {
      "cell_type": "code",
      "metadata": {
        "colab": {
          "base_uri": "https://localhost:8080/"
        },
        "id": "tIKIJDlQVOcq",
        "outputId": "e762a5f3-425c-4b0b-dd23-d8936978f276"
      },
      "source": [
        "x.shape"
      ],
      "execution_count": null,
      "outputs": [
        {
          "output_type": "execute_result",
          "data": {
            "text/plain": [
              "(3, 3)"
            ]
          },
          "metadata": {
            "tags": []
          },
          "execution_count": 40
        }
      ]
    },
    {
      "cell_type": "markdown",
      "metadata": {
        "id": "Sgs28tc_OFNo"
      },
      "source": [
        "除此之外还有："
      ]
    },
    {
      "cell_type": "code",
      "metadata": {
        "colab": {
          "base_uri": "https://localhost:8080/"
        },
        "id": "h8I5efaxVS9d",
        "outputId": "478d6940-55af-4968-ddb2-9f596074a40c"
      },
      "source": [
        "x.dtype"
      ],
      "execution_count": null,
      "outputs": [
        {
          "output_type": "execute_result",
          "data": {
            "text/plain": [
              "dtype('int64')"
            ]
          },
          "metadata": {
            "tags": []
          },
          "execution_count": 41
        }
      ]
    },
    {
      "cell_type": "code",
      "metadata": {
        "colab": {
          "base_uri": "https://localhost:8080/"
        },
        "id": "uHawpZHzVWHZ",
        "outputId": "df855e53-a5aa-4dda-f03a-d7ea0657c1f1"
      },
      "source": [
        "x.size"
      ],
      "execution_count": null,
      "outputs": [
        {
          "output_type": "execute_result",
          "data": {
            "text/plain": [
              "9"
            ]
          },
          "metadata": {
            "tags": []
          },
          "execution_count": 42
        }
      ]
    },
    {
      "cell_type": "code",
      "metadata": {
        "colab": {
          "base_uri": "https://localhost:8080/"
        },
        "id": "oEQ2Tll9VZ1Z",
        "outputId": "0a10dad5-5b0a-47a0-8dc3-df1395c9acd7"
      },
      "source": [
        "x.ndim"
      ],
      "execution_count": null,
      "outputs": [
        {
          "output_type": "execute_result",
          "data": {
            "text/plain": [
              "2"
            ]
          },
          "metadata": {
            "tags": []
          },
          "execution_count": 43
        }
      ]
    },
    {
      "cell_type": "markdown",
      "metadata": {
        "id": "cUyy5IilzFwP"
      },
      "source": [
        "# 第二章 索引、切片和迭代\n",
        "\n",
        "要注意数组切片返回的是原数组的视图，对切片元素进行修改就是对原数组进行修改。"
      ]
    },
    {
      "cell_type": "code",
      "metadata": {
        "colab": {
          "base_uri": "https://localhost:8080/"
        },
        "id": "-KuseWglVb0X",
        "outputId": "1c6a7463-10f5-4866-de64-efaf8814b9e2"
      },
      "source": [
        "x = np.random.random([3,3,3])\n",
        "x"
      ],
      "execution_count": null,
      "outputs": [
        {
          "output_type": "execute_result",
          "data": {
            "text/plain": [
              "array([[[0.33830667, 0.69811605, 0.49248288],\n",
              "        [0.60665212, 0.46158694, 0.07204195],\n",
              "        [0.52038049, 0.82854518, 0.168616  ]],\n",
              "\n",
              "       [[0.53135717, 0.10891768, 0.65438404],\n",
              "        [0.02678069, 0.19206225, 0.72739482],\n",
              "        [0.52048883, 0.87817465, 0.20153047]],\n",
              "\n",
              "       [[0.16315454, 0.78697886, 0.63216706],\n",
              "        [0.33134797, 0.96375149, 0.00644335],\n",
              "        [0.55562463, 0.45784154, 0.3608314 ]]])"
            ]
          },
          "metadata": {
            "tags": []
          },
          "execution_count": 3
        }
      ]
    },
    {
      "cell_type": "code",
      "metadata": {
        "colab": {
          "base_uri": "https://localhost:8080/"
        },
        "id": "r_6T4hKNVb5C",
        "outputId": "268b59e7-8749-4c65-9783-95da97db4018"
      },
      "source": [
        "x[1:,1:,2] = 0\n",
        "x"
      ],
      "execution_count": null,
      "outputs": [
        {
          "output_type": "execute_result",
          "data": {
            "text/plain": [
              "array([[[0.33830667, 0.69811605, 0.49248288],\n",
              "        [0.60665212, 0.46158694, 0.07204195],\n",
              "        [0.52038049, 0.82854518, 0.168616  ]],\n",
              "\n",
              "       [[0.53135717, 0.10891768, 0.65438404],\n",
              "        [0.02678069, 0.19206225, 0.        ],\n",
              "        [0.52048883, 0.87817465, 0.        ]],\n",
              "\n",
              "       [[0.16315454, 0.78697886, 0.63216706],\n",
              "        [0.33134797, 0.96375149, 0.        ],\n",
              "        [0.55562463, 0.45784154, 0.        ]]])"
            ]
          },
          "metadata": {
            "tags": []
          },
          "execution_count": 4
        }
      ]
    },
    {
      "cell_type": "markdown",
      "metadata": {
        "id": "B6TLA-CB0bx1"
      },
      "source": [
        "当方括号中传入多个索引值时，可以同时选择多个元素"
      ]
    },
    {
      "cell_type": "code",
      "metadata": {
        "colab": {
          "base_uri": "https://localhost:8080/"
        },
        "id": "c04c1fwt0kdF",
        "outputId": "2a48a20c-81b1-4fc4-8d5d-5984cc168847"
      },
      "source": [
        "y = np.arange(12)\n",
        "y"
      ],
      "execution_count": null,
      "outputs": [
        {
          "output_type": "execute_result",
          "data": {
            "text/plain": [
              "array([ 0,  1,  2,  3,  4,  5,  6,  7,  8,  9, 10, 11])"
            ]
          },
          "metadata": {
            "tags": []
          },
          "execution_count": 5
        }
      ]
    },
    {
      "cell_type": "code",
      "metadata": {
        "colab": {
          "base_uri": "https://localhost:8080/"
        },
        "id": "M_m65gSE0nnj",
        "outputId": "8446d9da-69c4-47c6-f8e3-60cad19f62bd"
      },
      "source": [
        "y[[1,4,5]]"
      ],
      "execution_count": null,
      "outputs": [
        {
          "output_type": "execute_result",
          "data": {
            "text/plain": [
              "array([1, 4, 5])"
            ]
          },
          "metadata": {
            "tags": []
          },
          "execution_count": 6
        }
      ]
    },
    {
      "cell_type": "markdown",
      "metadata": {
        "id": "Szeo9TTJ0zF3"
      },
      "source": [
        "除此之外我们可以使用布尔索引来获得相应元素"
      ]
    },
    {
      "cell_type": "code",
      "metadata": {
        "colab": {
          "base_uri": "https://localhost:8080/"
        },
        "id": "YOwPilMo04er",
        "outputId": "285e889f-aaff-4720-d7ef-5ca9f424e9d1"
      },
      "source": [
        "y > 5"
      ],
      "execution_count": null,
      "outputs": [
        {
          "output_type": "execute_result",
          "data": {
            "text/plain": [
              "array([False, False, False, False, False, False,  True,  True,  True,\n",
              "        True,  True,  True])"
            ]
          },
          "metadata": {
            "tags": []
          },
          "execution_count": 8
        }
      ]
    },
    {
      "cell_type": "code",
      "metadata": {
        "colab": {
          "base_uri": "https://localhost:8080/"
        },
        "id": "v8v687uQ071J",
        "outputId": "43fdfa67-ed51-48cc-fca6-b2ca90076a62"
      },
      "source": [
        "y[ y > 5 ]"
      ],
      "execution_count": null,
      "outputs": [
        {
          "output_type": "execute_result",
          "data": {
            "text/plain": [
              "array([ 6,  7,  8,  9, 10, 11])"
            ]
          },
          "metadata": {
            "tags": []
          },
          "execution_count": 9
        }
      ]
    },
    {
      "cell_type": "markdown",
      "metadata": {
        "id": "VoN5hr321aG-"
      },
      "source": [
        "# 第三章 数组操作"
      ]
    },
    {
      "cell_type": "markdown",
      "metadata": {
        "id": "SnEnYiSw1tgE"
      },
      "source": [
        "## 更改数组形状\n",
        "\n",
        "最简单的便是`reshape`，但是numpy中还提供了`flatten([order='C'])`等等，很多实际上都可以使用`reshape`代替，看了一遍后觉得还是使用`reshape`，这样开始的时候难度不会太大。"
      ]
    },
    {
      "cell_type": "markdown",
      "metadata": {
        "id": "5XEBryRm3V4C"
      },
      "source": [
        "## 更改数组维度\n",
        "\n",
        "当创建一个数组之后，还可以给它增加一个维度，官方举例：\n",
        "> 很多工具包在进行计算时都会先判断输入数据的维度是否满足要求，如果输入数据达不到指定的维度时，可以使用newaxis参数来增加一个维度。\n",
        "\n",
        "这个我经常在不同尺寸计算利用广播机制时使用，还是比较实用的一个性质。"
      ]
    },
    {
      "cell_type": "code",
      "metadata": {
        "colab": {
          "base_uri": "https://localhost:8080/"
        },
        "id": "RBqb9c913rE2",
        "outputId": "039bdee9-c3be-4f6a-bccf-33ce877a2497"
      },
      "source": [
        "x = np.arange(5)\n",
        "y = x[np.newaxis,:]\n",
        "y.shape"
      ],
      "execution_count": null,
      "outputs": [
        {
          "output_type": "execute_result",
          "data": {
            "text/plain": [
              "(1, 5)"
            ]
          },
          "metadata": {
            "tags": []
          },
          "execution_count": 13
        }
      ]
    },
    {
      "cell_type": "code",
      "metadata": {
        "colab": {
          "base_uri": "https://localhost:8080/"
        },
        "id": "QhZni4tu38iU",
        "outputId": "8a23254a-b548-4e31-8ab4-641bdee3dd1d"
      },
      "source": [
        "y = x[:,np.newaxis]\n",
        "y.shape"
      ],
      "execution_count": null,
      "outputs": [
        {
          "output_type": "execute_result",
          "data": {
            "text/plain": [
              "(5, 1)"
            ]
          },
          "metadata": {
            "tags": []
          },
          "execution_count": 14
        }
      ]
    },
    {
      "cell_type": "code",
      "metadata": {
        "colab": {
          "base_uri": "https://localhost:8080/"
        },
        "id": "CyvXlL3F5AlC",
        "outputId": "9979ba29-cb6d-4809-a114-5b0329cc5d8a"
      },
      "source": [
        "y"
      ],
      "execution_count": null,
      "outputs": [
        {
          "output_type": "execute_result",
          "data": {
            "text/plain": [
              "array([[0],\n",
              "       [1],\n",
              "       [2],\n",
              "       [3],\n",
              "       [4]])"
            ]
          },
          "metadata": {
            "tags": []
          },
          "execution_count": 15
        }
      ]
    },
    {
      "cell_type": "markdown",
      "metadata": {
        "id": "gBavcksq5j8i"
      },
      "source": [
        "## 数组的合并\n",
        "\n",
        "这个我也好几次遇到了，这里会使用`numpy.concatenate((a1, a2, ...), axis=0, out=None)`"
      ]
    },
    {
      "cell_type": "code",
      "metadata": {
        "colab": {
          "base_uri": "https://localhost:8080/"
        },
        "id": "m8bpusur5vXs",
        "outputId": "20dfd3d8-89a0-42b7-c653-714fee3a7f59"
      },
      "source": [
        "x = np.array([1, 2, 3])\n",
        "y = np.array([7, 8, 9])\n",
        "np.concatenate([x,y])"
      ],
      "execution_count": null,
      "outputs": [
        {
          "output_type": "execute_result",
          "data": {
            "text/plain": [
              "array([1, 2, 3, 7, 8, 9])"
            ]
          },
          "metadata": {
            "tags": []
          },
          "execution_count": 2
        }
      ]
    },
    {
      "cell_type": "markdown",
      "metadata": {
        "id": "9A0X5zbm3FS1"
      },
      "source": [
        "默认 `axis = 0`。"
      ]
    },
    {
      "cell_type": "code",
      "metadata": {
        "colab": {
          "base_uri": "https://localhost:8080/"
        },
        "id": "7CRRc_rI55C1",
        "outputId": "39d6ea34-b929-447e-815c-b65e661e8515"
      },
      "source": [
        "x = x.reshape(1,3)\n",
        "y = y.reshape(1,3)\n",
        "np.concatenate([x,y])"
      ],
      "execution_count": null,
      "outputs": [
        {
          "output_type": "execute_result",
          "data": {
            "text/plain": [
              "array([[1, 2, 3],\n",
              "       [7, 8, 9]])"
            ]
          },
          "metadata": {
            "tags": []
          },
          "execution_count": 3
        }
      ]
    },
    {
      "cell_type": "code",
      "metadata": {
        "colab": {
          "base_uri": "https://localhost:8080/"
        },
        "id": "4yByVVVg25qH",
        "outputId": "6cea4eeb-702d-4214-a4d4-cd04ef4ebb0e"
      },
      "source": [
        "x.shape,y.shape"
      ],
      "execution_count": null,
      "outputs": [
        {
          "output_type": "execute_result",
          "data": {
            "text/plain": [
              "((1, 3), (1, 3))"
            ]
          },
          "metadata": {
            "tags": []
          },
          "execution_count": 5
        }
      ]
    },
    {
      "cell_type": "code",
      "metadata": {
        "colab": {
          "base_uri": "https://localhost:8080/"
        },
        "id": "LC4rmuIi21ni",
        "outputId": "845215f0-7381-493c-d9ea-19b1500cea14"
      },
      "source": [
        "np.concatenate([x,y]).shape"
      ],
      "execution_count": null,
      "outputs": [
        {
          "output_type": "execute_result",
          "data": {
            "text/plain": [
              "(2, 3)"
            ]
          },
          "metadata": {
            "tags": []
          },
          "execution_count": 4
        }
      ]
    },
    {
      "cell_type": "code",
      "metadata": {
        "colab": {
          "base_uri": "https://localhost:8080/"
        },
        "id": "TxyY2mVq6RfY",
        "outputId": "79945664-b099-4034-8d21-3a3290e81b02"
      },
      "source": [
        "np.concatenate([x,y],axis=1)"
      ],
      "execution_count": null,
      "outputs": [
        {
          "output_type": "execute_result",
          "data": {
            "text/plain": [
              "array([[1, 2, 3, 7, 8, 9]])"
            ]
          },
          "metadata": {
            "tags": []
          },
          "execution_count": 23
        }
      ]
    },
    {
      "cell_type": "code",
      "metadata": {
        "colab": {
          "base_uri": "https://localhost:8080/"
        },
        "id": "Q0hdl-KL2-68",
        "outputId": "b56b8384-8a5a-4059-e095-8f2791092869"
      },
      "source": [
        "np.concatenate([x,y],axis=1).shape"
      ],
      "execution_count": null,
      "outputs": [
        {
          "output_type": "execute_result",
          "data": {
            "text/plain": [
              "(1, 6)"
            ]
          },
          "metadata": {
            "tags": []
          },
          "execution_count": 6
        }
      ]
    },
    {
      "cell_type": "markdown",
      "metadata": {
        "id": "9FONWkga3ArM"
      },
      "source": [
        "从上面可以看出，`axis` 等于多少，合并的时候便是哪个维度进行相加减，其他维度应该是相等的。"
      ]
    },
    {
      "cell_type": "markdown",
      "metadata": {
        "id": "hLS3IkKG59rd"
      },
      "source": [
        "## 数组拆分\n",
        "\n",
        "`numpy.split(ary, indices_or_sections, axis=0)`\n",
        "\n",
        "`indices_or_sections` int or 1-D array\n",
        "\n",
        "If indices_or_sections is **an integer**, N, the array will be divided into **N equal arrays** along axis. If such a split is not possible, an error is raised.\n",
        "\n",
        "If indices_or_sections is a **1-D array** of sorted integers, the entries indicate where along axis the array is split. For example, [2, 3] would, for axis=0, result in\n",
        "\n",
        "- ary[:2]\n",
        "\n",
        "- ary[2:3]\n",
        "\n",
        "- ary[3:]"
      ]
    },
    {
      "cell_type": "code",
      "metadata": {
        "colab": {
          "base_uri": "https://localhost:8080/"
        },
        "id": "5bTquk7Y45tv",
        "outputId": "670ae87b-b097-44b1-ef8e-1f9f204b386f"
      },
      "source": [
        "x = np.arange(12).reshape(3,4)\n",
        "x.shape"
      ],
      "execution_count": null,
      "outputs": [
        {
          "output_type": "execute_result",
          "data": {
            "text/plain": [
              "(3, 4)"
            ]
          },
          "metadata": {
            "tags": []
          },
          "execution_count": 21
        }
      ]
    },
    {
      "cell_type": "code",
      "metadata": {
        "colab": {
          "base_uri": "https://localhost:8080/"
        },
        "id": "y89WiNwy6z_A",
        "outputId": "ecbdb4c1-2b96-4038-adc1-4b5d19c11369"
      },
      "source": [
        "np.split(x,[1,2])"
      ],
      "execution_count": null,
      "outputs": [
        {
          "output_type": "execute_result",
          "data": {
            "text/plain": [
              "[array([[0, 1, 2, 3]]), array([[4, 5, 6, 7]]), array([[ 8,  9, 10, 11]])]"
            ]
          },
          "metadata": {
            "tags": []
          },
          "execution_count": 22
        }
      ]
    },
    {
      "cell_type": "code",
      "metadata": {
        "colab": {
          "base_uri": "https://localhost:8080/"
        },
        "id": "y9i0_0c961Wn",
        "outputId": "66a763a7-aa5e-4b22-c88e-25ca1a9cc3d2"
      },
      "source": [
        "np.split(x,3)"
      ],
      "execution_count": null,
      "outputs": [
        {
          "output_type": "execute_result",
          "data": {
            "text/plain": [
              "[array([[0, 1, 2, 3]]), array([[4, 5, 6, 7]]), array([[ 8,  9, 10, 11]])]"
            ]
          },
          "metadata": {
            "tags": []
          },
          "execution_count": 28
        }
      ]
    },
    {
      "cell_type": "code",
      "metadata": {
        "colab": {
          "base_uri": "https://localhost:8080/"
        },
        "id": "zLAiH25b7GGX",
        "outputId": "1cd0567c-0377-4e2f-9538-585d2bc93398"
      },
      "source": [
        "np.split(x,2,axis=1)"
      ],
      "execution_count": null,
      "outputs": [
        {
          "output_type": "execute_result",
          "data": {
            "text/plain": [
              "[array([[0, 1],\n",
              "        [4, 5],\n",
              "        [8, 9]]), array([[ 2,  3],\n",
              "        [ 6,  7],\n",
              "        [10, 11]])]"
            ]
          },
          "metadata": {
            "tags": []
          },
          "execution_count": 29
        }
      ]
    },
    {
      "cell_type": "markdown",
      "metadata": {
        "id": "od0pGPbx-2FH"
      },
      "source": [
        "# 第四章 数学函数及逻辑函数"
      ]
    },
    {
      "cell_type": "markdown",
      "metadata": {
        "id": "3dT9qiaa_vqp"
      },
      "source": [
        "## 逻辑函数"
      ]
    },
    {
      "cell_type": "markdown",
      "metadata": {
        "id": "5wq52wEB_01s"
      },
      "source": [
        "真值测验"
      ]
    },
    {
      "cell_type": "code",
      "metadata": {
        "id": "leCya598-_JN"
      },
      "source": [
        "x = np.arange(12).reshape(3,4)\n",
        "y = np.arange(12,0,-1).reshape(3,4)"
      ],
      "execution_count": null,
      "outputs": []
    },
    {
      "cell_type": "code",
      "metadata": {
        "colab": {
          "base_uri": "https://localhost:8080/"
        },
        "id": "51B1pk84_fB1",
        "outputId": "84b94807-060c-4f77-f865-6f9273763658"
      },
      "source": [
        "np.all(x==y,axis=0)"
      ],
      "execution_count": null,
      "outputs": [
        {
          "output_type": "execute_result",
          "data": {
            "text/plain": [
              "array([False, False, False, False])"
            ]
          },
          "metadata": {
            "tags": []
          },
          "execution_count": 39
        }
      ]
    },
    {
      "cell_type": "code",
      "metadata": {
        "colab": {
          "base_uri": "https://localhost:8080/"
        },
        "id": "4cTPGM33_q3Q",
        "outputId": "1b105dfe-5be3-4a1e-e456-60464395b936"
      },
      "source": [
        "np.any(x==y,axis=1)"
      ],
      "execution_count": null,
      "outputs": [
        {
          "output_type": "execute_result",
          "data": {
            "text/plain": [
              "array([False,  True, False])"
            ]
          },
          "metadata": {
            "tags": []
          },
          "execution_count": 40
        }
      ]
    },
    {
      "cell_type": "markdown",
      "metadata": {
        "id": "XVLBAEICAAyu"
      },
      "source": [
        "数组内容"
      ]
    },
    {
      "cell_type": "code",
      "metadata": {
        "colab": {
          "base_uri": "https://localhost:8080/"
        },
        "id": "DAlEofUIAFC0",
        "outputId": "9e0a2d3b-3fc6-4cbe-d65f-98b8924702d4"
      },
      "source": [
        "x = np.array([1,2,3,np.nan])\n",
        "np.isnan(x)"
      ],
      "execution_count": null,
      "outputs": [
        {
          "output_type": "execute_result",
          "data": {
            "text/plain": [
              "array([False, False, False,  True])"
            ]
          },
          "metadata": {
            "tags": []
          },
          "execution_count": 41
        }
      ]
    },
    {
      "cell_type": "markdown",
      "metadata": {
        "id": "PWqNyZMJBCiQ"
      },
      "source": [
        "## 广播\n",
        "\n",
        "广播的机制有：\n",
        "- 如果两个数组的维度数dim不相同，那么小维度数组的形状将会在**左边**补1。\n",
        "- 如果shape维度不匹配，但是有维度是1，那么可以扩展维度是1的维度匹配另一个数组；\n",
        "- 如果shape维度不匹配，但是没有任何一个维度是1，则匹配引发错误。"
      ]
    },
    {
      "cell_type": "code",
      "metadata": {
        "colab": {
          "base_uri": "https://localhost:8080/"
        },
        "id": "5azysCr1BdW8",
        "outputId": "ac5b1a4e-7d79-4dde-ff19-87b0dae8b4cc"
      },
      "source": [
        "x = np.arange(4)\n",
        "y = np.ones((3,4))\n",
        "(x+y).shape"
      ],
      "execution_count": null,
      "outputs": [
        {
          "output_type": "execute_result",
          "data": {
            "text/plain": [
              "(3, 4)"
            ]
          },
          "metadata": {
            "tags": []
          },
          "execution_count": 42
        }
      ]
    },
    {
      "cell_type": "code",
      "metadata": {
        "colab": {
          "base_uri": "https://localhost:8080/",
          "height": 182
        },
        "id": "uEVTz7zMBqPb",
        "outputId": "78e24a20-a547-4bdd-b943-e4af1242e6b8"
      },
      "source": [
        "x = np.arange(3)\n",
        "y = np.ones((3,4))\n",
        "(x+y).shape"
      ],
      "execution_count": null,
      "outputs": [
        {
          "output_type": "error",
          "ename": "ValueError",
          "evalue": "ignored",
          "traceback": [
            "\u001b[0;31m---------------------------------------------------------------------------\u001b[0m",
            "\u001b[0;31mValueError\u001b[0m                                Traceback (most recent call last)",
            "\u001b[0;32m<ipython-input-43-411c3059b545>\u001b[0m in \u001b[0;36m<module>\u001b[0;34m()\u001b[0m\n\u001b[1;32m      1\u001b[0m \u001b[0mx\u001b[0m \u001b[0;34m=\u001b[0m \u001b[0mnp\u001b[0m\u001b[0;34m.\u001b[0m\u001b[0marange\u001b[0m\u001b[0;34m(\u001b[0m\u001b[0;36m3\u001b[0m\u001b[0;34m)\u001b[0m\u001b[0;34m\u001b[0m\u001b[0;34m\u001b[0m\u001b[0m\n\u001b[0;32m----> 2\u001b[0;31m \u001b[0;34m(\u001b[0m\u001b[0mx\u001b[0m\u001b[0;34m+\u001b[0m\u001b[0my\u001b[0m\u001b[0;34m)\u001b[0m\u001b[0;34m.\u001b[0m\u001b[0mshape\u001b[0m\u001b[0;34m\u001b[0m\u001b[0;34m\u001b[0m\u001b[0m\n\u001b[0m",
            "\u001b[0;31mValueError\u001b[0m: operands could not be broadcast together with shapes (3,) (3,4) "
          ]
        }
      ]
    },
    {
      "cell_type": "markdown",
      "metadata": {
        "id": "otRl464tCUx-"
      },
      "source": [
        "从上面可以发现广播机制只能够在左边添加维度而不能在右边添加维度。"
      ]
    },
    {
      "cell_type": "code",
      "metadata": {
        "colab": {
          "base_uri": "https://localhost:8080/"
        },
        "id": "aazldlD_By0r",
        "outputId": "768540f4-f78e-480f-8c6c-c96eb965d534"
      },
      "source": [
        "x = np.arange(4).reshape(1,4)\n",
        "y = np.ones((3,4))\n",
        "(x+y).shape"
      ],
      "execution_count": null,
      "outputs": [
        {
          "output_type": "execute_result",
          "data": {
            "text/plain": [
              "(3, 4)"
            ]
          },
          "metadata": {
            "tags": []
          },
          "execution_count": 44
        }
      ]
    },
    {
      "cell_type": "code",
      "metadata": {
        "colab": {
          "base_uri": "https://localhost:8080/",
          "height": 199
        },
        "id": "MhtjgIpzCA_K",
        "outputId": "cc083c37-7b77-4102-99b4-bb0f8d52482a"
      },
      "source": [
        "x = np.ones((2,4))\n",
        "y = np.ones((4,4))\n",
        "(x+y).shape"
      ],
      "execution_count": null,
      "outputs": [
        {
          "output_type": "error",
          "ename": "ValueError",
          "evalue": "ignored",
          "traceback": [
            "\u001b[0;31m---------------------------------------------------------------------------\u001b[0m",
            "\u001b[0;31mValueError\u001b[0m                                Traceback (most recent call last)",
            "\u001b[0;32m<ipython-input-45-125630b9de4c>\u001b[0m in \u001b[0;36m<module>\u001b[0;34m()\u001b[0m\n\u001b[1;32m      1\u001b[0m \u001b[0mx\u001b[0m \u001b[0;34m=\u001b[0m \u001b[0mnp\u001b[0m\u001b[0;34m.\u001b[0m\u001b[0mones\u001b[0m\u001b[0;34m(\u001b[0m\u001b[0;34m(\u001b[0m\u001b[0;36m2\u001b[0m\u001b[0;34m,\u001b[0m\u001b[0;36m4\u001b[0m\u001b[0;34m)\u001b[0m\u001b[0;34m)\u001b[0m\u001b[0;34m\u001b[0m\u001b[0;34m\u001b[0m\u001b[0m\n\u001b[1;32m      2\u001b[0m \u001b[0my\u001b[0m \u001b[0;34m=\u001b[0m \u001b[0mnp\u001b[0m\u001b[0;34m.\u001b[0m\u001b[0mones\u001b[0m\u001b[0;34m(\u001b[0m\u001b[0;34m(\u001b[0m\u001b[0;36m4\u001b[0m\u001b[0;34m,\u001b[0m\u001b[0;36m4\u001b[0m\u001b[0;34m)\u001b[0m\u001b[0;34m)\u001b[0m\u001b[0;34m\u001b[0m\u001b[0;34m\u001b[0m\u001b[0m\n\u001b[0;32m----> 3\u001b[0;31m \u001b[0;34m(\u001b[0m\u001b[0mx\u001b[0m\u001b[0;34m+\u001b[0m\u001b[0my\u001b[0m\u001b[0;34m)\u001b[0m\u001b[0;34m.\u001b[0m\u001b[0mshape\u001b[0m\u001b[0;34m\u001b[0m\u001b[0;34m\u001b[0m\u001b[0m\n\u001b[0m",
            "\u001b[0;31mValueError\u001b[0m: operands could not be broadcast together with shapes (2,4) (4,4) "
          ]
        }
      ]
    },
    {
      "cell_type": "markdown",
      "metadata": {
        "id": "-9zFF191CcyP"
      },
      "source": [
        "从上面可以发现广播机制只能将维度为1的进行扩展，对于其他的均不能。"
      ]
    },
    {
      "cell_type": "code",
      "metadata": {
        "colab": {
          "base_uri": "https://localhost:8080/"
        },
        "id": "_wrHgyTQCpPI",
        "outputId": "4285c59d-8eed-4a96-b96b-70e764713a7e"
      },
      "source": [
        "x = np.arange(4).reshape(4, 1)\n",
        "y = np.ones(5)\n",
        "(x + y).shape"
      ],
      "execution_count": null,
      "outputs": [
        {
          "output_type": "execute_result",
          "data": {
            "text/plain": [
              "(4, 5)"
            ]
          },
          "metadata": {
            "tags": []
          },
          "execution_count": 46
        }
      ]
    },
    {
      "cell_type": "markdown",
      "metadata": {
        "id": "dXjK5KFTQplp"
      },
      "source": [
        "从上面可以发现，广播机制是从右边开始匹配，`x`的`shape[-1]=1`而`y`的`shape[-1]=5`，故对`x`进行广播，然后`x`的`shape[0]=4`而`y`的`shape[0]=None`，故对`y`再进行广播。"
      ]
    },
    {
      "cell_type": "markdown",
      "metadata": {
        "id": "DogYPXDwC41P"
      },
      "source": [
        "## 算数函数"
      ]
    },
    {
      "cell_type": "markdown",
      "metadata": {
        "id": "rATRoQXBRefB"
      },
      "source": [
        "首先numpy有很多类似于`add`、`multiply`等等的运算函数，但是感觉开始的时候并不需要记忆，因为直观的使用+、-、*、/等能够达到同样的效果。"
      ]
    },
    {
      "cell_type": "code",
      "metadata": {
        "id": "j_fJedo4C8CU",
        "colab": {
          "base_uri": "https://localhost:8080/"
        },
        "outputId": "cbf71437-d2ee-4b19-c792-dd3b1b8ef2a3"
      },
      "source": [
        "x = np.arange(10)\n",
        "y = np.arange(1,11)\n",
        "x + y"
      ],
      "execution_count": null,
      "outputs": [
        {
          "output_type": "execute_result",
          "data": {
            "text/plain": [
              "array([ 1,  3,  5,  7,  9, 11, 13, 15, 17, 19])"
            ]
          },
          "metadata": {
            "tags": []
          },
          "execution_count": 2
        }
      ]
    },
    {
      "cell_type": "code",
      "metadata": {
        "colab": {
          "base_uri": "https://localhost:8080/"
        },
        "id": "Xpf-W_h8R64g",
        "outputId": "a1d412aa-a795-4510-9033-1700100c5ad5"
      },
      "source": [
        "np.add(x,y)"
      ],
      "execution_count": null,
      "outputs": [
        {
          "output_type": "execute_result",
          "data": {
            "text/plain": [
              "array([ 1,  3,  5,  7,  9, 11, 13, 15, 17, 19])"
            ]
          },
          "metadata": {
            "tags": []
          },
          "execution_count": 3
        }
      ]
    },
    {
      "cell_type": "code",
      "metadata": {
        "colab": {
          "base_uri": "https://localhost:8080/"
        },
        "id": "dWWxKw_hDPW8",
        "outputId": "71e648ba-ebdb-4408-c97a-f1f785d7e59d"
      },
      "source": [
        "x = np.random.random((3,4))\n",
        "y = np.random.random((4,3))\n",
        "\n",
        "np.matmul(x,y) == x @ y"
      ],
      "execution_count": null,
      "outputs": [
        {
          "output_type": "execute_result",
          "data": {
            "text/plain": [
              "array([[ True,  True,  True],\n",
              "       [ True,  True,  True],\n",
              "       [ True,  True,  True]])"
            ]
          },
          "metadata": {
            "tags": []
          },
          "execution_count": 3
        }
      ]
    },
    {
      "cell_type": "markdown",
      "metadata": {
        "id": "A4eHZXZMSLb6"
      },
      "source": [
        "上面关于numpy矩阵矩阵乘法的运算，之前只知道`matmul()`这个，前两天在知乎上看到`@`也可以表示矩阵乘法，这样一下子就简洁很多。\n",
        "\n",
        "numpy中还有指数函数、对数函数、三角函数等等，这些可以在需要使用的时候再去numpy doc查找。一般来讲这类的用法都很简单，感觉熟能生巧就好，没必要记忆。\n",
        "\n",
        "比较需要注意的一类是加法函数,其中`sum`是根据axis进行操作，axis等于几就在该轴进行操作；而`cumsum()`在加上cum前缀后会把加法操作的每一步都显式的显示出来，不止`sum()`，`prod()`等等都是这样的。\n",
        "\n",
        "不经让联想到like，像`ones_like()`等等，可以输入一个矩阵，然后就可以输出该矩阵shape的特定矩阵。"
      ]
    },
    {
      "cell_type": "code",
      "metadata": {
        "colab": {
          "base_uri": "https://localhost:8080/"
        },
        "id": "48LDhPG9VF5N",
        "outputId": "56a36e27-30ed-4750-ad99-5133d8b13d55"
      },
      "source": [
        "x = np.arange(12).reshape(3,4)\n",
        "np.sum(x)"
      ],
      "execution_count": null,
      "outputs": [
        {
          "output_type": "execute_result",
          "data": {
            "text/plain": [
              "66"
            ]
          },
          "metadata": {
            "tags": []
          },
          "execution_count": 4
        }
      ]
    },
    {
      "cell_type": "code",
      "metadata": {
        "colab": {
          "base_uri": "https://localhost:8080/"
        },
        "id": "3ldtCtnJVOAV",
        "outputId": "5c2c8de5-5bc3-40a2-f311-68a123092c76"
      },
      "source": [
        "np.sum(x,axis=0)"
      ],
      "execution_count": null,
      "outputs": [
        {
          "output_type": "execute_result",
          "data": {
            "text/plain": [
              "array([12, 15, 18, 21])"
            ]
          },
          "metadata": {
            "tags": []
          },
          "execution_count": 5
        }
      ]
    },
    {
      "cell_type": "code",
      "metadata": {
        "colab": {
          "base_uri": "https://localhost:8080/"
        },
        "id": "FiTYXBY5VRGY",
        "outputId": "df4f165a-ab40-4823-abff-ec2ae5584587"
      },
      "source": [
        "np.sum(x,axis=1)"
      ],
      "execution_count": null,
      "outputs": [
        {
          "output_type": "execute_result",
          "data": {
            "text/plain": [
              "array([ 6, 22, 38])"
            ]
          },
          "metadata": {
            "tags": []
          },
          "execution_count": 6
        }
      ]
    },
    {
      "cell_type": "code",
      "metadata": {
        "colab": {
          "base_uri": "https://localhost:8080/"
        },
        "id": "etJmDrI6VV9k",
        "outputId": "35b5096e-a590-47ee-8b74-fe616f77519d"
      },
      "source": [
        "np.cumsum(x)"
      ],
      "execution_count": null,
      "outputs": [
        {
          "output_type": "execute_result",
          "data": {
            "text/plain": [
              "array([ 0,  1,  3,  6, 10, 15, 21, 28, 36, 45, 55, 66])"
            ]
          },
          "metadata": {
            "tags": []
          },
          "execution_count": 7
        }
      ]
    },
    {
      "cell_type": "code",
      "metadata": {
        "colab": {
          "base_uri": "https://localhost:8080/"
        },
        "id": "CxtTKtGBVZzK",
        "outputId": "c6adc0a3-b0ee-49d3-c85f-c650f19dfc39"
      },
      "source": [
        "np.cumsum(x,axis=0)"
      ],
      "execution_count": null,
      "outputs": [
        {
          "output_type": "execute_result",
          "data": {
            "text/plain": [
              "array([[ 0,  1,  2,  3],\n",
              "       [ 4,  6,  8, 10],\n",
              "       [12, 15, 18, 21]])"
            ]
          },
          "metadata": {
            "tags": []
          },
          "execution_count": 8
        }
      ]
    },
    {
      "cell_type": "markdown",
      "metadata": {
        "id": "GBV2Rr6qYiuF"
      },
      "source": [
        "`prod()`是用于矩阵内求累乘结果："
      ]
    },
    {
      "cell_type": "code",
      "metadata": {
        "colab": {
          "base_uri": "https://localhost:8080/"
        },
        "id": "oC0ejNNpWYm5",
        "outputId": "6ebad198-5894-4280-cbcc-35f8449a75a2"
      },
      "source": [
        "np.prod(x[1:,]) # 因为元素有0，直接计算结果为0"
      ],
      "execution_count": null,
      "outputs": [
        {
          "output_type": "execute_result",
          "data": {
            "text/plain": [
              "6652800"
            ]
          },
          "metadata": {
            "tags": []
          },
          "execution_count": 10
        }
      ]
    },
    {
      "cell_type": "markdown",
      "metadata": {
        "id": "d3Pf3CR4YpmL"
      },
      "source": [
        "相似的还有`diff()`，用于求矩阵内元素差值。\n",
        "\n",
        "有一个感觉比较有用但是没有用过的是`clip(a, a_min, a_max, out=None, **kwargs)`函数，这个函数可以对矩阵内元素进行修剪，我记得RNN里面讲过对梯队的修剪。"
      ]
    },
    {
      "cell_type": "code",
      "metadata": {
        "colab": {
          "base_uri": "https://localhost:8080/"
        },
        "id": "biVpzVozZG_3",
        "outputId": "43b3000b-4230-4706-b35d-5ec80d539eb4"
      },
      "source": [
        "np.clip(x,5,10)"
      ],
      "execution_count": null,
      "outputs": [
        {
          "output_type": "execute_result",
          "data": {
            "text/plain": [
              "array([[ 5,  5,  5,  5],\n",
              "       [ 5,  5,  6,  7],\n",
              "       [ 8,  9, 10, 10]])"
            ]
          },
          "metadata": {
            "tags": []
          },
          "execution_count": 11
        }
      ]
    },
    {
      "cell_type": "markdown",
      "metadata": {
        "id": "eflvXv7waWBQ"
      },
      "source": [
        "# 第五章 排序，搜索和计数"
      ]
    },
    {
      "cell_type": "markdown",
      "metadata": {
        "id": "EutPGhYVOuIa"
      },
      "source": [
        "## 排序"
      ]
    },
    {
      "cell_type": "markdown",
      "metadata": {
        "id": "VkEQCLDQabF0"
      },
      "source": [
        "### numpy.sort()\n",
        "\n",
        "最简单最基础的就是`sort()`了，`numpy.sort(a[, axis=-1, kind='quicksort', order=None])`，其中kind表示排序方法，order表示排序的字段名。"
      ]
    },
    {
      "cell_type": "code",
      "metadata": {
        "colab": {
          "base_uri": "https://localhost:8080/"
        },
        "id": "IY2UT8QaEUKF",
        "outputId": "92846842-7351-49b1-f576-933bbaa78a2b"
      },
      "source": [
        "x = np.random.random((3,4))\n",
        "x"
      ],
      "execution_count": null,
      "outputs": [
        {
          "output_type": "execute_result",
          "data": {
            "text/plain": [
              "array([[0.21551154, 0.36021939, 0.98967085, 0.02223871],\n",
              "       [0.81106705, 0.59749857, 0.28094851, 0.62687202],\n",
              "       [0.01114364, 0.86642825, 0.29220774, 0.258713  ]])"
            ]
          },
          "metadata": {
            "tags": []
          },
          "execution_count": 5
        }
      ]
    },
    {
      "cell_type": "markdown",
      "metadata": {
        "id": "3E_sjgSMEzsM"
      },
      "source": [
        "一定一定要注意axis的设置。"
      ]
    },
    {
      "cell_type": "code",
      "metadata": {
        "colab": {
          "base_uri": "https://localhost:8080/"
        },
        "id": "n8cy1VS_Ekel",
        "outputId": "e5044b33-e3ee-45f0-d520-8ae738caa506"
      },
      "source": [
        "np.sort(x,axis=0)"
      ],
      "execution_count": null,
      "outputs": [
        {
          "output_type": "execute_result",
          "data": {
            "text/plain": [
              "array([[0.01114364, 0.36021939, 0.28094851, 0.02223871],\n",
              "       [0.21551154, 0.59749857, 0.29220774, 0.258713  ],\n",
              "       [0.81106705, 0.86642825, 0.98967085, 0.62687202]])"
            ]
          },
          "metadata": {
            "tags": []
          },
          "execution_count": 6
        }
      ]
    },
    {
      "cell_type": "code",
      "metadata": {
        "colab": {
          "base_uri": "https://localhost:8080/"
        },
        "id": "Pl3hakGCEuHe",
        "outputId": "00b18712-037c-46c2-9feb-d4495d0eb5fa"
      },
      "source": [
        "np.sort(x,axis=1)"
      ],
      "execution_count": null,
      "outputs": [
        {
          "output_type": "execute_result",
          "data": {
            "text/plain": [
              "array([[0.02223871, 0.21551154, 0.36021939, 0.98967085],\n",
              "       [0.28094851, 0.59749857, 0.62687202, 0.81106705],\n",
              "       [0.01114364, 0.258713  , 0.29220774, 0.86642825]])"
            ]
          },
          "metadata": {
            "tags": []
          },
          "execution_count": 7
        }
      ]
    },
    {
      "cell_type": "markdown",
      "metadata": {
        "id": "cBRhHEsKE7of"
      },
      "source": [
        "### numpy.argsort()\n",
        "\n",
        "有时候我们会想用元素的索引位置替代排序后的实际结果，比如要shuffle数据的时候，需要同时将label和data进行shuffle，但很多时候两者是分开的，这时候使用`argsort()`就会使得操作方便很多。\n",
        "\n",
        "`numpy.argsort(a[, axis=-1, kind='quicksort', order=None]) `"
      ]
    },
    {
      "cell_type": "code",
      "metadata": {
        "colab": {
          "base_uri": "https://localhost:8080/"
        },
        "id": "lKoCcFHEFh9b",
        "outputId": "4c1da1c3-25b3-46ad-f899-deac93612c45"
      },
      "source": [
        "np.argsort(x)"
      ],
      "execution_count": null,
      "outputs": [
        {
          "output_type": "execute_result",
          "data": {
            "text/plain": [
              "array([[3, 0, 1, 2],\n",
              "       [2, 1, 3, 0],\n",
              "       [0, 3, 2, 1]])"
            ]
          },
          "metadata": {
            "tags": []
          },
          "execution_count": 8
        }
      ]
    },
    {
      "cell_type": "markdown",
      "metadata": {
        "id": "KAFjD85IOxgC"
      },
      "source": [
        "## 搜索\n",
        "\n",
        "`numpy.argmax(a[, axis=None, out=None])`\n",
        "\n",
        "`numpy.argmin(a[, axis=None, out=None])`"
      ]
    },
    {
      "cell_type": "code",
      "metadata": {
        "colab": {
          "base_uri": "https://localhost:8080/"
        },
        "id": "hcKQiggRPIDe",
        "outputId": "d300ee0d-453c-418a-ed56-340b55b8e49f"
      },
      "source": [
        "x = np.arange(12).reshape(3,4)\n",
        "np.argmax(x)"
      ],
      "execution_count": null,
      "outputs": [
        {
          "output_type": "execute_result",
          "data": {
            "text/plain": [
              "11"
            ]
          },
          "metadata": {
            "tags": []
          },
          "execution_count": 20
        }
      ]
    },
    {
      "cell_type": "code",
      "metadata": {
        "colab": {
          "base_uri": "https://localhost:8080/"
        },
        "id": "fqWqLMjgPTV0",
        "outputId": "037869a4-f15a-4267-f3e9-c394603571ba"
      },
      "source": [
        "np.argmax(x,axis=0)"
      ],
      "execution_count": null,
      "outputs": [
        {
          "output_type": "execute_result",
          "data": {
            "text/plain": [
              "array([2, 2, 2, 2])"
            ]
          },
          "metadata": {
            "tags": []
          },
          "execution_count": 22
        }
      ]
    },
    {
      "cell_type": "code",
      "metadata": {
        "colab": {
          "base_uri": "https://localhost:8080/"
        },
        "id": "YXqdTyLzPioY",
        "outputId": "c4c54583-31b0-4950-86d7-4d3b1e910170"
      },
      "source": [
        "np.argmax(x,axis=1)"
      ],
      "execution_count": null,
      "outputs": [
        {
          "output_type": "execute_result",
          "data": {
            "text/plain": [
              "array([3, 3, 3])"
            ]
          },
          "metadata": {
            "tags": []
          },
          "execution_count": 23
        }
      ]
    },
    {
      "cell_type": "markdown",
      "metadata": {
        "id": "TbSzFnSkPu84"
      },
      "source": [
        "`numpy.where(condition, [x=None, y=None])`\n",
        "\n",
        " Return elements chosen from x or y depending on condition."
      ]
    },
    {
      "cell_type": "code",
      "metadata": {
        "colab": {
          "base_uri": "https://localhost:8080/"
        },
        "id": "PP46S4LiPuUb",
        "outputId": "f6673a39-c8ab-4fe3-92a6-1eb45f66bdfb"
      },
      "source": [
        "np.where(x<5,x,-x)"
      ],
      "execution_count": null,
      "outputs": [
        {
          "output_type": "execute_result",
          "data": {
            "text/plain": [
              "array([[  0,   1,   2,   3],\n",
              "       [  4,  -5,  -6,  -7],\n",
              "       [ -8,  -9, -10, -11]])"
            ]
          },
          "metadata": {
            "tags": []
          },
          "execution_count": 25
        }
      ]
    },
    {
      "cell_type": "markdown",
      "metadata": {
        "id": "MxNkOjBfQZUs"
      },
      "source": [
        "## 集合操作\n",
        "\n",
        "`numpy.unique(ar, return_index=False, return_inverse=False, return_counts=False, axis=None)` \n",
        "\n",
        "Find the unique elements of an array.\n",
        "- return_index=True 表示返回新列表元素在旧列表中的位置。\n",
        "- return_inverse=True表示返回旧列表元素在新列表中的位置。\n",
        "- return_counts=True表示返回新列表元素在旧列表中出现的次数。\n"
      ]
    },
    {
      "cell_type": "code",
      "metadata": {
        "colab": {
          "base_uri": "https://localhost:8080/"
        },
        "id": "ynrEdjvW_paR",
        "outputId": "fe646bb9-ea87-4b99-a5f5-dfc18e5f52ee"
      },
      "source": [
        "np.unique([[1,2,3,2,1],[1,2,3,3,2],[1,2,3,2,2]])"
      ],
      "execution_count": null,
      "outputs": [
        {
          "output_type": "execute_result",
          "data": {
            "text/plain": [
              "array([1, 2, 3])"
            ]
          },
          "metadata": {
            "tags": []
          },
          "execution_count": 13
        }
      ]
    },
    {
      "cell_type": "code",
      "metadata": {
        "colab": {
          "base_uri": "https://localhost:8080/"
        },
        "id": "NXX0QxFR_xnf",
        "outputId": "07884f9f-b17a-4c86-9a0b-62f7dad3d6e3"
      },
      "source": [
        "np.unique([[1,2,3,2,1],[1,2,3,3,2],[1,2,3,2,2]],axis=1)"
      ],
      "execution_count": null,
      "outputs": [
        {
          "output_type": "execute_result",
          "data": {
            "text/plain": [
              "array([[1, 1, 2, 2, 3],\n",
              "       [1, 2, 2, 3, 3],\n",
              "       [1, 2, 2, 2, 3]])"
            ]
          },
          "metadata": {
            "tags": []
          },
          "execution_count": 12
        }
      ]
    },
    {
      "cell_type": "code",
      "metadata": {
        "colab": {
          "base_uri": "https://localhost:8080/"
        },
        "id": "96h7D0XFAZP_",
        "outputId": "441962de-b549-4d91-ba0d-141af5a3f6b7"
      },
      "source": [
        "np.unique([[1,2,3,2,1],[1,2,3,3,2],[1,2,3,2,2]],axis=0)"
      ],
      "execution_count": null,
      "outputs": [
        {
          "output_type": "execute_result",
          "data": {
            "text/plain": [
              "array([[1, 2, 3, 2, 1],\n",
              "       [1, 2, 3, 2, 2],\n",
              "       [1, 2, 3, 3, 2]])"
            ]
          },
          "metadata": {
            "tags": []
          },
          "execution_count": 11
        }
      ]
    },
    {
      "cell_type": "markdown",
      "metadata": {
        "id": "TuCvEXHGBYS_"
      },
      "source": [
        "# 第九章 线性代数"
      ]
    },
    {
      "cell_type": "markdown",
      "metadata": {
        "id": "recbodHmBlhb"
      },
      "source": [
        "`numpy.dot(a, b[, out])`\n",
        "\n",
        "计算两个矩阵的乘积，如果是一维数组则是它们的内积。"
      ]
    },
    {
      "cell_type": "code",
      "metadata": {
        "colab": {
          "base_uri": "https://localhost:8080/"
        },
        "id": "T4Ywcq5UBgCT",
        "outputId": "a43b45ac-a853-4359-a139-f06b34d57833"
      },
      "source": [
        "x = np.array([1, 2, 3, 4, 5])\n",
        "y = np.array([2, 3, 4, 5, 6])\n",
        "np.dot(x, y)"
      ],
      "execution_count": null,
      "outputs": [
        {
          "output_type": "execute_result",
          "data": {
            "text/plain": [
              "70"
            ]
          },
          "metadata": {
            "tags": []
          },
          "execution_count": 14
        }
      ]
    },
    {
      "cell_type": "markdown",
      "metadata": {
        "id": "2quOLoaDBs1B"
      },
      "source": [
        "`numpy.linalg.eig(a)` 计算方阵的特征值和特征向量。\n",
        "\n",
        "`numpy.linalg.eigvals(a)` 计算方阵的特征值。"
      ]
    },
    {
      "cell_type": "code",
      "metadata": {
        "colab": {
          "base_uri": "https://localhost:8080/"
        },
        "id": "kswRb5imBv8D",
        "outputId": "0c95acd0-40ad-498e-9ea1-5cf4a3d5d2d8"
      },
      "source": [
        "x = np.diag((1, 2, 3)) \n",
        "np.linalg.eigvals(x)"
      ],
      "execution_count": null,
      "outputs": [
        {
          "output_type": "execute_result",
          "data": {
            "text/plain": [
              "array([1., 2., 3.])"
            ]
          },
          "metadata": {
            "tags": []
          },
          "execution_count": 15
        }
      ]
    },
    {
      "cell_type": "code",
      "metadata": {
        "colab": {
          "base_uri": "https://localhost:8080/"
        },
        "id": "MoENsiBaB7mY",
        "outputId": "ed97f3da-d4d0-42d8-94e2-65ded0dc4467"
      },
      "source": [
        "np.linalg.eig(x) "
      ],
      "execution_count": null,
      "outputs": [
        {
          "output_type": "execute_result",
          "data": {
            "text/plain": [
              "(array([1., 2., 3.]), array([[1., 0., 0.],\n",
              "        [0., 1., 0.],\n",
              "        [0., 0., 1.]]))"
            ]
          },
          "metadata": {
            "tags": []
          },
          "execution_count": 16
        }
      ]
    },
    {
      "cell_type": "markdown",
      "metadata": {
        "id": "HTItxTnzCH_z"
      },
      "source": [
        "`u, s, v = numpy.linalg.svd(a, full_matrices=True, compute_uv=True, hermitian=False)`\n",
        "\n",
        "奇异值分解\n",
        "- a 是一个形如(M,N)矩阵\n",
        "- full_matrices的取值是为False或者True，默认值为True，这时u的大小为(M,M)，v的大小为(N,N)。否则u的大小为(M,K)，v的大小为(K,N) ，K=min(M,N)。\n",
        "- compute_uv的取值是为False或者True，默认值为True，表示计算u,s,v。为False的时候只计算s。\n",
        "- 总共有三个返回值u,s,v，u大小为(M,M)，s大小为(M,N)，v大小为(N,N)，a = u*s*v。\n",
        "- 其中s是对矩阵a的奇异值分解。s除了对角元素不为0，其他元素都为0，并且对角元素从大到小排列。s中有n个奇异值，一般排在后面的比较接近0，所以仅保留比较大的r个奇异值。\n",
        "\n",
        "注：Numpy中返回的v是通常所谓奇异值分解a=u*s*v'中v的转置。"
      ]
    },
    {
      "cell_type": "code",
      "metadata": {
        "id": "Z4JOyvljCV-t"
      },
      "source": [
        "A = np.array([[4, 11, 14], [8, 7, -2]])\n",
        "u, s, vh = np.linalg.svd(A, full_matrices=False)"
      ],
      "execution_count": null,
      "outputs": []
    },
    {
      "cell_type": "code",
      "metadata": {
        "colab": {
          "base_uri": "https://localhost:8080/"
        },
        "id": "3uYIxyhACat6",
        "outputId": "5404e260-1b29-4f2a-af29-f1585cb685a0"
      },
      "source": [
        "u"
      ],
      "execution_count": null,
      "outputs": [
        {
          "output_type": "execute_result",
          "data": {
            "text/plain": [
              "array([[-0.9486833 , -0.31622777],\n",
              "       [-0.31622777,  0.9486833 ]])"
            ]
          },
          "metadata": {
            "tags": []
          },
          "execution_count": 18
        }
      ]
    },
    {
      "cell_type": "code",
      "metadata": {
        "colab": {
          "base_uri": "https://localhost:8080/"
        },
        "id": "vYztmGmVCcHQ",
        "outputId": "8f25f8bf-b8a4-42d2-91f8-75a6320bb1ab"
      },
      "source": [
        "s"
      ],
      "execution_count": null,
      "outputs": [
        {
          "output_type": "execute_result",
          "data": {
            "text/plain": [
              "array([18.97366596,  9.48683298])"
            ]
          },
          "metadata": {
            "tags": []
          },
          "execution_count": 19
        }
      ]
    },
    {
      "cell_type": "code",
      "metadata": {
        "colab": {
          "base_uri": "https://localhost:8080/"
        },
        "id": "x94MIvQ5CdKS",
        "outputId": "62b22e05-b1ea-4951-9db5-36fb1ee9497e"
      },
      "source": [
        "vh"
      ],
      "execution_count": null,
      "outputs": [
        {
          "output_type": "execute_result",
          "data": {
            "text/plain": [
              "array([[-0.33333333, -0.66666667, -0.66666667],\n",
              "       [ 0.66666667,  0.33333333, -0.66666667]])"
            ]
          },
          "metadata": {
            "tags": []
          },
          "execution_count": 20
        }
      ]
    }
  ]
}